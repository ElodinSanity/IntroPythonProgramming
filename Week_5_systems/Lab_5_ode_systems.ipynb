{
 "cells": [
  {
   "cell_type": "code",
   "execution_count": 1,
   "metadata": {
    "deletable": false,
    "editable": false
   },
   "outputs": [],
   "source": [
    "# Initialize Otter\n",
    "import otter\n",
    "grader = otter.Notebook(\"Lab_5_ode_systems.ipynb\")"
   ]
  },
  {
   "cell_type": "markdown",
   "metadata": {},
   "source": [
    "# Predator-prey iterative functions\n",
    "\n",
    "Continuing on from lec_act_5_predator_prey - we're going to add the compute n time steps and plotting\n",
    "\n",
    "Slides for the lab: https://docs.google.com/presentation/d/1wd1SpTJiezfroDizaFkA6UxCgMQE_A4ZKCyJoNfa0cM/edit?usp=sharing"
   ]
  },
  {
   "cell_type": "code",
   "execution_count": 2,
   "metadata": {},
   "outputs": [],
   "source": [
    "# Doing the imports for you - notice scipy. You may need to install this library\n",
    "import numpy as np\n",
    "import matplotlib.pyplot as plt\n",
    "from scipy import integrate"
   ]
  },
  {
   "cell_type": "markdown",
   "metadata": {
    "deletable": false,
    "editable": false
   },
   "source": [
    "# Copy functions over\n",
    "\n",
    "TODO 1: Copy your three functions from lec_act_5_predator_prey.ipynb to here (**compute_x_from_prey_predator** and **compute_one_time_step**). "
   ]
  },
  {
   "cell_type": "code",
   "execution_count": 3,
   "metadata": {
    "tags": [
     "otter_answer_cell"
    ]
   },
   "outputs": [],
   "source": [
    "# compute_prey_from_prey_and_predator\n",
    "def compute_prey_from_prey_and_predator(prey, predator, params):\n",
    "    \"\"\"\n",
    "    Description: Calculates the new number of prey\n",
    "    \n",
    "    Inputs:\n",
    "    --------\n",
    "    prey - int, current number of prey\n",
    "    predator - int, current number of predators\n",
    "    params - dict, parameters of the \"simulation\"\n",
    "\n",
    "    Returns:\n",
    "    --------\n",
    "    new_num_prey - float, new number of prey\n",
    "    \"\"\"\n",
    "    # TODO: Calculate the new prey value from the input prey/predator values and delta t (see equation in the cell above)\n",
    "    #  Note: To get, eg, the \"Prey reproduce\" value use params[\"Prey reproduce\"].\n",
    "    dPrey_dt = params[\"Prey reproduce\"] * prey - params[\"Prey eaten\"] * prey * predator\n",
    "    new_num_prey = prey + params[\"delta t\"] * dPrey_dt\n",
    "\n",
    "    return new_num_prey"
   ]
  },
  {
   "cell_type": "code",
   "execution_count": 4,
   "metadata": {
    "tags": [
     "otter_answer_cell"
    ]
   },
   "outputs": [],
   "source": [
    "# compute_predator_from_prey_and_predator\n",
    "def compute_predator_from_prey_and_predator(prey, predator, params):\n",
    "    \"\"\"\n",
    "    Description: Calculates number of predators\n",
    "\n",
    "    Inputs:\n",
    "    -------\n",
    "    prey - int, current number of prey\n",
    "    predator - int, current number of predators\n",
    "    params - dict, parameters of the \"simulation\"\n",
    "\n",
    "    Returns:\n",
    "    --------\n",
    "    new_num_predators - float, new number of predators\n",
    "    \"\"\"\n",
    "    # TODO: Calculate the new predator value from the input prey/predator values and delta t (see equation)\n",
    "    #  Note: To get, eg, the \"Prey reproduce\" value use params[\"Prey reproduce\"].\n",
    "    dPredator_dt = - params[\"Predator loss\"] * predator + params[\"Predator reproduce\"] * prey * predator\n",
    "    new_num_predators = predator + params[\"delta t\"] * dPredator_dt\n",
    "    \n",
    "    return new_num_predators\n"
   ]
  },
  {
   "cell_type": "code",
   "execution_count": 5,
   "metadata": {
    "tags": [
     "otter_answer_cell"
    ]
   },
   "outputs": [],
   "source": [
    "# compute_one_time_step\n",
    "def compute_one_time_step(prey, predator, params):\n",
    "     \"\"\"\n",
    "     Description: Calculates number of predators and prey and reurns as a tuple\n",
    "\n",
    "     Inputs:\n",
    "     -------\n",
    "     prey - int, current number of prey\n",
    "     predator - int, current number of predators\n",
    "     params - dict, parameters of the \"simulation\"\n",
    "\n",
    "     Returns:\n",
    "     --------\n",
    "     Tuple, new number of prey and predators\n",
    "     \"\"\"\n",
    "     # TODO: Calculate the new prey/predator values from the input prey/predator values and delta t (see equation)\n",
    "     # Do NOT re-write the equations - call the functions you already wrote\n",
    "    \n",
    "     new_prey = compute_prey_from_prey_and_predator(prey, predator, params)\n",
    "     new_predator = compute_predator_from_prey_and_predator(prey, predator, params)\n",
    "\n",
    "     return (new_prey, new_predator)"
   ]
  },
  {
   "cell_type": "code",
   "execution_count": 6,
   "metadata": {
    "tags": [
     "otter_answer_cell"
    ]
   },
   "outputs": [
    {
     "name": "stdout",
     "output_type": "stream",
     "text": [
      "Checking prey new 90.0, should be 90 predator new 118.0, should be 118\n"
     ]
    }
   ],
   "source": [
    "# Check code\n",
    "delta_t = 0.1\n",
    "n_days = 40\n",
    "n_time_steps = int(n_days / delta_t)\n",
    "params = {\"Prey reproduce\":1.0,\n",
    "          \"Prey eaten\":0.02,\n",
    "          \"Predator loss\":1.2,\n",
    "          \"Predator reproduce\":0.03,\n",
    "          \"delta t\": delta_t,   # unit: days\n",
    "          \"n days\": n_days,     # unit: days\n",
    "          \"n time steps\": n_time_steps}\n",
    "\n",
    "prey_initial = 100\n",
    "predator_initial = 100\n",
    "\n",
    "prey_new, predator_new = compute_one_time_step(prey_initial, predator_initial, params)\n",
    "\n",
    "print(f\"Checking prey new {prey_new}, should be 90 predator new {predator_new}, should be 118\")"
   ]
  },
  {
   "cell_type": "code",
   "execution_count": 7,
   "metadata": {
    "deletable": false,
    "editable": false
   },
   "outputs": [
    {
     "data": {
      "text/html": [
       "<p><strong><pre style='display: inline;'>copy_correct</pre></strong> passed! 🙌</p>"
      ],
      "text/plain": [
       "copy_correct results: All test cases passed!"
      ]
     },
     "execution_count": 7,
     "metadata": {},
     "output_type": "execute_result"
    }
   ],
   "source": [
    "grader.check(\"copy_correct\")"
   ]
  },
  {
   "cell_type": "markdown",
   "metadata": {
    "deletable": false,
    "editable": false
   },
   "source": [
    "# Iterate n times\n",
    "\n",
    "Write a function that uses your **compute_one_time_step** to calculate how the prey and predator values change over time."
   ]
  },
  {
   "cell_type": "code",
   "execution_count": 8,
   "metadata": {
    "tags": [
     "otter_answer_cell"
    ]
   },
   "outputs": [
    {
     "name": "stdout",
     "output_type": "stream",
     "text": [
      "[0.  0.1 0.2 0.3 0.4 0.5 0.6 0.7 0.8 0.9]\n"
     ]
    }
   ],
   "source": [
    "# EXAMPLE CODE\n",
    "# Computing and storing values for an iterative system. \n",
    "# Equation: x_i+1 = x_i + dx\n",
    "\n",
    "start_x = 0\n",
    "dx = 0.1\n",
    "n_timesteps_example = 10\n",
    "\n",
    "# Place to put the data\n",
    "keep_values = np.zeros((n_timesteps_example,))\n",
    "\n",
    "cur_x = start_x  # you don't really have to do this, but the code looks \"cleaner\" this way (and you don't override the start value)\n",
    "for i in range(0, n_timesteps_example):\n",
    "    # This will put the starting value in the first column\n",
    "    keep_values[i] = cur_x\n",
    "\n",
    "    # Now update x - \n",
    "    #  the one on the left is the value at the next time step, the one on the right is the current time step\n",
    "    next_x = cur_x + dx\n",
    "\n",
    "    # Now make sure that cur_x has the new value for the next loop\n",
    "    cur_x = next_x\n",
    "\n",
    "print(keep_values)"
   ]
  },
  {
   "cell_type": "code",
   "execution_count": 9,
   "metadata": {
    "tags": [
     "otter_answer_cell"
    ]
   },
   "outputs": [],
   "source": [
    "# Note that you could use either the number of time steps OR total time for the last parameter\n",
    "#  Timesteps is a bit safer because at least you know it will only go for so many time steps...\n",
    "def calculate_n_time_steps(prey_initial, predator_initial, params):\n",
    "    \"\"\" Call compute one time step multiple times and store it in a numpy array\n",
    "    @param prey - the starting prey value (number)\n",
    "    @param predator - the ending predator value (number)\n",
    "    @param params - the four parameters of the Lotka-Volterra system, plus delta t and time step, in a dictionary\n",
    "    @return prey, predator values as a 2xtimesteps numpy array\n",
    "    \"\"\"\n",
    "    # TODO:\n",
    "    #   Allocate a 2xn time steps numpy array to put the data in\n",
    "    #   Set the first element of that data to the initial prey/predator values\n",
    "    #   for the remaining values\n",
    "    #     Calculate the next from the previous\n",
    "    #     Store the next values in the array\n",
    "    #   return the array\n",
    "\n",
    "    stored_data = np.zeros((2, params[\"n time steps\"]))\n",
    "\n",
    "    stored_prey = prey_initial\n",
    "    stored_predator = predator_initial\n",
    "\n",
    "    #populating the intial prey/predator values\n",
    "    stored_data[0,0] = prey_initial \n",
    "    stored_data[1,0] = predator_initial\n",
    "\n",
    "    for i in range(1, params[\"n time steps\"]): #loop that goes from 1 to number of time steps to exclude first element\n",
    "        next_prey, next_predator = compute_one_time_step(stored_prey, stored_predator, params) #calculating next prey/predator values\n",
    "\n",
    "        #populating stored_values with next time step values\n",
    "        stored_data[0, i] = next_prey\n",
    "        stored_data[1, i] = next_predator\n",
    "\n",
    "        #storing next prey/preddator values\n",
    "        stored_prey = next_prey\n",
    "        stored_predator = next_predator\n",
    "\n",
    "    return stored_data"
   ]
  },
  {
   "cell_type": "code",
   "execution_count": 10,
   "metadata": {
    "tags": [
     "otter_answer_cell"
    ]
   },
   "outputs": [
    {
     "name": "stdout",
     "output_type": "stream",
     "text": [
      "Shape of new_populations_check should be 2 x 400, is (2, 400)\n",
      "Last time step should be [-1.10352058e-04  2.17613504e-01], is [-1.10352058e-04  2.17613504e-01]\n"
     ]
    }
   ],
   "source": [
    "new_populations_check = calculate_n_time_steps(prey_initial=prey_initial, predator_initial=predator_initial, params=params)\n",
    "\n",
    "print(f\"Shape of new_populations_check should be 2 x {params['n time steps']}, is {new_populations_check.shape}\")\n",
    "\n",
    "print(f\"Last time step should be [-1.10352058e-04  2.17613504e-01], is {new_populations_check[:, -1]}\")\n"
   ]
  },
  {
   "cell_type": "code",
   "execution_count": 11,
   "metadata": {
    "deletable": false,
    "editable": false
   },
   "outputs": [
    {
     "data": {
      "text/html": [
       "<p><strong><pre style='display: inline;'>compute_n_time_steps</pre></strong> passed! 🌟</p>"
      ],
      "text/plain": [
       "compute_n_time_steps results: All test cases passed!"
      ]
     },
     "execution_count": 11,
     "metadata": {},
     "output_type": "execute_result"
    }
   ],
   "source": [
    "grader.check(\"compute_n_time_steps\")"
   ]
  },
  {
   "cell_type": "markdown",
   "metadata": {
    "deletable": false,
    "editable": false
   },
   "source": [
    "<!-- BEGIN QUESTION -->\n",
    "\n",
    "# Plot the predator/prey results (Euler)\n"
   ]
  },
  {
   "cell_type": "code",
   "execution_count": 12,
   "metadata": {
    "tags": [
     "otter_answer_cell"
    ]
   },
   "outputs": [],
   "source": [
    "# Plot the prey and predator cycles. \n",
    "def plot_results(axs, prey_pred_values, params):\n",
    "    \"\"\" plot the results of running the system\n",
    "    @param axs - the axes to plot in\n",
    "    @param prey_pred_values - x y values in a 2xn numpy array\n",
    "    @param params - the four parameters of the Lotka-Volterra system, plus delta t and time step\n",
    "    @return Nothing\n",
    "    \"\"\"\n",
    "\n",
    "    ts = np.linspace(0, params[\"delta t\"] * params[\"n time steps\"], params[\"n time steps\"])\n",
    "    axs.plot(ts, prey_pred_values[0, :], '-k', label=\"Prey\")\n",
    "    axs.plot(ts, prey_pred_values[1, :], ':g', label=\"Predator\")\n",
    "    \n",
    "    axs.set_xlabel('Days')\n",
    "    axs.set_ylabel('Population')\n",
    "\n",
    "    axs.set_title(f\"d prey = {params['Prey reproduce']} x - {params['Prey eaten']} x y\\nd pred = {-params['Predator loss']} y + {params['Predator reproduce']} x y\")\n",
    "    axs.legend()"
   ]
  },
  {
   "cell_type": "code",
   "execution_count": 13,
   "metadata": {
    "tags": [
     "otter_answer_cell"
    ]
   },
   "outputs": [
    {
     "data": {
      "image/png": "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",
      "text/plain": [
       "<Figure size 400x400 with 1 Axes>"
      ]
     },
     "metadata": {},
     "output_type": "display_data"
    }
   ],
   "source": [
    "# TODO - notice that the number of prey/predators is creeping up - this is because Euler integration is not\n",
    "#. very accurate.\n",
    "# TODO Try changing delta_t - if you make it smaller, what happens to the creep? What if you make it bigger?\n",
    "# Note: If you make delta_t tooooo small, it will cause the autograder to crash (and make your code run really slow). So don't make it less than 0.00001 when you hand in.\n",
    "delta_t = 0.005\n",
    "n_days = 40\n",
    "n_time_steps = int(n_days / delta_t)\n",
    "params_full = {\"Prey reproduce\":1.0,\n",
    "          \"Prey eaten\":0.01,\n",
    "          \"Predator loss\":1.2,\n",
    "          \"Predator reproduce\":0.02,\n",
    "          \"delta t\": delta_t,   # day\n",
    "          \"n days\": n_days,     # unit: days\n",
    "          \"n time steps\":n_time_steps}\n",
    "\n",
    "new_populations_full = calculate_n_time_steps(prey_initial=prey_initial, predator_initial=predator_initial, params=params_full)\n",
    "\n",
    "nrows = 1\n",
    "ncols = 1\n",
    "_, axs = plt.subplots(nrows, ncols, figsize=(4, 4))\n",
    "\n",
    "plot_results(axs, new_populations_full, params_full)\n"
   ]
  },
  {
   "cell_type": "code",
   "execution_count": 14,
   "metadata": {
    "tags": [
     "otter_answer_cell"
    ]
   },
   "outputs": [
    {
     "name": "stdout",
     "output_type": "stream",
     "text": [
      "This is a manually-graded question; there is no grader.check() function. See rubric and slides for more information on expected output.\n"
     ]
    }
   ],
   "source": [
    "# Manual grade\n",
    "print(\"This is a manually-graded question; there is no grader.check() function. See rubric and slides for more information on expected output.\")"
   ]
  },
  {
   "cell_type": "markdown",
   "metadata": {
    "deletable": false,
    "editable": false
   },
   "source": [
    "<!-- END QUESTION -->\n",
    "\n",
    "# Using the ODE solver\n",
    "\n",
    "TODO: look over the instructions here first: https://scientific-python.readthedocs.io/en/latest/notebooks_rst/3_Ordinary_Differential_Equations/02_Examples/Lotka_Volterra_model.html\n",
    "\n",
    "This is an example of how generalization makes things a bit confusing - the function passed TO the ode solver to calculate the derivitive is defined by\n",
    "- what the current input value is. Because the ode solver can work in any dimension, this is a numpy array. In our case, we only have two dimensions. But it's up to us to \"unpack\" the numpy array into our variables\n",
    "- the current time with which to calculate the derivative. For example, if dx/dt = t * x + 3, then this would be the t. In our case, the derivatives do NOT depend on t, just prey/predator values, so we can ignore t\n",
    "- one (or more) parameters specified by YOU, the caller. This is how you get \"arbitrary\" values into your function...\n",
    "\n",
    "In the example in the link above, they pass in each \"user\" parameter (alpha, beta, delta, gamma) as an individual paramter, using the args = () mechanism. We are just going to pass all of our parameters in as a dictionary, as we did above. Note that this is (somewhat) slower because of doing the key/value extraction every call\n",
    "\n",
    "- The derivative function should return a numpy array of the same dimension as the input array\n",
    "\n",
    "Optional: use the args=(a,b,g,d) approach instead.\n",
    "\n",
    "TODO: Fill in the predator_prey_derivative function"
   ]
  },
  {
   "cell_type": "code",
   "execution_count": 15,
   "metadata": {
    "tags": [
     "otter_answer_cell"
    ]
   },
   "outputs": [],
   "source": [
    "def predator_prey_derivative(prey_predator, t, params):\n",
    "    \"\"\" Slightly modified version of the derivative function from the scipy example\n",
    "    @param prey_predator is current prey and predator as a tuple (X in the example above)\n",
    "    @param t is ignored/not used in the predator/prey derivative - but if dx/dt DID depend on t, then here it is\n",
    "    @param params - our params from before (instead of alpha, beta, delta, gamma) \"\"\"\n",
    "    prey, predator = prey_predator   # Cute trick to get x and y out of the tuple\n",
    "\n",
    "    # TODO dprey_dt should be dprey_dt from your compute_prey_from_prey_and_predator (no multiplication by dt)\n",
    "    #  Note: The t in the input equation is t, NOT dt - so do NOT use it in your equation\n",
    "    # params[\"Prey reproduce\"] will be the same as in the previous bit of code\n",
    "    dprey_dt = params[\"Prey reproduce\"] * prey - params[\"Prey eaten\"] * prey * predator\n",
    "    dpredator_dt = - params[\"Predator loss\"] * predator + params[\"Predator reproduce\"] * prey * predator\n",
    "\n",
    "    \n",
    "    # Stitch back together into a numpy array\n",
    "    return np.array([dprey_dt, dpredator_dt])"
   ]
  },
  {
   "cell_type": "code",
   "execution_count": 16,
   "metadata": {
    "tags": [
     "otter_answer_cell"
    ]
   },
   "outputs": [
    {
     "name": "stdout",
     "output_type": "stream",
     "text": [
      "Derivative result is [ 0. 80.], should be [ 0. 80.]\n"
     ]
    }
   ],
   "source": [
    "# Check the function works\n",
    "# Huh, what's with the _? This is Python syntax for: There's a variable, but I don't care what value it is\n",
    "derivs = predator_prey_derivative(np.array([prey_initial, predator_initial]), _, params_full)\n",
    "\n",
    "print(f\"Derivative result is {derivs}, should be [ 0. 80.]\")"
   ]
  },
  {
   "cell_type": "code",
   "execution_count": 17,
   "metadata": {
    "deletable": false,
    "editable": false
   },
   "outputs": [
    {
     "data": {
      "text/html": [
       "<p><strong><pre style='display: inline;'>ode_solver_deriv_fc</pre></strong> passed! 🌟</p>"
      ],
      "text/plain": [
       "ode_solver_deriv_fc results: All test cases passed!"
      ]
     },
     "execution_count": 17,
     "metadata": {},
     "output_type": "execute_result"
    }
   ],
   "source": [
    "grader.check(\"ode_solver_deriv_fc\")"
   ]
  },
  {
   "cell_type": "markdown",
   "metadata": {
    "deletable": false,
    "editable": false
   },
   "source": [
    "# Call the ODE solver and plot the results\n",
    "\n",
    "If your function is correct then this will just work.\n",
    "\n",
    "TODO: Try doing args=(params, 3) instead of what's there; what kind of error do you get? Why? Can you change the derivative function to \"fix\" it?\n",
    "\n",
    "TODO: Take out the transpose. What error do you get? Why?"
   ]
  },
  {
   "cell_type": "code",
   "execution_count": 18,
   "metadata": {
    "tags": [
     "otter_answer_cell"
    ]
   },
   "outputs": [],
   "source": [
    "# Now do plot results with the ode solver\n",
    "\n",
    "#  Notice that we turn the input into a numpy array - ode can operate on any numpy array of any dimension...\n",
    "prey_predator_initial = np.array([prey_initial, predator_initial])\n",
    "\n",
    "# The ode solver will return the prey/predator values at these time values\n",
    "#   Note that the ode solver will do the integration between those time steps...\n",
    "ts = np.linspace(0.0, params_full[\"n days\"], params_full[\"n time steps\"])"
   ]
  },
  {
   "cell_type": "code",
   "execution_count": 19,
   "metadata": {
    "tags": [
     "otter_answer_cell"
    ]
   },
   "outputs": [
    {
     "name": "stdout",
     "output_type": "stream",
     "text": [
      "Last value is [65.20086367 51.06237518], should be [65.2xxx 51.0xxx]\n"
     ]
    }
   ],
   "source": [
    "# Crazy python parameter passing\n",
    "#  First argument is a function that takes in x,y and returns dx/dt and dy/dt\n",
    "#  Second argument is the t values to calculate for\n",
    "#  Third argument is an (optional) list of parameters - could be more than one - that get passed to the\n",
    "#    list of parameters following X, t in predator_prey_derivative\n",
    "#  Yes, this is terribly confusing, and can cause a lot of errors that are challenging to debug\n",
    "#   Python quirks - args needs to be a tuple. To make a tuple with one element, add a comma\n",
    "# TODO: Try adding another parameter to the tuple - what error do you get and why?\n",
    "#.TODO: Try passing in prey_initial, predator_intial instead of prey_predator_initial - what kind of error do you get?\n",
    "#It will give an error for passing too many positional arguments\n",
    "new_populations_ode = integrate.odeint(predator_prey_derivative, prey_predator_initial, ts, args=(params_full,))\n",
    "\n",
    "print(f\"Last value is {new_populations_ode[-1]}, should be [65.2xxx 51.0xxx]\")"
   ]
  },
  {
   "cell_type": "code",
   "execution_count": 20,
   "metadata": {
    "tags": [
     "otter_answer_cell"
    ]
   },
   "outputs": [
    {
     "data": {
      "image/png": "iVBORw0KGgoAAAANSUhEUgAAAYEAAAGeCAYAAABy2b1qAAAAOnRFWHRTb2Z0d2FyZQBNYXRwbG90bGliIHZlcnNpb24zLjEwLjEsIGh0dHBzOi8vbWF0cGxvdGxpYi5vcmcvc2/+5QAAAAlwSFlzAAAPYQAAD2EBqD+naQAAwIVJREFUeJztXQV4FFcXvbhbcSe4u7u7O8W1uBYoRYq1OEWKQykUpzgUdwnubsGCe4AAAeb/zs0/281md7MjOztJ3uk3Jdmd3b15O/OunxtBkiSJBAQEBATCJSJ6WgABAQEBAc9BKAEBAQGBcAyhBAQEBATCMYQSEBAQEAjHEEpAQEBAIBxDKAEBAQGBcAyhBAQEBATCMYQSEBAQEAjHEEpAQEBAIBxDKIFwjOHDh1OECBE8LYaAgIAHIZSAgIADzJo1ixo1akRp0qRhZdmmTRtFr//27RuNHz+evLy8KHr06JQ7d25avnw5mQ1a5Xz9+jV16tSJEidOTLFixaJy5crR6dOng523cuVKatGiBWXKlInXs2zZsjr/JQJqIJSAgIADjBs3jvbs2UM5cuSgyJEjK3794MGDaeDAgVSpUiWaPn06K5Pvv/+eVqxYQWaCFjmhQGrUqEHLli2j7t27szJ5+vQpb/A3btwIplQ3bNhAqVOnpgQJErjxLxJQBBDICYRP/PLLLyAPdOtn+Pv7S1+/fpVCI+7cuSN9+/aNf44VK5bUunVrl1/74MEDKUqUKFK3bt0sj+G9SpUqJaVKlUr68uWLZAZolXPlypV8Da1evdry2NOnT6X48eNLzZo1C3LuvXv3LNdCjhw5pDJlyuj+9wgoh/AEwgkOHTpEhQoVYnc/Q4YMNGfOHJdfC6suZ86cdOrUKSpevDjFiBGDQwezZ88Oct6+ffvYzYcFOWTIEEqZMiXFjBmT3r59y88fO3aMqlatSvHixePHy5QpQ4cPH7a8fu/evfz6devWBZMBliae8/b2JqOQNm1a1TkTWLwBAQHUtWtXy2N4ry5dutCDBw+c/h2wpBFawbpbk/zevHmTwy1NmjRRJZPecgL//PMPJU2alOrXr295DLI3btyY3/vTp0+Wx+EBRIyobstp3bo1X7tXrlwJ8niVKlXYq3j48KHd12H90qVLR3Xq1An23MePH/la/OGHHyhcQ4XiEAhlOH/+vBQjRgwpTZo00pgxY6RRo0ZJSZMmlXLnzu2SJwCLLUWKFFKSJEmk7t27S9OmTZNKlizJr12wYIHlvL179/Jj2bNnl/LmzStNnjyZP+/9+/fS7t27pahRo0rFihWTJk2aJP3+++/8+Xjs2LFjFgs0derUUoMGDYLJUL16dSlDhgxO5YSV+ezZM5eOz58/K1pDpZ5Ahw4d+DWyJyHj5s2bvEZYQ2eAZY3zpk6davnbSpQowd/b8+fPFcnuTjkzZswoVatWLdjj8+fP59fj2rMHpZ7Aq1ev2DMpVKiQxTuZPXs2f8bff//t9LWDBw9mb+fFixdBHl+1ahW//sCBA1J4hlAC4QB169aVokePLt29e9fy2OXLl6VIkSK5rARwHjZvGZ8+feKNHopB3lBlJZA+fXrpw4cPlnOxwWTKlEmqUqVKkM0G53h5eUmVKlWyPDZo0CApWrRo0uvXr4OEFyJHjszhK2fw8fHhz3flgKzuVAI1atTgdbAFFCI+/6effgrxPRBOiRkzpnT9+nVpwoQJ/Lr169crktvdcmJd2rVrF+zxLVu28Ou3bdtm93VqwkHbt2/n9xw9erR0+/ZtKXbs2Hxth4Rr167x62bNmhXk8dq1a0vp0qULpgDDG5RnuwRCFb5+/Urbt2+nunXrcsJPRrZs2diV/vfff116HyRGrd3mqFGj8u8IGyBMVLRo0SCuO0JGMs6ePctJQoSIXrx4EeR9K1SoQH///TcnGBEqaNWqFY0ZM4bDDO3bt7dUlXz58oUrS5whWbJktHPnTpf+njx58pA74e/vT9GiRQv2OEIa8vMh4Y8//uAQW8OGDen69evUsmVLu2ENT8qpx9/pKipXrszX3MiRI/n6wGe4EtbMnDkzFSlShJYuXUqdO3fmx16+fElbt26lAQMGhPsyaaEEwjiePXvGNyLK8myRJUsWl5VAihQpOB5te3MBd+7cCaIEkC+whlwlAuXgCG/evOHYbtasWTl3gRtWVgL4Ge+fMWNGpzJiU6hYsSKZAVCC1vFw6zi0/HxI+O6772jatGlcpoq4O34OCZ8/f+YNzhqI0UeKFMktcurxdyrBxIkTOdcAwwJ5oiRJkrj0OhgXqF66e/cu53pWr17NuZCWLVtSeIdQAgK6w/bGh5UPTJgwgfLmzWv3NbFjxw5yw/bq1YsTk9hgjh49ylaxK14PlJ4rwAYLb8ZdSJ48OSe6EXK1tjQfPXpkUaquAF4c8OrVK16P+PHjOz3/yJEjXKdvDR8fH06OukNOvF4+1xpK/05XcebMGU6cAxcuXKBmzZq59LqmTZtSnz592KD4+eefacmSJVSwYEE2hMI7hBII44AViE3ZtmYbuHbtmsvvg+qL9+/fB/EGEKIAHG0wMlCNBMSNG9clSx03bN++fblhCV5MlChRXKqIuX//fjAvxBGw8bmzWQnKbv78+VzNkj17dsvjqJCSnw8J27Zt4/dAyAKbFzwpvN5ZzwLCXLYhMYTJ3CUnnj948KAlnGf9elSAyd6iHsD117ZtW5YTVWroSahXrx57jq4offQzYB2bN2/OVWlTpkzRTbZQDU8nJQRCd2I4ceLEwRLD1jXjcmULKnuQHPbz8wv2/kj82gJJO1QPZc6cWapVq5bLPQk7d+506Xj58qWkV2IYSewrV64ESWbfv3/fYf19ypQpQ6y/RzUMzitcuDCfu3XrVl7bESNGSHpCiZwPHz7kv9O6smrFihXBvnNUX6FPoEmTJg4/V01iGDJC1lOnTknv3r3jaypbtmzSx48fXXr92rVrWdZGjRpxocGTJ08UfX5YhVAC4QDnzp1jJYAS0bFjx3J1hdoS0R49ekjTp0+3lIjOnTvXcp4jJSA/J8uAKh+8Dv+WLl1aqlmzZrDz//nnH0slDxqSPIGNGzdyOS0OlLLmy5fP8jvWVMbChQtZTvxrjf79+/PjnTp1kubNm8eVOPh96dKlIX52q1ateL2w6VqXc2ITPHv2rK5/p6tyQgnicVRhyYCSKFq0KFfqQEHNmDGDN/g4ceJIV69eDfL6/fv3W9YP1xIqc+Tf8ZwzoMQ4QoQI0vDhwy2PobQzYsSILL8rgOGSMGFC/hvslbWGVwglEE6Am6xAgQK8maEkEDXWrnYMQwngxj558iTX+WNzSps2rfTHH38EOc+ZEgDOnDkj1a9fn29ElIHiPRo3bsw3uL0bNkGCBFK8ePHYwvcE5E3P3mG94TtSAvCAfvvtN/47se5YwyVLloT4uRs2bAjmeQFv377l98qTJ4/iPgdncFVOe0oAgFfVvn17/l5R0orr5cSJE8FeL19v9g5n5b/y350/f34pICAgyHN9+vRhReDt7e3S39q1a1f+vGXLlrl0fnhABPzP0yEpAXMDsfPnz5/TxYsXDftMlIQiqVirVi1asGCBYZ8rELaB5DCup8ePH3POQkAQyAmYFOvXr+dKH1QKCQjoAZStoiqoQYMGQgFYQVQHCZgKqCo5f/48jRo1ivLly8f8QgICWoCS0l27dnGDGZoVUX4s8B+EEhAwFUA3DGsNpYd//fWXp8URCAO4fPkyl4WisQwNd66U54YniJyAgICAQDiGyAkICAgIhGMIJSAgICAQjiGUQBhGaBokH5pkFRAISxBKQEDADqcS6snBTwNmUignMKW6AnDoIKFdu3ZtnqQFriVMZRs9erSFWTM0wdfXl6eEgbgO3E+gsr59+7bLrwehXcmSJbkkExxGPXv2pHfv3gU558SJE8zwiVnOWC9QnuMzZW4qAfdCVAcJCNgAIxVRRQKiMsxdAG2xq/jw4QOTnIH6Gtz1qEjB+/3yyy+0e/duHlwfWjwebNZgJAXNN5g3QeT3+++/c9ku1iRhwoROX49zMC8Cazh58mRmQQUVNMgMweUvY9y4cUzoBsrs3LlzcyMXWGPz58/PDLJQogJuhKdblgXch9A0SN4IWV0FxhCCqgCQJ3rZUiU4AuguDh8+HOxx8OrgfUBeZyTkaWtKJ6kB48aN49ceP37c8hi4jEA8iAlwIQH8PMmTJ5fevHljeQzcRHhPTAmTgfXCulkD09RALdK8eXPFcgsogwgHhRGEhkHyeshqBEA7HCdOHFWvxYwCrKEtQHkM2A5KtwXWzNHUM3DfYxqcUUBzFb4na6pmDP2Bdb9q1Sqnr8U1AUprTINDGEkGOsAxO8L69Vgv29kOGIKE8FBI64VGMNCl4xq2rna/efMmh5acUZCDTjxChAi0bt26YM9hYA2egxcX1iHCQWEAGK6B0Xu4GZBgBe8Owg+YRuUqMLSkevXqHIvFoA7cpBgdiZuzXbt2Qc5FNy8e//HHH3noC35GmKNatWpUoEAB/mxwyy9cuJDKly/PfPOFCxfWRVaEW3CEBEzSwqQyswAhDiBRokROz8Okq44dOzJPk3UYBHFzxMihfI0Achvo3Lb97gF8lzt27CA/Pz+HyhLfM75bDG6xBq4VNGthOIwzYEN/8uQJKwJnQLgNDYYIJU2fPp1zDpC9TZs2LNvMmTMdvhaKI3Xq1DxjQFbSMvAYDJRixYpRmIdCz0HAhAhNg+S1yuqMidL6AOukHlAaDnKEihUrSnHjxuU5Ac6AmQRYn4EDBwZ5vGfPnjzTADz6RoSDMBMArxs5cmSw50AXjedsqaKtASZZnAO6Z1uAzz9ZsmROP//vv//m1y9YsMAleZs1a8YMpggjyd/Z+vXrQ3zdoEGDOOxkPQsC8y0wb8AZs2lYgvAEQjlC0yB5WHdaZUU4AdUmIUHv2bZa8NtvvzF3DazSkMZDIpSGChxMVRszZgyHJPAdr1y5ktfNds6zvWSudRUSPDwAyV0wwcpAkhef5QjygHi1Q+RDer2z1169epW6devGVrizudTWQCIZ4cqGDRuyxwSPCuvoyvU0ZswYDn3JM62x1vBiEMoKDxBKIJQjNA2SR+hIq6zp06fnQysgB2RydQyjWmBDgXLEBgOF6gqwMeF1CKOVLl2aFQhCI64MRUep5aJFi4I9DgVim3vAphmSElU7RD6k1zt6LcJmGAMJBYWNGWE9V/M4qOhCWAihRfzsCrJmzco5D4R/ZCWAn3G9Z8yYkcIDhBIQMGyQvL0NQSlg6drWmdsDNg/kHRwBmyxKOa2hN40WEqPY0LGp2SbZnQFeETYyEOlBCeBfKChX5jNjHrG1BQvlgd9RmmmdcA4pX4JNFVa82iHyGEBvfa7t6+29FkoZeaXXr1+zAlQ6pB5epuz9oBw1JK9LRqtWrZhZFK/BNYqyVHgW4QVCCYRyhKZB8nrIis1sxIgRIZ6XNm1apw1e2GhtB7LrCVRKIdmIxCiS7M6Gw9tTYN9//z03naGGHrMVkCx2xSpGb4P1wHh5DZCwRyLUVSCxnytXLjp58qTdvw3emLMKKiS18Tfj9Sg2kPH582cOH1o/JnsHGCCEaw6ej/Xf4Aq2bdtG8+fPZyUISx5eKeR0Zd2bNm1Kffv25RAcPESEypxVFYU5eDopIRC+BslrlfXWrVsuDZI/dOiQZERi+ObNm3xYA38PRi1iTKPSgfYyTp8+bRmKjn8xXN3oPgHMo8ZrrUdFIhmM78o2cY3+AevvFKhatSr3Ccg9F8D8+fP5Pbdu3RpkTnHt2rU5GbtlyxbFciLZnjJlSqlw4cL8XnhvfAZ6M1xF7dq1eeZ25syZpVq1aknhCYJKOgwApXxFihThcrmuXbtyUgvlcggp4LmQvmJYiLDO8TpYQMgFIFyCev65c+eyFQoghowO0tWrV3MCzhp4Dq48ZECYBT0EoBxALTY8hE2bNukiqxFAWAIyAehzgJXZr18/Di/gQNxdhuwlyRY3yiZR1oi/HQlhrIM1lJQdwhJHqSgS5+DEVwPIhRwOvgclnoD8t2CwD/5FOTAsZHT+IlENa9463IYEtm2e4fTp09wDAKu+U6dOHG6ZNGkSh7jk0A3Qu3dvmjp1KnsCth4CEFKCFlY/vC2UnSLGD+CaRW4EpbWO+i6ssWbNGss1jWvfnhxhFp7WQgLhb5C8FlmNgGw9u1J6it+tH3P2WhwY1u4qxo8fz6/BEHitf4saTwC4f/++1LBhQy5vjR07tlSzZk3pxo0bwc7DZ+A6ssXBgwel4sWL8zUFr7Jbt25BPANrT9TR4QwbNmwI5sVaD6fPkyePxZN1hk+fPkkJEiSQ4sWLx13w4QnCExDwyCB5gZAB6xhEdrDmrUtqBfTHly9fOBENbwSD6MMTBG2EgIAJAdsMmxFCLEIBuB/r16/ncmtUCoU3iOogAQETARVaGzdu5Bg+qBc2bNjgaZHCNI4dO8a5KFChIP8BpRveIJSAgICJAGsU5aFIQIO+GXMJBNyHWbNmcR8G+ltQkhseIXICAgICAuEYIicgICAgEI7hUSVw4MABzsYjK486YyRnrAF6ANRkp0qVijtNUW9s236PTkOQTWHKEagJGjRowK3yAgICAgImzwkgCYZGDnCW169fP9jzaOUGTz1idmjKAYc5GoygNORYKUrotmzZwg1MIJ2C0sB72Rtm4gjgvgFtAtrgQ8voPwEBAQFnQKQfjX7YL0ED4uxEUwCirFu3LshjaGCy5TPPnz+/NHjwYP4ZHOBRokQJ0ryE9nW8l7e3t6KGGFc46sUhDnGIg0LZgf3NGUxdHYSWc5TLwVOANkNLOgimMOwaAM99QEBAENIytI2jrhpj4azpj60BpkBrRks5N37//v0go/AEBAQEQisw4hOT00IalWpqJQD+FnCOICcANkC4NPPmzWPuEZl7HMNPbCljwUMjj/OzBwyRsMdECQUglICAgEBYQkgh7ohmVwLg9oY3AKsf5FNIAoNqVgsGDRrEJGHyAQ9AQEBAIDzCtJ4AeL3RLLNu3ToeygHkzp2b2QvBKY8QEAZtgJ8cQyisvQFUBzmbEoVhGfbG3gkICAiEN5jWE0CsH4dtVhuDNeRJVhiUAXrb3bt3BxlOcu/ePZfpegUEBATCMzzqCaAP4ObNm5bffXx82NLHaDskd8Hj0b9/f+4RwKSo/fv30+LFi5nTHEBJKOaCopQUr0E8v0ePHqwAHCWFBQQEHANFEmDUxMwAAXMDBjFypVrL2j1KGyEPKbE3JAI8HkjuIn6P/oCXL1+yIkCiGL0B8h+OZjEM/MBoOFT8YGzgzJkzFQ0NRxYdCgX5AZEYFgivQGgV838/fPjgaVEEXETMmDF5njMKZNTua4I7SCgBAQEOsWK6HKxLTAzDpiIaJ80LbNtQ2iAchNeWKVOmYKFzV/c10yaGBQQEjAM2FCgC1JXDuhQwPxAmR0707t27/P1Fjx49bCWGBQQEjIdTegGBMPl9iW9cQEBAIBxDKAEBAZ0Q8DWA9t/ZT+8/vycz496be3Tu8Tkye8z73ad39PWbqFJyN4QSEAg1wOb67P0zMitefXxFTdc0pYarG5JZ8fjdY8o1KxflnZOXNl/fTGbFk/dP6PrL6/Tu8zsyK75J38KEkhJKwE3498a/9ObjGwoNwI228uJK+vjlI5kVs0/OpqQTk9KYQ2PIrPguxndUMX1F2nZzG/m88iEzAt9xmbRlKH/y/JQ6bmoyK6DsE8VMRNEih9zZ36ZNG65kwoGqpowZM9LIkSO538GdePvpLZ1/cp583/pSaIaoDnKThdB4dWN6H/CehpcZTl4JvKhVnlZkNhz3PU5Xnl2hNhva8O/e7b2paCpzNtnFjx6f1/PM4zNkVkSOGJlKpC5BPxT4gVLHM+cGmy5+OtrYbCOZPRSE9fP75Mdr6gqqVq1KCxcu5F6hf//9lznGUDmDPiNroIrGXk29Ws/0q/SVAr4FUGiGUAJuwPMPzylp7KR0+9VtGr5/OGVPnN2USmD5heU05dgU/jnTd5nYsjEbvnz7Qu02tKOEMRLSmR/OUO6kucnM6FywM4UVYDP2VONYvJjxWPHLcoTUswAuMLlBtEuXLsw5BuJJ0MiAW6xQoUI0Y8YMPg/MBCCNRJPpjh07uMKmVKlSNHXqVB5ehYmHFSpU4HOsm0579+7NRJYHDx7k35PFTsYyPv3wlK6/uE7JYyenONGc0zabEUIJuAFJYiWhWz1vsRLosLEDFUhewKUL2Whk/C4jlU1Xljrk60DNczcnsyYx/z7/N0WPHJ0mVZlEESOYM4LZf0d/OnT/EA0sMZDqZq1LZvVQP335RDGixGDlev/Nfd60EHaxBygAjGz1FKVMxKgR6ebLm3zf5EySU3EN/YsXL/hncIuhWWrnzp38OzjJwCwAepmDBw8y9cLo0aPZmzh//jxT1adPn57+/vtvpq2RX7N06VIaP3685TMiRYxEsaLGom/vvrEBFTdaXKEEBIIifYL0tKf1HjIruhXuxoeZEStKLBpbYSznLcyqAIArz6/Q0QdHWWntvLWTvcFmuZqRmQCjJNP0TJQqbioO+/1z+R+aUmUK9Srai8yGDwEfeEP99PWTRYG58v3D2MKmv337duYRQ0dtrFixaP78+ZYwEMbVojEOj0X4v2GGUBKYiEFlU7lyZeYkw2OyEti0aRNT1DRu3DjYZyaOlZjiRY/H12pohFACAqYGwmoDSw7kn7G57ri1g72XGpkD6cXNgrEVx1K7fO0occzEVPqv0hQlYhRqnKMxW4tmwUO/h/xvjMgxyCu+F0WLFI38Pvs5PB+dw7DIjcatl7fozvs7lDZKWsqcMDN7gRHIuRe9efNm9lpgsWOD//7772n48OGcG8iVK1eQPMC5c+eYuNJ24tbHjx/p1q1blmTzkCFDeJ4JyCjBZQYFAIUCwJOCoo8aKSoXBIRmCCXgBozcP5IuPbtEnQt0pnJe5QKZGb99oSiRopAZ8frja4673397n451OGZai3v7re00yXsSW4VmUwIIV+BAySDyFrC24b3AQjQLSqUpRa8GvuLvO2mspKy4nH3XsJLlTc9IxP4cm6RPEisphFhcAYgoZ82axZs9RtEixCPD9m+AYgMNPcI7tgBvEpAkSRKqVasWewNeXl60detW9hJkIKz24O0DVvZCCQgEw26f3XTg7gGql7Uejdo/isYfGU+9ivSi0eVHk1lw4ckFKreoHOVKmot2ttxJG65t4M316funnPAyU107brQEMRJQuXTleJOFJ2BWwPI/19mcjVjY1JHIlBOuZg6jKgU2epSGuoL8+fPTypUreaOP64RYrUOHDtSsWTMeb5shQwYqUaKE5TkoT2z+kSJEYiMPYSsoBigts+X+QoI5Tb5QjkElB9HvVX6nwikLs7sIixCxYjPB18+XXvi/oJf+L7kM78/af9KGphtctryMQsdNHSnRhES04PQCtv5/r/o71cpSi8yEFx9e0KpLq+jkw5OeFiXMAWWYMExQLqoXmjdvTokSJaI6depwYhjVQrDye/bsSQ8ePLCch+QxlASSxm3btg3yHkiuQ1mljZ+WJJLo4tOLdOPlDS4ZDW0QnoAbUDVjVT6AtvnaUr1s9bh8zEwonbY0W6yfv37m31vnbU1mBBKEcm7AzEnhJv804WqrGz1ukFkx79Q89qwaZG/AOYH+O/vz78sbLCezAqGrR+8eca5Fr8ob5DpQBjpw4ECqX78++fn5UcqUKbks1NozQOkocgO//fYbtWrluMQbXgFCV/AA4Km62ttgFoQuaUNpuSgOsyFmlJimr7kHdrfazW627GIjZIWEHDYFs7jduOmLpy7OeQBg5omZNOPEDGqaoykNLTOUzIIlF5ZwmBLJ1qyJstKcU3M4VwVLO2HUhGQG4Lu+8/oOdwqjsQ3XKcJX+NcRkLRV+hzq/xctWhSiPL6+vlS9enUe3OIMCKuGVggloDP8A/w5KYzaa1zEoQWP/B5xwwvK3dDcZibI1AHYIOKMicMdmi8GvDBNQg7llofbHbb8jprxy88u061XgZUmZgFyVFkSZqFsibOx9Tqq3CiKHTU217qbBfBMUbEke6jIBeEwGm/evKELFy7QsmXLuOnMXrktQlRQ/AljmkOBqoVQAjrj2otrVGheIU6uPur3iC/mhWcWsts9pPQQ05QMotQSGz8s2EwJM7Hl+uvBX6lboW70R/U/yIyAMsCmBaK2J++emEYJ2KJR9kZUMEVBypAgA5kJvYv2DvL7TyV/ClIeaQagHBShKk+jTp06dPz4cercuTNVqlTJLmNsaKeLkCGUgM6AtZoyTkpKHifQfYTF1WVLF04egVLALLFtbPobr22k2TVmsxKA1wLqiATRjbe6HAHEXEP2DqF08dLRL2V/4ceudb/G4QGzltsCGb7LwIeAcuB7NYNlvc+qHNQewAf25esXLvyQiwNQaBEvWjzT3OOuQigBnVEkVRF60PdBkHgxKBliRjbXyD5QWUBhQQEAHfJ34MNMQB32X2f/ojTx0liUAMJVZsPPu3/msuC+RftSk5xNyIxALgXWqzUrJ5Lu8KhgfSeIYh7lbw00fl18dpFzF3mS5jGNJx01UlSLAgDg8SMMiHLm0AahBAzA3/X+JrNhWJlhZHbAmxpdbjSX45kZyAGBkRWVLAA2LHQ3IwQI4kAzbFzwqtJMScOeHvIpSKqjqXHc4XHUu0hvGlN2jGmorlFhg2qbyJEis5xQXvCksa5mWEt7QFMgvBh0Y4c2CCUgYFrAAxhcenCQx7bf3M5WN7pfzdIvgARru7ztLNVWaB6qvqw6/1w7S21ThDfQDwLAepWrqsDMik3LTLXtUJyo/pJDqpAVlUzwqK0tb097Vc/eP2OZkJeCjKheclbBZGYIJeCG4Sd7fPZQs5zNuD/AGmZkEpWBATjN1jTjpCsqXcxKHbHvzj6acGQCu99mUQLY/K3LbWERog8DYRazJA9RwgjKCGu68H7F+1H/Ev1NlRjGdYeQinWtvZmqlwB4JqBYAZ+RWYsTlEAoAZ0BJsnVl1dzdYh1zHj68enUr1g/Gl52OHkaKG3LOD2jhaMfcWJsWFtvbrUoBE+U5dkC4RWEAJAIljcFbK5o0TczdQSwv81+MhOwudpSRphR0cP7w2FmRIgQuPlbG3XwDuRQVmijkxZKQGe0zduWFQBKL2XAYgB1hOySexqQAw1C2OxlFxuK4K86f/EmYZYY/LhD42js4bHMuzSlauDwm2qZqvFhFmAjAO8S6DYQojJz1VJoBe4dJLERbkGJsKcRNVLUYPxG2PzRGwJgdKcZFawjCCWgM8qkK8OHNXoU6cH0EWBuNAMQawVlBEID1uEps1FHyJQRZiY8g/VXb2Vg2M9vkJ9plcCu27voyP0jPP6yQvoKlrLGIXuG8NjOudXmklkhGy3ovfGkEmjTpg1PKVu/fn2w5+CpIoyFxLWrsw/MgtAjaSgGLl7wypjFTYQlgxh2yTQlycyYWm0qfR7yOUhTk2x1mcWrQmiqWKpilCNxjiBDRUbsG0HZZ2Rnvh6zKIFf9v1Cm69vtjyGipvZp2bz5DbEuc0ATBLDPAFrebCuqGpyVHnjqUHz1sBn50mWh+nE5dDlnTt3+PGzZ8+SmSE8AZ1x6ekljq8jrmlWq9ARwNly9/VdbhwDO6IZgDXEf9Yypp+antf4w2DPzL+1BryUI+2PBHv82YdnTCxnFvZYMNp2yt8pSJgSG+uw0sO49wJhLU8DMshlthg0LwPVVSFVWBk5aP7Z+2c8oAd5M6PyFxiWg7/HHRCegM7AVCkkXWHRyEDJG0jFph+bTmbAtefXaNHZRXT43n98N8DgPYOp7KKyPHbQrEBHJixY/y/+3OxmVnQp2IXJ7zoV6ERmQP1s9WlOrTnUKEcjy2MIXYwoN4K6F+5OUSNHdUrnjMNaUaA6C4/ZfgfyuQiJyIBVj8cQOgvp3FRxUlHquKkVM3HKg+bTpk3Lg+YrVqzInD/wEurWrUu//vorD5vJkiULn48h8pgUFj9+fPruu++YJgKWu4yvX79S3759+fmECRPSgAEDLH8/Kr5w7N25l0qWLGk5p2bNmpbJZACG0QD58uVjj6Bs2bKWBjh4KphTALnz5s1L27Zts7xO9iAw86BMmTIUPXp0uwNwwoQSAJ0rpvfgy8EfbS/WduXKFapduzbFixePB0cUKlSI7t37z7pCaRu0Pr4EjJdr0KABPXnyhDwFxCxxWPPyQwl0+7cbDd1rDkZJlLC22dCGJh+dHORxcLaAYMwsJXlD9wzlAe7wTqwt7yc/PqFPQz4F6X41G3IkyUHlvcoHsWhDK2KPic0HrmMZEw5P4Me6/9s9yLlJJibhx609IFCU4LH2G9sHOTfd1HT8+JVnV/h37AGbrm9i2gWtMXUMmofVD2Dm8LVr13jQPMZQyoPmMV7y4MGDdPjwYd474E3Ir5k0aRIzkP7555906NAhevnyJa1bt46fA4MtSBajfYvGiuLkyZP8GVAM1WtXp5cfAkOV4B4Cdu3aRY8ePaK1a9fy71OnTuX3nzhxIg+2hyzY427cCEpD/tNPP1GvXr14D8Q5YTIc9P79e8qTJw+1a9eOeb1tAa0KTYuhzyNGjGCu70uXLrFmlNGnTx/asmULrV69mhVF9+7d+b3wxXoCd3v/t2HJQEIYlhhKMs3QK5AiTgqed5A/Wf4gj2PymZmmny04s4C55EG7kZYCw1NYOzNRc+++vZs9qCIpi3AOw6xwlKxEcQASxLEjer7qxlmBADxryI+YuxGD5qdMmcKhJHlfmj17Nr+nJUQZKQo1bdw0yGf/Ou1XKpSpEJ2/eJ7KFi5rGVUJAxVeigxs/phl0LRp4OvHjRtHe/fu5c+cMWOG5bzevXvb3Rd1h2QSQJR169YFeaxJkyZSixYtHL7m9evXUpQoUaTVq1dbHrty5Qq/l7e3t8uf/ebNG34N/hUwD8YfGi/9uP1H6em7p5JZsejsIomGk1Tl7ypBHn/54aW06domaePVjZIZUGBOASnG6BjSzls7gzxefWl1ln/JqSXS5cuXJX9//2CvfffpHR/fvn2zPPbpyyd+7GPAR7vnfv321fLY5y+f+TH/AH+n5wZ8DZBefXglfQr4FOQ8vO6E7wnp9MPTdv+21q1bS5EiRZJixYolRY0aVYocObLUqlUr6d27d/xcxYoVg5z/448/Ws6PZXVEiBBBmjlzJu8r2A/2798f5HV169aV6tSpY/n9+vXrUtOmTSUvLy8pTpw4/B543doNa/l5Hx8f/v3MmTPB9pp9+/YFee/evXtL5cqVC/K6Q4cO2f17g6yNv7/D783Vfc20iWFoalj4iMXBFTpz5gzH2KCdEeMDTp06xa4d4n8ysmbNSmnSpCFvb28qWrSo3fdG8giHjLdv/+uiFDAP5G5WW4BUDjXZLXO39PgwD4R8MJbTtowVsxlqLa9FaeOlNUVnMyx+5FHAyWMN7guJHMPC328P9sKDtgRqzs6VLeeQzkU/wM1XN7kaCDMPrD8rW6JsTnmD9B4070oTY81aNSld2nQ0b948/kzsWTlz5qQI3/Tx9G3ldhdMmxh++vQpf1ljx47lWN2OHTuoXr167B7t3x/Yjfn48WP+0uHGWSNp0qT8nCOMGTOGQ0fykTq1PnHbGy9uUOPVjWnAzgEUGnH60WmqvrQ6ddhoLjZRW6CkEdQRF55e8LQoPFQE/EDoZLYtCy6UohDlS56PzICjHY6STy+fIJ3swOK6i7nKqlmuZuRxSMS19rYKA2EgKAxUhIU0aB4GoLUCcDRoHvF3DJrPmDFjkEPeEzBJ7NixY5bXoNwURqfMb3T29lm6fu06DRkyhMdSZsuWjV69ehXkc+TwE5LMMhDShsKwDVfj9+zZPTPMybRKAFoVQNYecX9k0JEoQQYe8TktgDeByUHygUoBvYa3gzLCuhZbBjZXTMXaeiOQmsGT6LixI2WbkY3WXF4T5HFUaoA6AiMIPQ1YWugFsFcB1CBbA6ZtxphEswIltsc7Hqd1TQKTiZ4GaA5Q+mvbDW4mVs74MeJzrT16atwJVwbN9+rViw1QFKtcvXqVunbtyo1iAAo/UiVNRd8l/I7mzp1LN2/epD179lCfvn34efmahZJBghqVPyhWwV4D9O/fn/MAqP5Bwhr7GnoJ8JmegGnDQfiSoNFttSM0LrL1AJItyObjy7H2BrDg1okYW6AsC4fewCSpaVWn2e1qRHkc3F25DtqT8HntQ1efXw1Wsge2xoV1FpqisxnhlBwzc3Ay/fmA/6pSgK6FupJZcO7xOVZWWRJl4YS7gHvw2v81ff72mcNXWtlEXRk0369fP67oad26NQ+cR/EKIhHYyOVZ0itXrGTFgRAQSk9/m/gb1axck7ubAexf06ZN43LQYcOGUalSpSzKBu+Dz0DEA3scylkzZQqc7WE4JBMnhosVKxYsMYzkTLNmzYIkhv/55x/L81evXjVlYvjmi5vSjRc3pPef30uextVnV6V9PvukR36PJLMCiUAkLFNPTi2ZGd+v+Z7lnHRkkmRW4JobtX+UNMV7SpDkLnDswTGp08ZO0vTD0x0mGM2Ai08u8jXxxt+8xRt+n/yks4/OSteeXzPsM0N9Yhgxf7hSMuCWwS1C8wZie3CbmjRpQqVLl+bED9yqTZs2WUa/IXaH8lHU6uI10OIoCytWrJjDpLCnYKZxg7BacZgZiF2DMsLWW7GmjgBlg6c53JPHTs414/a8gLor6nJp44qGK0IsbXQnUN+PHhUkhXsVDRpyQD3/3NNzqUGmBlQhQSCnkCflBKkhrH3bDmH03SAnYKbwlS0QAUA4K9RB8iD27t3Lmsr2QFmXjAULFkgZM2aUokePLuXJk0dav359kPeABuzatauUIEECKWbMmFK9evWkR4+UWbh6eQJP3j1hi//NR/NaKyHh/OPz7CV8+PxBMivmnpzL1ne9FfUkMyPbH9lYzj2393hUDnh8HTd2lDps6GDXKxyxb4S0+txqj3sCd1/fZWv/wZsHklnx9etXtvYvPLkgffn6xdPi6OIJRMD/KJwDJaLwKhCnk2OCajB492D67dBv1LNwz2CNQ+efnKeDdw8yBa2nqZCXXVjGFnTlDJWDWdIJxyfkGPelrpfYwjUjll9YTt+v/Z7KpStHe1rvIbMCA3DQpJUvWT5TzGdwBnTewxNHGbZ1M6bRcy7QGIZKIDNQRtsDKDDOPTlnmdPt6cZPZ9+bq/uaaRPDoRWocbamjJCx12cv9d7em5rmbOpRJYBNqfna5vzz436PgymBTN9lstRBe3o4D6qX8ibLyx3D1qiTtQ5TR5iZYhow++AbswEsu2Zh2nUEhKOyJ8rOIzntKYDbr25zqBKVWKGFQFIoAR3xa4Vf+bDnXKH5BaWNoBfwJNAUVCVDFW4esqesUE9ulp6Fid4Tec1slYCZ5rlWW1qNFev8WvNDJU8QrtU3n97Qi7cvmJjPrIEBVNygPh+K35OTxyJGiEgxozq+9pDTgIKAEWWEEtDj+xJKwA2wZyEg9ILD00BybVuL/xgLzYo8SfPwOE5PJlRdAXoqEMKw5zmheRCluOgZsJ5BbDT+PPMn9djag+plrUdL6i8J8hzkTjAuAcWKHIuO1j1KHz584Np2TwD19VBEUSNG5bJM280OBoxZ5h44AspHcf8b5QXg+wK00EwLJSBgSpRIU4IPe0DF0O/ev3PYCp6XUtphPbG0/lLu/wDzpT0CvHGHx1HvIr3p96q/k6cArw+KypqyWQY2K4QwmWAuZkSuW5dr6Y2Od2OYDKgt0sRNQ3GjB/VSY0SIQeljp6fIkSJzHNxT+PzlM09iw7rZy1vEiRQYzvry+QvhP3cBShEKAN8XeqQiRVJfNSWUgI74Ze8v3DWMmbie5rRRi7mn5tL6q+s5d9EqTysyI+CS/7znZ/4ZU8c8mXStmzWQx8oeUAQA6oiUcVOSJ9EhfwemtnDUZPVy4Et+DhsL6FZkRWA0nr17xmW/kd5EoheRX5AZ8SHgAw+VAY05qEE8DSgAZ42xrkAoAR2x7uo65rPBBpqLgioB37e+VHRBUXZpkdT0ZMK13YZ2HGZZ1WiV3U5dUEd4OgwDax8Wvj0rHxsWpmShisTMs1wxUMYMQ2XkGReOICsHWP7gzAHdAYgZjYYXBQ5hMTOO+x6nJVeXMLXFT7mCjj0Fnr9/zv0O38X8zu2U5wgBafEAZAgloCP6FuvLY+dQYWMLJDIfvA3kJYEi0Nr6rhYo/8TYQ0eJ1UbZG7ECQEzek+i8uTMtOreIxlccb5dNFFOyzGAVnvA9wRUt+ZMHnc0QmoGNRY/NRe+Q1qZrm/jeaZuvrcfkKJ2hNB+OMGTbEL5ux1UcRwNKhA4iSaEEdESbvG0cPhcvejw60fEEVzd4MoZdNFVR2tt6bzBKYRlFUhXhwwwbLGBLeGYmYN4xxnHa4zcyE/698S93LoPpFCW3tsCoUe8H3tQ4R2OmxjYjYF23WNeCjRdPKoGQgKlj4N6KFMFcStQZhBIwCAhb2NL4eopNMjTUr/9d72+aXXO2Q2UFoB4b1SSeVKog3cPcY3tAZRBGKsaJGsejFVmg3l5xcQVNqTLFrhLYeXsnLb2wlD1YTykB5COwyWO2weQqk4OVL+O6rZi+Iq+1oylpZsCEyhP4CE0QSkDHixg8LLBUwHti1ovU1VF+KB30ZIgDiTdnM4RrLqtJW25s4eqc73N9T54AOqqvdAucj2sP2KyO3D/CG5gnUSxVMb4+obDsAaWjoOUunro4eQoI86CTHZhUeVKw5+FB72y5kzyN8YfH08KzC6l9vvb0Y/EfKSxAKAEdL2IMzgZeDXxlt5sVbjlCCNUyViOvBJ5JgmGo97UX1zixZS/5e+rhKSr9V2neFK51v0ZmhVyHjVixWYGmpjWN13hcCfQs0pMPR2iQvQHhP08CSWl4Kii/tDedzCzwfevLHt4r/6ADZEIzhBLQCahvhiuLf1F3bQ9jDo2hQ/cO0epGqz2mBFZdWkXD9w+nzgU606yas4I9D+WF0jfENj2Jyd6Tuf6+bd62djtxZ9eYTXNqzqEE0c3LyYOKnPrZDBgUHgaAQglbhlMzonfR3vydOir7Pfv4LPeGpIidgiZVCe7RmBFCCegEbJ4Y0+csXlkmbRlOGnlyaAsoj5EcdjS9Cf0Nj/o9Ik9j2rFpdPfNXaqasapdJWCvOctobLu5jX4/+juVSlOKhpQeQqEVyK3Ao0IIMHEszyp/Z8DMZgzxATW3p0JXXgm8nBpwLz684PxLjsQ5aBIJJRAu4SwXMLr8aPI0OhboyIfZ0TpPa+aKMfO0Lp9XPrTj1g5O/DrCsQfH6NmHZ1QidQmPNbXlm5OPHvk9oi3fb6ECKQoEe37lpZVMKljBqwLtarXLIzL6B/jTk/dP2HtKFDOR3XOevHtC99/e5zJnsyJroqz0e5XfTX3d2kIoAQFTYkS5EU6fh9uNec0Y1oPSRk+gQvoKtKjuIkoZx3FHMCivwSx5qO0hhzQY7gY2T2ywjgayyJU4CGV6CicfnuRcFCqUrve4bvcchP9AzubJ2dK7b+9mrwnedPI4yYM9jzARQkahCUIJ6AR02k46MonJwn4uFUhpEFrRdkNb3jjm155vWosGTVqgjgAdgqeUADajkDYkNN0hMexJWuFD7Q4xV78jWRFy+zTkk8caGOXCCuTUnHU250uejzyNoXuHck/F2sZrqV62ehQWIJSATrj7+i6P6QNbpCMlMO/UPBp1YBTVyVKHplefTp5Aj3970PGHx2lY6WFUI3MNu+fAwoblCI4UTygBlDMit+JslCDKM5E0xmAPM2Ntk7WeFoE5jJzBk30W1l4VcmpmpbKWIbPBOuINgvzIZcFbyJYoW6iYKeD5bz+MAMmikWVHBpuNamvtIKb56J3nEq+Xnl1i/hNnpZVjK47li9lTxGeIoSedmJQtw3c/v7ObZ3HGMmok6yW4+FPHTW3qhGpogjPm0ktPL3EYEEUNnupqn11zdojyZ/kjC9/r93rfCxUzJoQS0Am4MIeWGer0HNRjI5boycoWcJog4eqsEcwZ/YUReP/5veVnMzfdjT44mv46+xeNqTCG2UzNCCRcQWmNsuXWeVvbXU+Q9YEBF4YBPFQzeAb2gAQ2POmuBbuagtrEEUAcByXgyRyLEpjz2w6jgAvpafrZQikLkdmBJqunPz516SbyJIVA3KhxOSkM7iBHmHF8Bi27uIxa5GpBXQp1IaOBShoMlAGXjSPljvUbf2Q8/4z5DJ5obkMjJSjMUUZtO0nOuvIG1BGeTAy7gvt97lNoglACOgGNTZiMBEZJTybY9KwmgUXjCaWFXEBI4RWwtWb9IytbXB+HeGbIyNRqU/lwBoT/QB1ROEVh8gRg1TfM3pDDe45CLbhe+xfvz96Cp7wAVAfNOz2PIlAEh0oA9CCeogiRkXd2Xl4vlNuGlRCgUAI6NjcN3jOYOUVQVeNo/ujm65u5KQeuuSeAunbc6AhLOaKTHrBrAC0+t9ghjbMZgCoSv89+lnAGxmaaEdi0CqcsTFkSZvHI5yP0iA71kDC+UqAn4CmUS1eOIpSNYIoKIEfAaMtzT87xz2YNmalB2PlLPAxsRICzAehIeIIpEc1FnlICDVc15M3zRo8bDruGE8VIxF6As+ocdwLcLGsur+Gqlma5mtk9B2t4vft1rnF3xjRqhmoST84XDi0olbYUH2ZGxAgRaXer3UyyCI/fEWaemMn0MAi/mWGueEgQSkAnjCw3koaVGcYt+I5gTYfrzD13J3IkycE14866XMF54knek/NPztOQvUM4PuxICWDtMiUMPrzHSHTd0pUV+4iyI7hkNTQD1y2MA3hUZvWqLj69SM3WNGOKloNtDxr++ZEiRnKJavvw/cO0/OJyHi0qlEA4g6NxiNZKwNN0uN7tvcnsSBsvLXXI18Hjm7wr3EE+r32ob9G+Ds9BCBBKDRuIJ/hu0PPRYVMHpq2wN05URqW/K9HeO3tpeYPlPB7VaIBzB4Bn56i2HpY4FIGzRLwZ8H3O71kBYIhPaIBQAgKmg6vTzVZeXMmUDI1yNHIY2nInfqvwG0+8AnWFI5x+dJrKLy7PnsKlrpfIaLz6+IqT6C/8nQ9ul6kjPEXN3WZDG86Xza81n9rnb2/3nHTx09Gulrvs0rQbgVf+r+jgvYNszJVMU9LheY6aMM0KoQR0wtxTc5k6okmOJqGiDNMZ0Ew25egU8orvxSWDZsXUY1O5hR+lg55QAq5YzGgeREkj1tITqJ6pOp3udNrpgB5gSf0lFCVilBDPcxdQ5RVSTg3PobPYU7jy/ArVWVGHMiTIQDd73qSwAqEEdMLaK2tp+63tzBXjTAlUW1qNOx8xbMRoZYGBNt+v+Z7LPp3RGTx9/9QS0zSzEsAGBwXgqc5mV4CksCeH88BqdqXixhlnjxHY3mI7V82ZGdEiRaMiKYuEeL2hSARl1shboefF7PBoO+aBAweoVq1alCJFCl6w9evXOzy3c+fOgdOHpkwJ8vjLly+pefPmFDduXIofPz61b9+e3r17R0YDHgBqre1N67IGunU9RYcLdxaW8zHfY07Py5UkF9PhDiwxkDyBATsHUKzfYtHwfcOdngcO/z/r/MklmJ5IpILb/saLG9ywJuD+nJpc4owxlJ6Y7FUgRQE62uEoG3AhhSkxZbDTpk4UGuBRT+D9+/eUJ08eateuHdWv73gC07p16+jo0aOsLGwBBfDo0SPauXMnBQQEUNu2balTp060bFngvFKj0DZfW5fOQ8wTm0aWRMbXjSOmuq7JuhA7bMGE6kk6XFQvoQzPzABnUN45gUPbPw/5TBEjRTRtaA8lt/BI7A2Zl+F935s7dpG78FT5sivosLEDG1HHOxw3bdg17v/Lls1MeRIEkkkAUdatWxfs8QcPHkgpU6aULl68KKVNm1b6/fffLc9dvnyZX3fixAnLY1u3bpUiRIgg+fr6uvzZb9684ffBvwKexyv/V9Ktl7ekZ++fSWbFw7cPpWQTk0kJxyUM8dw6y+tIJf8sKT3yeyQZjT7b+kg0nKSBOwc6PW/m8Zl8Xr0V9SRPoP+O/lLfbX2lx36PnZ7X9J+mUoVFFaRzj89JZsW3b98kM8DVfc3Uqurbt2/UsmVL6t+/P+XIkSPY897e3hwCKliwoOWxihUrUsSIEenYMcchj0+fPtHbt2+DHFqBqgo5uRXaAU8F1NgXnlzwSKgDcWw0ijmaMCUDyet4Y+NRl83Gc/JgoAjGcD4f8DzEc1FRguYhT4QAkZSukqEK506cAYSCfYr2obpZ65InMOvkLJp8NHCutDOghBXTzzzRgLfswjIqtqAYjT7gfEKgJ/p/wmxieNy4cRQ5cmTq2bOn3ecfP35MSZIkCfIYzv/uu+/4OUcYM2YMjRjhfHKVUnhN9eKbHGWAzhqHsLFeeHqBb86CKf5TXkbA960v3Xh5g5LHTu40HIV4N2KawIsBLzxCKOYKwDMD5YsySDNjVo1ZTODmbAKZu9C5YGc+9CrLdRcGFB/AzWohKX5P4u7ru3T0wVHKnih0NwaGGiVw6tQpmjp1Kp0+fVp3zTpo0CDq2/e/Bh94AqlTa+P9lmPYIOFyhiXnlzBjIxqMjFYCW25soR82/8BDbdY3dZyER7NOgugJ+F/8XUYrAawRmocwNczZUG8QjVXLVM3UGwfgqclnoQkh0bCbAY1yNGIDL6TqIHgz/Xf0p7ef39KSektM7xmYVgkcPHiQnj59SmnS/Fdi9fXrV+rXrx9XCN25c4eSJUvG51jjy5cvXDGE5xwhWrRofOiJNz+9CeQUcULHAMAtx0BvZw1G7gLKAPH5rpStvRzouWHeCPOcenSKO4adKQFs/p5SAGgCG3d4HE+PGl7WeRVTaAE8wJB4cTyN8YfH09/n/6ZO+TtRjyI9DP3sjN9ldKkfBQnh2acCh8/MrjHb1OtpaiWAXADi+9aoUqUKP44KIKBYsWL0+vVr9hoKFAgcM7hnzx7OJRQpYqxrC3pZVyikUUXkaiWR3jADFa8rqJaxGt9smNhl5tDAqkurmAoiJCXg88qHfP18uTorVdxUZCQarW7EIcg/qv/BvFXOZEw/LT03ZL3/+b+hPkYA/QGoCMNnh9SshpGnoI7ACEezIkbkGDS8zHCuEvIUCWOoUQKo579587/OOx8fHzp79izH9OEBJEwYlCMkSpQobOFnyRIYz86WLRtVrVqVOnbsSLNnz+YS0e7du1PTpk3tlpMKhA6MKj/KpfOQg1lxcQWT8XUr3I2MRK6kuWhq1amUOGbInPKgGEfzHXovjC69xeZ+7cW1EIsWZGsVngAok42cjYtei+wzs3PYETkoZwClRNWMVUOcm+wOnH18lvsT4E2jMMAREP75pewvFGogeRB79+7lEibbo3Xr1nbPty0RBV68eCE1a9ZMih07thQ3blypbdu2kp+fnyI5tJaIopQRJW6/HfhNCiuY4j1FavZPM2n/nf2SWXHt+TUua4w3Jp5kZuDayDgtozTn5BzDP/vCkwvSPp990vP3z52e9/XbV+nJuyeSf4C/ZDRO+p7k7zH15NSSmVFvRT2Wc9aJWVJogKv7WgT8j8I5kBiOFy8evXnzhjuPlQLuaa5ZudgqfNo/aI7C3gSlthvaMnWD0YyiEw5PoF0+u5ihE0kuZ6i7oi5tuLaBY5o/FPyBzAgkjztt7kTxo8WnBXUWeFocAQ2A9wG6BTPHz3v824N2++ym0eVHU/1sjptbAVStvf74mr0bT1FyuLqvmTYnEJqASpp+xfq5NNwEOhdKAxTDRgNTkdB2XzVD1RDPxUCMsunKUrHUxcjo5GSCcQk4Pny522WnlUkgZwuphd9dQGwaJY2gNY4XPZ5HZAhLQPjJlRAUWFuPPTjG5xrN1T+9+nSXz62+tDrPFfin0T/UIHsDMjOEEtABKBmbWHmiS+cingg63AQxEpDR6FaoGzcOgQMlJHiqaQjD5bG5ygNOzIrfj/5OYw6NoZ6Fe4Y4Z9iTWH5hOa8j4ugxosRweu6ck3OYZBBxd0+wsroC8DXVXF6TciTOQRe7XiSzIl70eFwo8unrJzI7hBIwGHB3PUWHC6veaMteTWUFRl8iQYmfzQo0qqEnxJXwxYG7B7i0EeWkEypPIKOAbu/v1wZWgz398WmISgCD3lGaizGPRioBWPb/XP6H8iTLQy1yt3B6LsaeFkhewPQDhzY03RBq5hCHDilNDpS4YVMIDeVgrsI/wJ9HJ3Knq4FUzVhDJRtQyT9Lcgc2qIiLpipKRgEU267SbCN3gUY9xIiNjrOjLBQKNVZU502MclNbqTSlDC/NheKZ6D2R4+whKQFUZZ3sdJI8gfor63Mj2MwaM0O8RkOLAgBCj6Qmxt/n/qZ2G9tRrcy1aGOzjS6N/MOGUCtLLUOTRmhwQk4ClBEhfe5fZ/+irv92pXpZ6zmdPeBp4KZEEs4TORZXgfDbgtoLDN9cUXOvpPhgQIkB5AlgBgdyaiHRsHsa++/u57JkKNewBKEEdIBMGeHqVKbma5sz382VbldCJPbSExjSjelnB9ocYJc/pJgmEt1Gt7xjFCIG9KB6qmH2hiGev6LhCu7QNHNjGTq02+Vr52kxTIsSaUrwYXb8WftPzlW54hnvvr2b1lxZw6ErR+MyzQKhBHRApwKdeNSgqxsm5pO+D3hvON84Ntb3n9+7FMdulrOZR7qLwX3fY2sPTvy5ogSMVKLWGHNwDN16dYvJ2YzmgHJ3HgHhTVe63z2F8ovKc5UQQoDOmrb0Rp2sdVw+FxWAYEbFviCUQDgAytVQrugqXAkZuQP72+x3+VxPkV6hJBSbf6o4xtIrKMXmG5vpyP0jVCNTjRCVAMpeLz+7zGEr0EwYtbaopEFiGDNxXbnmRuwbQcP3D6cehXvQtGrTyCigP8CVqWIyzj85Ty/8X7A3baQSUAIUYPxS5hcOdZkdQgkImAqYfrW60WqXzz/he4ITi4gnw8MyCl0LdqXqGatTjiTB51zY2+Ryzw7kv3836J1LSVo9gE0SysfVflC5JBfKykh03tyZFp1bROMrjqf+JfqHeP7f9f5mhWHk/N5PXz7xWFZUhLlSYo2Rp54Ye6oGQgnogI3XNrJ1Ut6rPFt6YQHgSPl5989ct/9X3b/IrEDcFWyevYv0NlQJgMbaVaDxDTMcsPljPY1SAlCoe1rtcdnCRmgL5IbxosXzSE4tpBJWGaAPNxq+fr5U5q8yHiHYczeEEtABSGTCkokSMYpLSuCXvb/QuqvreJKTUYyiyAU0XN2QL+IVDVaE2J2J2LBMhzuv1jxDCcWUAO42KphQOmhWIPzzsN9Dj0xoK+dVzuXzPdX5DMt+ds3ZLnXcewrfMBc8YRaXGxhxPphRkftLEcfcZJZCCeiAcunK8QWMEX2u4NG7R1zb/uDtAzIKqGrYdnMb9zO4YhliQ0BME1ahxLx+xs0SmHBkArXM3ZLGVhwb4vnNcjXjw2jce3OPNwTQRoSl/hBPAFV1rlbWAQhxgR0VRQFGzeXI+F1Gutr9qsvnowov24xsTCnjydkcrkAoAR3QOm9rPlwFEm+NsjfiEZNGAcNu/qrzF7exu5KYhKLwxLAUNFahTDSkWbOeRsZpGSngWwDd632PUsczZ3kqKJqxYWKOAbpxQ8Ijv0cWj7Zf8X5kVvx28DdaemEpTaw00bRyxo0W15IPQk7GzNPFhBLwABC6MDp8gTi0EkXlKWBaFDpHPcGt5CpQQgklCSXganwflTcnH53kWboh9WjohfVX19OAXQPYq1pcb3GI56NDfNDuQZQ0VlJDN9fJ3pM5XAnSQlcUaqbvMnH9vVlnX8vl2P6D/T3Sa6MUQgnoALNrerWQ6XAR8jAqmQluGBxKqoOQ68BNd6zDMTICUAAfBn/guC/Ca67gqO9RDsc1yNbAMCWQNHZSptJw1ePE5t82b1uXBuXoiWnHpvGkMLCCuqIEMLDF6KEte332cgECKn5GlhsZ4vnoATIzAaI1hBLQASj/u/XyFm1rsY1Kpy0d4vmP3z2mUw9PMXVDmXRlDJERtAo+r304WYjwgCuouLginXh4gjY120Q1M9ckMwIbMuLznmjlV9Ls171Qdw4BlkhtXGdsqzyt+FCiNP6s8ycZjdZ5WvM9YeYE6p3Xd2j7re1hMv8jlIAOQPwapX+udlkevneYrVeUNB5se5CMwMF7B6nW8lpUKEUhOt7xuMtxTcSHQSZnFLbf3E5P3j/hzdKVpB94kI53OM7KzcyokbmGp0UwLUaUG0FmR6m0pWhR3UXsLbkKMMdCefxY/EePjMN0FUIJ6ABsQigFQ0jCFeA8xDRRcmYUELZArbqSUAs8G6PZEMHTD4sLN5wrSgAlr4VSFiIjAc/j1wO/8vcYGjYwpUCYCzCa1kRJaGbYvmFMLYLSUqOqgzIqpNdefG4xXXp2iTvghRII40gcKzHhP1cBsiyj6XBhiSqtVfcEHS48FcDIblCl8H3rS3NPzyWv+F4uKwHkVlASDKVl1IbQf0d/OnDvAA0sMTDEcYgysv6RlcsbT/9wmpvNjMinQekoCbPA8z507xB9/vqZzIyO+Tsy66iZr2VAKAEBU2FU+VGKX7P60mrmkgFZlxFhIbBIjiw7UhENOKi5+2zvw8R8yxosIyNw5fkVOu57nLu/XQUKHNAXYhQ1N4jgkkxMwgOE3v38ziXvA1xNoBYxMofg88qHaThSxU3lsjfdq2gvCg0QSkAjYI1MPDKRLTyMbzRrZ60a7Ly1kzubURGB8j2zovvW7vT0/VPOIxihBGDZDS0zVNFrUM6IqhtcJ0YBVSxguFVCYgZmTpQ1KiFE1AKEUQEoHlfDTyCNc4VhVk9MODKBWUGHlR4W5kKAQgloBFrDB+8ZzD93L9zdpdeggaTS35W4BNO7vbchG8OyC8tow7UNVDNTTWqZp6VLrwEfEi58dBubWQlgfi6+BzOX5Cmt1NED6GB3tYtdhtGhC8yBwOhLFFaYGXGixmHPQ4lyRJgLoSsoNyOHRymFUAIagVhm+3ztuRPX1Rg6LC1UCMH6gSIwQgmceXSGVl1aRWniplGUu4Dlky95PjIKuWflZu9qa/Ot5JXAy6XXIIlsJNDYhO8bjJJK6A4E7N8/yKkpAai5vR94871TJUMVQ8o2x1Uax4cS/LjjRy50QIOg0tcaCaEENALhh/m15yt6DeKuGNmITcSo0sZ62eqxladkQ0ejkZFze4FrL66xEjBzPfafZ/6kntt6UpMcTXiymVmxx2ePJdnuyiAhufIGlMn43sumK0tmxFfpK5VaGNhw93LAS9N2l8f9P3UEPGkzQygBD6Fu1rqGfh7YTUMDzfXhdofZ0lZSj2005NCFEg8OzVD9dvTjEMHyBsvJCHy/5nvuuTjX+RzlTho4z8AVWvQpx6bQTyV+MkQJXHt+jf65/A9XTLlKBIh+HJSHwguDR2ZWDCgxgCuzzBymBIQSEAiRDhd870ZNcFIzqnHw7sFMKIZh5eAeMuLm7lusL4clXAXORV4mUoRItKz+MkNoRrInzk6JYiayWKSuAB5A209tFecS1OLck3M0ZO8Q7rRXwgZ7setFMhJ9tvWhB34PaHCpwS6XzhpZBKAFQgloxI5bO6j+yvp88+xqtcvl1yHpev/NfbbQjGChROciNiJs5q5enJj3m2NmDuYOej7gOZkViA2DewZWr1FQMg4RQEIRrJeg6Oa6+AjuD3ftaR0YDlKCJjmb8GEU0sZLyzk1kMKZGTtu72BG1i4Fu1BYg1ACGoHsP8rcUPGjBGBr/PfGv/Rn7T8NGSzTZn0b2n93P61suJIa52js0mtkCxLhDyNI8lCbvun6Js6TKOEq6l20N1c8mbkpByEBs9IeexJFUhXhw+wYUXYEPXn3hGcYKDG85p6ay7m/waUDKwjNCKEEdChPvNnjpuIWe1BGIE7sasJOKxA/xcWIw1WgJM5IOlzcNC3XteR8wOMfH7v8OtBL4D+jsOjsIh4KhIlmqKAKizA7M+6QPUPowN0D9HOpn/kedDcaquhLQO/KmENj2DgxsxLwKDnIgQMHqFatWpQiRQq+4NavX295LiAggAYOHEi5cuWiWLFi8TmtWrWihw+DUh+8fPmSmjdvTnHjxqX48eNT+/bt6d074waSILSCTcjVckYZk6tMplOdThnW9IImIHRkKiEyk+lwjdoMoKgqpq9oGNWyWmy8vpEmeU/ikJ4SYGjLxacXOc/ibsBqLb6gONVYpoy4bt+dfRR/bHwqMDfkYeqeBDh5QIp49/VdMitSx01NvYr0Mn0IyaNK4P3795QnTx6aMWNGsOc+fPhAp0+fpqFDh/K/a9eupWvXrlHt2rWDnAcFcOnSJdq5cydt3ryZFUunTp0M/CsE9AJc7Z0tdzIlgBJgEtnyC8tp07VNZATgAfxY7EfF/RPVllajXLNy0ZH7R8jdePPpDdfSK/0seH14LbiOjMDAnQMp9m+xeeiOEmA+N64TzCAwwis6/+Q83Xx5U1ExAPJvU6pOoZ9K/kSmhmQSQJR169Y5Pef48eN83t27d/n3y5cv8+8nTpywnLN161YpQoQIkq+vr8uf/ebNG34f/KsUh+8dlqYdnSYdvHtQCosYd2ic1GVzF+nWy1uSWbHl+haJhpNUYE4BycyosKiClGh8Imnztc1u/6y3H99K666sk9ZcXqPodR8+f5CuPrsqPfZ7LBkBXFv47n7Z+4tkVnz4/IFlxIF1DS1wdV8LVTmBN2/ecGgCYR/A29ubfy5Y8L+ywooVK1LEiBHp2LFjVK9ePbvv8+nTJz5kvH37VrVMsD7HHh5LvYv05vkArmLL9S38uiIpi9DEyhPJiMQwKlLGVxqvqPVdpsPFRCyz0uEid1HeqzxlTeh60s4TUFI9phXINanpRYkRJQbPaDAKv1X4jfn2lZSxGo2PXz4ybTj6V7A+SoBKMLwOYWOzNkCGGiXw8eNHzhE0a9aM4//A48ePKUmSoIx+kSNHpu+++46fc4QxY8bQiBH6kEBhVjCqbZSGBsBICDpcIxpJ4GhhMwdNBW46JeiQv4NhdLgrL66kEftHULWM1WhSlUkuvw5127tb7SajIPMUhSWyQE8BlWBquuafvX9GN17eYE4eVxvh1CJBjAT0qN8jVa9NPik5J4gvdLlAOZPkpDCjBJ48eUI//vgj7d69m54+fcqbjDW+fnU9buYKkCRu3Lgxf86sWbM0v9+gQYOob9++QTyB1KnV1ep/n+t7PpSiVJpStKrhKkM2V1gjv1f5nUtZUaeuBCi/NAqolgL9cZ5krrNeegLonbj/9j4PEzJ6oI2SxDD6PEB7nC1xNkWvRVkj6Kc7F+ys+HoxCmuvrKXOWzpTnSx1aH3T/wpKzIbYUWOzEjCKmtswJdCmTRu6d+8eJ22TJ0/u1uoRWQHcvXuX9uzZY/ECgGTJkrESssaXL1+4YgjPOUK0aNH48CTSxk/LhxGAGxoauM1RKQWrDrTLZgY6qIFYUV0vt5UpGUDiVyZtGepYoCO5E7tu76IW61pwtRWS7UowYOcATg4jnORuJbD0/FKeBVErcy1FFXaYh5whQQZT04sAMBQQCjIzdYQqJXDo0CE6ePAg5c3r3slDsgK4ceMG7d27lxImDBrLLlasGL1+/ZpOnTpFBQoElrRBUXz79o2KFDF/A0pogEyHi/GU7u5pwLAWHGpkzDcnH1tbmNgGqgR3wrevLysCpeuBjlPQW6DT2N1KALFrVFuli5dO8WsbZW9EAd8CFMe/1QAsm6ceneLRjUqUABSUUfxbl55eolEHRrHS+bXCr4pea9RcBsOVAEIntiEgNUA9/82bNy2/+/j40NmzZzmmDw+jYcOGXB6K0k+EmOQ4P56PGjUqZcuWjapWrUodO3ak2bNns9Lo3r07NW3alPsKjEDdFXWZdXF2jdlUJ2sdl18HpswTvieYYdDdzS6fvnziMkpsWko3SJTwTfSeyCWREypPIDMC/Qy3Xt7icBcUgbuVAPoZ1FBIV/CqwNQR7o5hAxgn6epISVvMqz2PjAKuffTZoKberLj/9j6tvLSS8iXLp1gJhAqoKT3avn27VLlyZcnHx0fSgr1793IJk+3RunVrfm97z+HA62S8ePFCatasmRQ7dmwpbty4Utu2bSU/Pz9FcmgpES02vxiXjqEcTwmev39uKTv7/OWz5E6c8D3Bn5NqcirFrx25byS/9odNP0juxrEHx6T1V9arKkfd67NXOnr/qOQf4O8W2QTCL3xe+UhTj06VFp9drPi1KAcetGuQtOPmDslouLqvRcD/lCqOBAkScDMX4u8xY8akKFGCVkkgJh+agMRwvHjxuATVOufgCtCxiMYaxPeVVDl8+faFsvyRheJFi0f72uxza4kcGoYqLq7IMl7pdkXRa/0DAmmTjegcbr62OTNtTqo8iVk6zUpWN/rAaE74DSszzNPihFu8+PCC2mxow9enkaW3StHj3x70x4k/6OeSPxvuRbi6r6kKB02ZMkWLbGEKnOAl5QlexIVv9bxFRgBzBD4M/qAqhGdEXFgGYq5gYzUzERw2H8ybxWB0pUoAih8VUNi4MiV0L2vmtGPTaMuNLdQqdytqnru5otd2/7c7LTm/hGcU9yzSk8wIFDtsvr7ZEu4064S3cl7lOFxp5lkeqpRA69at9ZdEwO0wMyEYgE0Hhxoc9z1Ot1/dpgLJC7h1g0VFUN+ifVWtJRLDeWbn4YHzT/sHrWrTGxeeXGCa89JpSit+bcDXAEOoI0DB8N3477h65lLXS4qqwjDzd36t+exBKyVvVIrnH56zBwj5lPY0aMnNmL5ZDIlaEL5duRIYXsiRIwfz+kSKZM6uOHdh3ql53DSE8kYzD5NWC4S75pyawzfqkNJDyKwYf3g8rbmyhv6o9odblQDq7pU0slkDoT94gEY0maH6CER8eZIq77nA99ynWB9KHtu9g4RAUY7NFYfSEkqe7Z2/PRmBmSdm0i/7fqFO+TvRnFpzKKxBlRJARU/16tXJ19eXsmTJYunCRdXQli1bKEMG42h9PQmEV7ps6cIzTyulr6RYCfTf0Z8ri2D9unOU3+7bu7m6oViqYopnF8h0uKnipjK1EkDFDerNUT9uViDM9XnIZ0M8ssIpC/OhBkYMOQIQUrve/TqX2+JnMyNmlJiqjTzsE6CeMDK06nYl0LNnT97ojx49yuWawIsXL6hFixb8HBRBeADq0zHAHdwgahK755+eZzpcTBhzJ848PkPzTs9jy0upEsDmDzpcWMDuRs1lNenZh2fs5oOOQwkQnzciUSuzSKrhgTF7OM5oYA21eG1g9YSRgn4IdzYYDtNwbaFpr8qSKuyRnf7hNIUZJbB///4gCgBAI9fYsWOpRImwOWTD0UWslPbYGgOKD+DReiCRcydAbDeq3ChV3CUyHa4RgLJCPwMalcwKDEVvuqapqk5cI3Hu8Tn2UDG2UWlTm88rH9p+aztvrK5OofMEWqxtwZ70hqYbqHaWoBTzZkGsKLHYWESOxaxQpQRAueDn52e3+QtNXAKuoUL6CoZ8DipucJgdyxss52QkukfNThkRNZK663zY3mGcwP6lzC9uzV20Xt+ah7hva76NqmSsoui1eB3CnAgfulMJQOGvu7KOQ3hqhishvIakrRHzmtUif/L89LDvQ9NyMKlWAjVr1uTBLQsWLKDChQPjjqBu7ty5c7ChLwKhH4hpgjrC3XS4pdMqr2SRgXLBwXsGU+EUhd3a8doidwu2OsHIqpb4DNTc7fK1c3sCO2WclKoYOjH8HZQM2RIpI55TChDcdd/anbInzq5KCaxqtIqMwMQjE+na82uciFZqTKF0Fd60maFKCUybNo3LRMHdIzeKoXEMCmDq1KkUXoBRgVWXVGXOk4NtDyp+PeKZiGuiaiRHkhzkLoAKGi4p8hZqLNhkk5KxrBe7XHSrnFotdEx/UrPpKQEqe7TwwSC/gmoYd89m2NFyh+rXghZ9XZN15G4g3ITNH8rKzNhyYwuP3YTnHho8akOUAAa5bNiwgYndrl69yo+BxydjRvO68e4AeGp8/XxVZ/0xErH39t7UJEcTWtFwBbkLXbd05eqgqVWnqmr+kYfTuzOuiYYf1LWjDr9cunKKk6jwIjBHGcM/zAx3E8eFJmAOhJacmlHolL8TVfSqqKrcFph0ZBIbYv1L9He7kWL4UJlMmTLxEZ4vYgyLVwtsWLAI3U14BrI6AOEcNTjeMZAO151lfIjt1l5Rm+O7AUMDVK2lEQrg3xv/0qmHp7ikF3X4Ap4DQmt/nf2LjQb0NbgLzXI10/T60QdHc66rZZ6WoVsJYAjLqFGjKFasWEEGstjD5MmTKTwAVisSP2rRJGcTPtyNtU3WMmWBWrhbSQGIsRdKUYg9ADOXUmKc6OxTs2l4meGqlAAoI9DPgOYod60rOn7rrKjDintR3UWK5x7AaMg0PROHre72vmva0Y93Xt+hTdc3uZ3iXCva5W3HFW9mbSZ1WQmcOXOGqZrlnwVCF9CpamagHwEeh1pg40JTHDYuVLS4S5Gg3BallwVT/DfXWgnQeQruIVBPqO08Dgmg1N56cyv/vLT+UsWvR94IHEdYU4Q83aUEphydwmsBfqMxFccofj0aNOfVmsd9Au7E/Tf3WWkjh6GmMMJd37NecHlnwFAXez+HZ1x5doVOPjzJJY3FUhejsApU3njf9+bEGAa6mxHoyKy+rDr/jOodd3VngoxNKSGbPeoILZ5ZSMCGtbDOQm5iVFvKeqTdEfYg3BliQwgQZaKoPFMDNBQqbSpUg6wzsnLhAQgf3Z3Q9wRUmYft2rXjKqA4cYK6Ye/fv6cePXrQn3/+SeEBaKjps70PNcvZTJUSwBzYDps6sPu+rcU2cheG7hnKFzHmBauhBNh6YyvNPDmTrSCzKgG42gjNwWr99PWTaVv0fyr5E/1c6me3hrygBNrkbaPpPQqkCJzU506gSKFBtgY8yN3M5dHS/9l35QIJte8DD9KMHrkq+r1FixaRv38gz7w18NjixYspvAAhjMoZKquuGsBGACsbykSmI3AHQBkx+ehkevXxlWo63J6Fe7q1PG6Pzx4qvqA49dmmLsEHJkkk6fe23uvW5JvWiXpQpGbOeRgJ9DKgHDVdfOUjMOWKMox+PP3IfXQMESJEYBr2L0O/qKZO6bixI0UeFZnpvc2IyEqHFMiaER3D0aNHD8Iq+u+//1KSJO7nmDELUOOspslFRoLoCWhuzbncTai2+cgV9Cnah0vU1LJCav07XYHvW1/yfuBt+iRfoXmFmBJ6Y7ONTB1hRvh98qNbr26xMlS7wUIpX39xncqkLUPZEru3aUwt8DfmnJWTEsZISM8HPHfrZ0XS0CSJ3hKmjvj4JvQrAfQHyNUbmTNnDvY8Hh8xYoSe8oVp4OIwom58YMmBZHag5HJt47VuJQLTA4hfg4gvSkR1dNDg5ZnkPYlDC+MqjSN3AHw6lf6uRLmS5KLzXc6reo+px6bSxmsb2UhxlxJAmBGEgaXSlFI0ZF4GlBwUgNmHuY8oO4KGlh5q2rCXIiWAhDC8gPLly9OaNWuCEMiBMyht2rSGDXgXMBb43rH5qe01CAnIVWilMO62pRsdvn+Yxlcaz2E6d+BQu0OsCJLGUkdZjXrxGSdmsFfmLiUA4P210GoXTVmUQ2wIeboLCFGCZXNJvSWqlECKOCnc7gH4vvWlkftH8lqqHXiUOFZiMjMUKYEyZcrwvz4+Pjw7IGJE9070MTt6be1FO27vYC3/fa7vTUmHK7uhqPRQWymy89ZOqrq0qubmOHfj9uvbTH72yO+R2z4Dtf1a6vt5LkOpIW7dGBCmetjvoab3GFRqELkb6AtBc6CZx4k+9HtIc0/PpdRxU6tWAmaHqlQ1LH4Aw+bv3btHnz8HdqTKyJ07N4UH3H1zl0mw1Ja4Ac3WNOMy083NNlONzDXIHZZMmilpOHzxeWjQ70lJ5Q2UiTvHDWIdUS2FEjy1HgGYOXsX6c0DZswKbP6jyo/ytBimwG8VfiOzI3mc5BzO0eIB33hxg9ZdXcfGA4gDw4QSePbsGbVt25a2bg1sSLEFksThAeMqjuOyS3C2qwUsDAwvd1fFiEx9rLRr1BoovfTt68uJbHcBlROzTs6iYaWH0Yhy6vJK7ib3QgXXuMPjOJ7fuWBn0w43D0/4ccePnMAeU2GMW8gNU8VNpXlY0bUX12jgroHcYGhGJaAqntO7d296/fo100fHiBGDtm3bxmWj4BHauHEjhRdkSZSFE5op46bUROlwu9dtqp4psNHJHTJipOGdXndUvwc2O8Rf3Vl7j+HrWRJmMTXtLhQq6KpB+gfPSC3gOcJDkzmd9MaqS6uo8erGtPDMQtXvgaSw11Qvfh8zY7fPbqaOuPfmHpkVXvG9qFWeVlQnSx0yI1R5Anv27GEW0YIFC3JeAOGhSpUqUdy4cXnWcI0a+oc1BLRVIcWLZN6hFgCsf7UegAxsrBeeXmCPpUgq90xrwyQ4KAOlg9GtkXl6Znr07hHnV7RwTzkCKLVXX17N3b5tSdk4UetCAHDzqE2Au4JsMwKrjna02KE6BDiwxEAuiXUXxfmHgA/cjQ7vT63nB9nA4WRWqFIC6AyW+wESJEjA4SGUjObKlYtOnzbnHE13ANYSLELUUpu1/EsvTD06lZ68f0J9i/U1hFBOLe/7D5t/YNoIjBzUG+hhmF97vub3QWkjSiNB6+AO1MpcizdvLZQKIMc72v6o2xLYUDIY1IL+GBgpatE0Z1NyJxaeWciDb9DZ/E/jfygsQpUSyJIlC127do3SpUtHefLkoTlz5vDPs2fPpuTJzevO6w2M4EP1wOlOp1UrASiS+afnc600+Mb1xtnHZ2nZhWU8JUrpkHlrjD08lknFGmVvZFolgPwKKpjSxVPXIGUUMHA8WqRobssDwQvS6gmhUs1d3pQMEAZCEaLW36zw/+KvOacmAwZjBPxnso5xVUqgV69e9OhRYBneL7/8QlWrVqWlS5dyr8Bff/1F4QWFUxbmihYtXgBimYhpuivJeOHJBWZqRN28FiXQOk9rpkF2FyVDh40d6P7b+5zgUxsiqZapGh9mh5ZQUlgBNkK1TKz2Bjuhekdtd7Qz/Fj8R54GB94fLV5P8knJ2fsDNbc7ey8MUwItWrSw/FygQAG6e/cuTxhLkyYNJUpkTivRHdBjBB8I2ebUnOM2Oly8b79i/TQPbx9bcSy5E4fuHeIqip9L/kxmxV6fvVRreS0mV9vfZj+ZFTAswFKKkJBaCxZW6+pLq5lvqm3etqathPrj+B80ZO8QztXoEaqzB4Sr8J8WhYf1xPHK/5XplIAu3V4xY8ak/PnzK1YABw4coFq1anGXMRZq/fr1wTTosGHDOMSEKqSKFSvySEtrvHz5kpo3b85JadBatG/fnt69U1+3bzQwZLtTgU6ahqw7Q6GUhWhi5Ylc0mhm/F7ld06emZWnBvD77Mdc/UgUap1O1v3f7lzF4w503NSRMkzLwJO31AJhi+Zrm3PIE5TPegNcVkvOL2HqCC1AaBKhK7WNkEbhSPsj9LDvQ1Ne34omi7kKVyeLIcGMnAKoqevXrx/s+fHjx/NQe5Sfenl50dChQ6lKlSp0+fJlC3kdFABCUzt37uShN+hf6NSpEy1btsxleQVcA5QyLEwtiTxH0COMg9LLmstqclMb4s16bwwYYnKzx03NMd3jvseZOgJ9BxiAozeQb0CDn5ZJVvgbUbashTgtpE75lutacrcwQiRq8UPBH/hwFxafW8zVVvWy1qMSaUqofh+tnrhpJou5AiU3SLVq1fhwtOFMmTKFhgwZQnXqBNbXgqY6adKk7DE0bdqUrly5wj0KJ06c4HJVYPr06VS9enWaOHGiW3mMkAsov6g8M4BCy6sFNlU0u2AiljuanUC3ixtZK4/5gJ0DmPhsUMlBNLr8aDIjMAN5/93AMA0UgVrqX4fvHyUGZfgug+b3QW8JFIC7mtvAcGqm97EHxPChVM3Oq7Pp+ib65/I/XOuvRQmEucliRgD8RI8fP+YQkIx48eJRkSJFyNvbm5UA/kUISFYAAM5H7wIa2erVq2f3vT99+sSHNUW2Ujz3e06Xn1+mqFJU+vLlC0WOrG6TRbdwjpk52P3+MuwLk3bpiXqz6tHWl1upeermtKTdEk3WpbuoI976vaU2w9pQhIAINH/0fEoQX12iHcpudaPVFCdqHLeMRDx48CB7uY0aNaLvv1fHFSUrARzuALr1MQscYVP07CBPZ0ZEehGJ4m+KT/mL5GeDz2wVMzJiP4hNmZ5lotjvYmvOJ514eIKKpy7OI0pNBckkgCjr1q2z/H748GF+7OHDh0HOa9SokdS4cWP++ddff5UyZ84c7L0SJ04szZw50+Fn/fLLL/zetsebN29clnf5P8sl8iKJMpA0bdo0SS0+ffkkJRibQEo/Nb309uNbSU/cuHFDilA3gkTDSYpWMZr06tUr1e/14sMLyfetr+Qf4C/pje79urOMOLp07yKZEX5+flKcbHEkKkxShLQRpMuXL0tmxJw5cyzXc+XKlSUz4tu3b1KuXLkscm7atEn1ez1590Rqubal1GR1E0lv7NmzxyJjxowZpYCAANXv1XVzV76+h+4ZKhkF7Geu7GuqzM5y5coxnbSjw+wYNGgQvXnzxnLcv39f8Xs0qd+ERrUbRXSLaMGCBaplQdz65cCXPL9U74Eq6N+QNklE44g+HfhEa9eqTxQi+QbqCL3LG+GR/bXkL6IXiOEQLf17Ked2zIbly5eTX3I/oupEUnZJ0wQ92Dyoj0ffhd74448/iBA9rUW049AOevDgger3GrhzIKWbko7mnpqrq4woCLlw4YLl94ULF2pay7/P/00rL63UfTrfjBkzLD/fvHmTDh06pPq9MH62Ze6WqqcQuhOqlEDevHk5oSsf2bNnZyZRdAuja1gPJEsWOOD6yZMnQR7H7/Jz+Pfp06dBnkdoBhVD8jn2EC1aNK4msj6UAu7rDz8EJqTOnTsXTE4zYPv27URfibJ7ZSf6TDz5zWw4evQovXvyjhKvSEyJliSit2/ecphPLTD1a9vNbXT3tfpkoz0g90RPieLej0v0SNtaQsbYY2JTzpk5dZXR19c3cHPNi9rtwLub5VYJhP7AlKu3smKZ8hBF6xONqHzgdYr7Vq1xMr7ieJpXa54mPidbQB4Um1A0omw5Ait6tHznLXK3oMX1FlOD7A3IdNDT/UCYpV+/frqEg+AyJkuWTJo4caLlMbg10aJFk5YvX86/wyXH606ePGk5Z/v27VKECBEkX19f3d0me8iTJw+/du3atZKZ8OjRI4sru3r1av43TZo0qt/v4duH0vhD46XJRybrKufgwYNZtubNm0v169fnnydMmKD6/eqvrM9u94zjM3ST8cuXL1L8+PEt3zP+jRgxovT+/XtV7/fgzQOWMfro6Hyd64VFixZJFIGkNI3SSKUGl5IoMkmdOnVS/X7Xnl+TvO97S4/9Hkt6omDBghKVDAz/RW4QmdfzwoULkpng7e3NckXoFxhOpeQklS1bVgpNcGs4yFkT2Z9//uny+ajnP3v2LB9yMhg/Y0YBLG2wlY4ePZqZSWHhtGrViit+6taty+dny5aNu5U7duxIx48fp8OHD1P37t05aWzUhLN8+fJZvAG1GHNwDNVeXpuTR3oBiXEgWd1kdDbuWaL4xOtq6zm5CvAGDdg1gMYfGU96ewLywCI5wX/y5EnV75f5u8xMHaFnYvj69evMmhsrVizua0Hfyrdv3yzXrVKAKdVvkB99+PmDrglRXkuJqHHaxtQrXy+iLxrXMmFmrmDSMqHMFh8/fgysNDxPtLzqcsrzITA8ggo/M8H7/95o5Bj/L/j4THTq1Cn+3rUg0N41FyLqvXDWw+dDAi5QbKLyRopeBPyMBjFgwIAB1KNHD677L1SoECsNuJLWnwG6iqxZs1KFChW4NLRkyZI0d66+MUxnQDhMqxI46nuUS9FuvAzaCKcFsjzvs7+nX71/pVTZA7sUrWOxSscVIqbZItd/3eJagRuC5UxJtDBgIZ1OeFq7Qq04hs78cIbdb70gy4NQJ6rA0BipRU5UgKGGX++KGFke3EOyjBcvXjTVfA/0+ECe7yJ/R00KN6FSWUrx4+fPq5uFDGAyH0Jselaunfv/Wg6MNJCe9H1CUd5FIT8/P7pzRx0l+9EHRynh+ISUa5Y+4XI9oaqu0baxCzczGrawqaOhy1WULVvWqWbETTJy5Eg+HAFzjj3ZGCbnQC5duqT6PTrl70Q1M9Vk5ka9IN9UxWIXo3Q509HN8zfpAT3g0kEoTKWANYiYpp7ANfP8+XOKkD0CeT/zpoJJAj2B27dv80YRKZJ7GpXUbggPyz6kFJNSUJEcRYi2ULDudU8CFip/55GJEmZMSLESxWIuL+Tq4AGi2VIpkAvYf2c/90eAmVXPtYTxhPsbZJSAlrVssKoB046sariKGuVopKuc+fPkpyRxklCmDJlYgUHO9OnTK34/FFSgSxoT/sKEJ4B6fesDGzE2dCROQCgXnpAxY2AnICwEtRYXxkp2LNBRV/4g+SIeUHgAzak1h/KkzWMJbZgFsowZYmSghXUW0uCyg4NsXGaTU4ot8RyAlClSat64wHnT498ebMHqAYRS4SlHSROFqm6tSiX+KmG5NtXKiU7Zpmua0tC9rht2rq5l4vyJmUE3buq4mtdSpo5A46UeCAgI4A3f2tPHwCwtcuLevtT1EnupYcIT0FLSFdaQKlUqihIlCl84qM4wQ3MOZj/funUryLxnzHsAtFqv8Nzwnx5NbXJoqkDGAtQmbxv+GRuXbHGpsV4P3j3Imxbi2XNr6RMWlOX8vcjvlCFnBrp3/h7NoBmaFCrovb0feDOBIPij9JIxbYa05BvZlxvm0mRKY1nLypUrK35PlARjVgbWUi/Ict5IcoPqrKhDY4qPsXh/apsu1zZeq2to7fr162yIxEoSi2bdnEWJHiay3D9qv3N4Anp8z+6AJi4BhH9A3QCgTBSMouENCFlglgJuNGy8apQAOG/uv7nPGyvGQWoFbihs1vETxKfvEn6niyUDFJhbgOcTHGx7kDsftQK114AcEpDl1LJxYS1BHQEaDj3g7+9vqbUvk7cMkyQmDEioOWyFnAUUgF6cMvJaFkxYkG4MvsHlkgNvDtT0nedMkpP2tdmni3y2cmZPmp2iBkSlHGlycI4PCWOwEWfIoJyWQ+/cys3/y5g2e1qa6D2R6UdGZxod5LmwBFVKADdFs2bNuBoHtA0AqieKFy9OK1asYOs4PAExQtxo2BTQSKcU66+uZzKtiukr0s6WO/W7iHOkpcijInMS8nTD05bvTkubvkyHqwdkOeOni8/KJWWclDyqVJZTDfIlz0fLGyzn99ID+E4BhD0TJgzc/FF5ho0fliuoTVKmVP5ZXQt1JT0hr6UcAoJBIa+lmmZIdwAbvSzL79V/p8SJA3mDYDjBwsZzapSA3rj5/7XMkDIDVS1ala34tF+1r+XS80t59gHmDWP0p1mgyqfv0KEDhz/gBaAxCwd+RnIKz4U3yGELtZUDmKyEubgg1dLzIk7llcqyIciKGcytUNhqALfbt68vD6jRU85jdIzyzclHE49MtMip9mbDzYWRg3ol2S0bQsYMNPPETFp0dhF9kb5YSpC1dOS6UwkA8lqaRUbkLWCAxIkTJwjtvFY5kbxuta4VTTg8QRc5b/0/lJorbS6aVGUS/VrhV13WcsT+ETRw10C68cI8BQWqlcD+/ftp1qxZQdx4/AwGT7SEhzfIluDDhw9V0yiDOkKvubjyRYxk8LP+z+hClws8j0G2ZNVeyGnjp+U4sR5U0rAKZTmSJ0rOmzcSfGbbuOS1TJcxHc+abbOhDScgtcopU0dgMpaecj6K+4g6bepEKy+upNSpU2u2XkstLMXUEbdf3dZNRigqa09UllPtWqKrGdQRu3x2kbsV6uvXr1XPK8HsZ5RZm20euapwEL40e/wuiI8a1aRlRiWAxLAZIF/EmTNmDjIPGN/bixcveFPQi95DD6twcs3J9HuE3/nxQ9IhzRvXsQfHeCIWmDq1ch3Ja+mVwYsaZm/IOQeUTGIt0RejVs6px6ZSn+19qFnOZrSsgbYSZ+tqqkeRHtG80/OYVrts/kCmUoSscL+igEEpQL+BsZ8YLJM+gfLSSLteVYYMVHxBcQ4tYni7Vu+vUIpCNK7iOMqSUHs+LUg41Sst8xGBnVamlwHjMJQVepOUAl6FGaFKCUyYMIGbuECwZN3lidnD4PEPb5AVn1pPQG9Y32zWwM2GLle1FtfJhye5qxnlbrWy1NLFKoSM1lahtYWtNndRfnF5+hDwgUn5tG5cspw5MuagiY3+u7a1egLyrOY3n7R7AghDIhSLjua6uepS4viJeWNEzF0uucW1KecIlAAKCrXtORLn0Cyn5TvPmIHW+a7jub0IVWr1BDCtS6+JXZ8/f+YENeAd4E0VRlWwKGp85yhaUKsEzApVSqBNmzZchghuf7mkSy7vwpQwHDKQLwjr0OoJwNpot7EdJ1yX1F+iifLA2ir8nOAz/XrgV960QVyl9Wbbd2cfU0egskWrErDnclsrVPwdaCSTk4dKq1oCvgboUjfuSE6tSgB5C3gWsaLE0lXGcl7l+LC+NuF1QU41SkBP7nuLnBky0vby23lcp3UI0AwJ7Lt377JCRfg0YvTAaLk8X1lWAmaQ0+NKABO/BIIrASg8xLqVUGcAcDcxbxazazFkRosSgALARYy5zz6ffHgId83MNVkJaN24QIOLmKYeG4NcdYPKKjRNPf3wlIaVHkY5kuTg6XFgZYWcapTAsQ6BvElagfCmbBXadolqXUs9Kbmt19IWkFNWAp6GLCe8v3Lp/1NUeuRX0N38wv8F1+Jr6WHx8fGxrOWPxX/k+d+yN6pVThQ+jDk0hlrnaU2Tq7g2gte0SqB169b6SxKKgTJZudYZbreatnLQ4SLWrDVpJF+guGAzJcxEHfJ1oFxJczml53YVlTJU4kMPyHLCO5lycwrdenWLehXpZZETMnqanhuxdLkP4MKHC1RkchEqkqoIrWm8RvNa6gnrtQSPTqQIkXjsKUaKapXz6vOrdO7xOfJK4EWFUxZWLSM2ams5rSHLCM9PTd9FwLcASjE50IN8MeAFdw+rxQMrGVEAkTBmwmByqiVhBEAdge8oTDSL4cvCrF+5WSxHjhxUu3Zt0/C9GAlYCvAGEPNUqwR6FOmhiyxySApKoHTa0nzISJIkiWk2Lms5R2cczTdGhgQZTCWnLCNCVIjdo8YbnpoeMiJnMe7QOE64Tq8+XZP1ar2WMo/OP43+Ye9Pq5zobB51YBR1LdhVkxLA8CaEkIEY38WgTdc2cSgIw1ZQLop7CIoCigCeoNLBTMixQPmh2koPJZDKTq+TLJfatYQXXT1TdVP1CKhWAojtgbETF59cJop5ptCeW7ZsMUXDh9EAvTCUAEjRPAn5IrbXwCRfxFosGQBVHVppI6zlLJSzkK5yzjs1j5ZeWEpNcjShLoW66CJj1YxV6VSnU7zhWMsIZkl0FSOGrASw0kceCCRGHFV+lC4bF+T8/OEz/4wGQT02LlTcgDoiw3fa7mlZRvCM3fK7RbVX1GY6imvdr7HhCEXw7NkzllOpEpA9AD2oTB5YrSWau3xe+3A4FfTkWhUqSBj1pOX2qBLo2bMnb/TgL8eXCqD0EPME8BwUQXiDHLvGhawGoMF96PeQLRrU4uthFdpW11hvCGoqb5C4zjQ9E8v6cchH3sjUQO60leW0hdaN696be0wdgQSxFlivJcIr+ZMH0jPLHcRy5Q2UldKkK5QJwl/I/8CC1UvOY6WPcUI8AkXQRaE2z92cD62wljFapGjsVaSN99+aQU7cO2rl1EMB2Mq55MISnlKXKm4qVgJ6GVFmQ2S1zWLWCgBAI9LYsWOpRIkSFB4hWwlqlcDPu3+mWSdncXJ0RLkRurizqDhafWk1jakwhsNNsozYuOCey5QfrgIzkBHTBIEc/gWnihpAASB5jWqyBAkTcMwZ7+0V34sVk1aLC1U3SDBrJexy5lXJcuIcyKmm8mZKVe0FFtaxdlmhWitns4TWrNcSeRXb5D02WMw+MJOcNRLWoFRxUlG2RNl0MU7QHLj84nLmtepbrC+FaiWAGb1wg22BTjpYR+ERsieg1kpIHDMxU0foeRHv/rSb3ge85+ojAMlrueEFcipVAthcLna9yHJaN6GptbYQQnvm/4zyzsnLlvGnIZ/4ca0WV55kefjQCuvN1fu+Nw/9gUWYO2lui5yyEvAUXr16xeEowF6jptaNSy84i7XroawQutl+azvVzVqX6mcLOu9ErSdQLVc1u2uJNYchpXSv+/T1E3Xc1JF/7l64uyW06Gmo8qFq1qzJ074wwpCphSWJPYPOnTtzcjg8QqsnMLzscKaO0OIF2F7E82vN54YpNLvotSnAusZ4RC3ut/WGgBsjaaykfOglo14IEho4v4Rar29N/1z+x/K8VmWF+wYdyLAQtcqImHrUaFGp8+bO9OOOHy3vaS2jmtGGKL3MPyc/Zf0jq25raQ9a1/LEwxNMHXHCV/2YSn9/fw5rO5IzQYIElsIXNfc5Qr3IL6BE9NOXQIPHDFB1J0+bNo0bU8AaCusSB8JAeGzq1KkUHqHVE9CDDtc61g5PAOWm6Ji1Ljs1Q3jA2lsBlfLjHx/TvT73dJMR/Ragjth9e7ducqLhDsR51oN/tMqJcF2cMXGYmE4PGVFxNOfUHJrkPclyPckyYoNTw3kD+okzj8/QtRfXeF31kHP2ydlMGzHt2DTd1hK8PCizxiarFg//3/GPJD+8ZBRAWCNixIia5IThtKnZJvqr7l8c/gyV4SDEcUEZgcHvcIcw8B09A7jgMPTdtqsyPEGrJ6AHrGPtsjx6W1w7b+3kTQG8PGpLBl21CrGW+Htw8ykBEuxFFxTlDezD4MCyRKWA1WwtZymvUsHKeLV6LPGjBYbjkF9RC2sZscmMLDuSy1nxtwOxY8fmxkGUZ0JOcDUpARLXW77fwuE/tYUAtnLufLmTB+pYNx1qXcsK6SvwoQUPrDxU7GlxfovD+a/LXS8zeaIsJyoAPe2l6glF3+qvv/5Kw4cPp4oVK7K2xDhJVEn8+eefFN6h1RN48PYBDdkzhH+GpaDV2sLGOf3YdL6YEQ6Sm1603myomFh8bjGNrTBWtRIIKT4sryV6UdCFbU077AqwYaWJl4Ypuj9//awq9ip3fwOOSBG1KlSE/lAeqoU6wnotQUU+tMxQu3KiExZyKjXUcP2gtl0rrK/N9knbU4nUJYKUnZqh8uaBlYygckE+DbCmeDeDnB5VAosXL6aZM2fSDz/8wL/v2rWLatSoQfPnz1dsrYU1yJY3Yoqquh6/BtCic4uYTgDzdtWEh2yrWTBmEVZhpfSVLEpAq9tdKk0ptpK1VN7IViEnr2/vZtbLYqmKUa+igR3DSLgh/ooEHORUqgRgvd7tHUj3oBbyWkIhoRDCHrSupRZ6EFcqmKzlhBLwlPWKUJTMIQZlhVCLLeGb1rXEpo2GQ+RY0Cmvh1f19MenzG9k3cOhVc5uW7rRiksr6Lfyv9EPBQP30VClBMBLgyYxGfAIsFkhlhbeponZQubqxwYJReAoHOMI6CKEdQ0rFi6oXOetJcyCZilQKltX8sgbqpwAU4oO+TvwoQXW1uu55+do5aWVzCgpKwFZTigBtXJqhbWiAsotKkdP3j2hv+v9TQVSFNBlLfWUE2vpH+BP/l/8WblYh25kz0qtnGCPvfnyJhVMUVDVOExZRrCcInJgD/JaomNYDS4+vchVZigwQI5Jj3BQ4liJ+bCGvJZq5YRnivDfsw+eCxtrUgJIPNqSo8lD1sM7EIeHIsCNBldRqRIAb9DAkoEzYfWyCufUmqP7zaYV1rF2yBk3ZlyaUmVKMMpnyImRnZ6S0zZkde35NXr07lEQD03rWiIEOPfUXG4W+6XsL5rkxFpuvr6ZGv/TmGPtmANta6ColXP0gdG04doGmlVjliolYC0j1g/lttgMwWklW9nyWiIEh/wF8hhKAEMH1jsOtRTkvjaK3x7ktVSrUAeXHsw9Ainj6jP+1HAlgMUFjbS1e4wvDaWh0PIy1q5dS+ERsBJwcXgqORxSwlWPi1iG2hsNn/vp0ydLrB3Xklx3r6ecw/YO467hn0v+TFUyVtG8llubb2ULDlQH9mRU24ENXh5sYGqVgLWcvp8Cf44XLZ6ua4neCHSJq+0NsV1LTGg7/eg0J5zlfAMS2LJBCTmVKgF02QcMDdCtdNnnlQ/zJqWLny5Ix7TWtcT7mQ2RtbKHgipCIBCw/q9evao6aQRysifvn1Dy2MlVsYmGlHDV4yI++uAo1VhWg286jK1UKyPWylGsXQ85ER44cPcAh8T08KrsNZ/JMkKpwXq1NoRcAaxBELOp7bzGvGiEzOTvPHvc7LxhwcrWcy3Rw6IFtmuJznD0MVgrFShQyIkKN8hpyzQaEvB6NSFUR57A5WeXmYa9QPICuioBM0KREli4cKH7JAkD0HqBwJXf47OHltZfSt/n+l7TzYbNuuLiimxlH2l/RDfrFZUSsIjVlgvautz339znfABiuQiJydAab+9ZpCcrgEIpg5LT6alQYb3K/EGQU6kSQChkRo0ZpBbyWkIOdIIDqISyrYbydO7Cdi0xUtIeZCXgiRDgly9fLOSPkDMyRab2+dpzlZmtjIBaGdF8h7Ad7p82eduQGaC+8FdAdyUA6ghsDKgU0lrXfuXjFS5xQ6LQkfUKSxIbiBIgHHKxy0XVoQHbDaHH1h4cb55dY3aQagmtNxv6GLTAWlmBnhgy4m+2LpeUrVdsHpAzTZqgG4YZwn9msF5dlVOrspp0ZBKdfXKWehbuqVj5P7bpsUkeKTnNrz1fdxkRZgJ1BLwhoQTCIGRCPbUjNZc3WK66cxibECxSmZMnacSkdLPHTbayrQFrFWEYKAFcyEqVAEpYQc6mFraeAGK4eE955q5ZNq4g8eHXPkwZgTDdw35B50jLSkCtnDJ1BKx3eYyhUhnltUT/BsJgdbLUoRJpSuimUI/cP0Ld/u3GVvGGphvcUsZqLafatQR30M7bO6ly+sqKlYCvFZ+Vs/JuWUbc42o8aYQA0dWcJq6xBoMzCCWgI7RexFqoI+SLGM0sMrGVPQ542XpFWS/kVMN+qQW2nsDaJoFFBLa8NlrXEtY7pmLh71Xa1AZ6BbCsyhvXg08PuNfCXp5Gq5wlF5bkTRaba+0stTVZ2PBW1l5Zy8lHe0pA9XVJEejs47OcHFYDazmR96q1vBav5eZmm4Nc81rlbJu3LX9P1pTfaq9LycEGL8uIXiA1TLxQpKCOMBNM3eGFhR46dCh5eXlxhzJmGIwaNSrIhoGfhw0bxhoc56B3AaWFnoAnrVdXYth6ybnuyjqeinXr5S3d5LS94bS63YfvH2bqCBCqqd20QLGAWDsa43a03EErG64Mdq7WMlG5kkcNdYTtWtbLWo/6FesXbBOUZYT1ipCHUsDzQyXP2sbKq/5Q7SPH2qFQMQcYlBGH7x0O9p1r9Via5WpG/Uv0V+Wp+tp4qN3/7c68TpgLbA140XLux1Ply+HKExg3bhzNmjWLFi1axOMrT548SW3btuWGEwyvAcaPH8+EdjgHygJKo0qVKnT58mXFA9+1wtpVVAOUzU09NpVSxklJv1X4TZPLvf/Ofrrw9AJbwbaWsNabbaL3RLZeUTOudOKUK7XYesiI6qXUcVMz46mZFSqazxAOs6YmUPudt8jdgg9HMkIBwHpFN7YSoPlMLXUEYu0w1ORYe8yAmKxMMBfYzEbU60+vOUxnr+QUShX5NMgZFvjSTO0JHDlyhOrUqcPUFOnSpaOGDRtS5cqV6fjx4/w8Lq4pU6bQkCFD+LzcuXMztQVCHZh/bDSsp6ypAVxlxHU3Xtuo+LW2oYE1V9YEJl2vbtD9ZquaoSq1ytNK1QQ065sNLI3N1jRjax03nD0ZUQKpxnpFbTuYSWHBKoWrikqPtQSdR6yosTQ1N4WkrBAelHM/Rm+w1msJahkolHrZ6lHjHI2DnavV+8NEtUd+jzj5qlUJzKg+g3NqoH3W+ztHOCz+2Pi06/YuMgNMrQRAVb179266fv06/37u3Dk6dOgQVasWOOwBfCiwNBACkgEvoUiRIuTt7e3wfZEUxWAV60MPaL04EHbAFLAhpQOJ5LRYhdgEMWHLXn271psNJGWL6i7iIeFKgEFE8lpDTmz8Ky6uYPpj2xGL1tbr69fqYtFqYbshgIgv+4zs9NvB30xpvcrfOWL22Ajd4Vmhy3f5heXM0KpFRmfQupZbb2ylFJNTcKm1VsUfP3p89nJlzi095QTlNzi9UC5qBpg6HPTTTz/xppE1a1bO2CNHACbT5s0Dmzdk7nzbwdT4XX7OHsaMGUMjRmgb3mIP1tarGhI5VA78VPInXTaudvna8eFMTk9ZhYizI96OmwGUEbghEBKxtV5xDhQH5LQeZWqUnPKGgJnFV55fYU9N75wA6CgwsAalwX2K9VEUa5dJzOTvPMWkFFwS7NPLJ1hnKuS8e/eu6u+8z/Y+dMz3GK1vsp7qZK2j2lvBWt55fYdDdV4JvHRVVBjijvCN7RwAd4UAn6uU849qf7DnZ9uD4CmYWgmsWrWKli5dSsuWLeOcwNmzZ6l3795MN2Cve9lVDBo0iPr2/W/GJxSN0g5Fe5A3KoSpEHv1xMZlxEUsAzebkjZ9WxkRB7cmjbMnJ5QA5MyUSTkzZJ9tfejUo1M0sfJERRVCthtCt8LdqFqmanbDX1oV6t03d2n0wdGUK0kuRUoAyVZcZ1CW2ODRWyL3hNhjJ9UqZ6EUhbiZL3bU2Jo8gZUXV9KAXQOoZe6WtLjeYl1lBMHd5yGfLeNU1fJZAX8c/4OroprmbBrMG9Aqpy2DqqdhaiXQv39/9gaaNm3Kv+fKlYutGVjyUALJkiXjx2ERoTpIBn7Pmzevw/dFht8ZZYFayLFXlBiqtV5hbYKoDFaCEqphI93u7Te3U/O1zflitiYq01NGWc47d+6olvP049N08N5BjhGrUQKynLCqHXG+aF3LTN9lYuoIpcRssowwiBBrx3+Y0Ywh5rY9F3rIOb36dFWvs1WoUCJoOLRnBcteFYwyeDrgElICNkhUVFm/sOGzAjDbAx5qxfQVgykBT3dgh6ucAPhYbOcUIMQiJwpRDQRFgLyBDFxAmH1crJiyeLVe0HqzVVhcgXLNysXVN64CfzMsZuuNC3NhU01OxRVHttB6EcOCR6kfqJW1bAjYsBAawL/uWMtBJQfRqoargtTM6+1VaV1LhERAHaHEC3AkIxrOZDZNR3IaXdZoK2eXQl3oWvdrNLr86GDnouZeTpCrrbDTImMSKz4rJK6RU7PXGa/1ugRVyrxT85igzgwwtSdQq1YtzgGgHR/hoDNnztDkyZOpXbvAWDcuGISHRo8ezeECuUQU2hyjLz0BXCBaYq8oaQTFsJJ5rvJFjKS4XAWC9wBneZSIUXS/iFGHDvI4zEBQAluXG1VQLde15AYf1OHrvcFWzVhV8WvQdW0ba992cxuTshVPXTzYpiCvJZQwXis36rkbarwqT1ivSuSEgYfyVSgAKCvbXJ8rGHtoLHdNDywxkKmq1co4t9Zct4VTLz27RJ02d6I8SfOo4ggLV0pg+vTpvKl37dqVmTmxuWOqGZrDZAwYMIBrdjt16sRVJCVLlqRt27YZ3iOgV68AShqV0uHaS2od63CMG5DshRm0XsQoacyZJKfi19nK+enLJ7uUEXrJqQZyY5Mcawf67ejHrJK7Wu4KNscW1iu8VXin2GCtw5JKYtKYYBUtUjSXqSNsLWzI99fZvyhLwizUPn973ZUA+k56b+/N19PqRqtV8Vm5AsiJe0etnCBnQ6Ng3ax1FSuBVApk1OT9xfeiGplqUNZEWckMMLUSQHUI+gBwOAK8gZEjR/JhBmjtFVDDh27vRkOYwbb6wvYiRu4CsVB35EecySlbXNiscGA0oDM5jaSOsB2AIpfbYg6wPc8HCgDWK2RUqwQKzSvECeztLbZT5QyVFcsJwPqdcGQClU5b2i1KAEUAoI5Q4qHa8lkBXTZ34WQ46KntfSeQEx3/auXsVKATd04j0e6OvhA91jJLoiy0+fvNZBaYWgmERnjC7VYaGrC2XmF1qdm4Vl1aRbdf3WZ31tVSN0cWl6NqDq1rue/OPqq7si5vNvCM1K4lqL2dQZ4op1ZO2RN69t71YUS2awkLvW/Rvm5LYEMRwktFN7tSGa35rA7dP8QKC/QW9qA1BIgmRqV4YLOWuG5qLqvJ182e1nucyqh2uJKZIJRAGKCOsPUE0NADIrFUcVOxW2wLKAB4LLDU1Fqv4w6PY1lhcbmiBGARysN2XHW7tW4IKOlMGy8ts3+6CqXhC1lONDSqlXNFwxWcbFdCHWErJ/I0zojTtK4lCN+UUkfYW8sJlSZwV68jfh9PhAB9beREGBU07J++fnIqozwKU+kcCWuYQYkIJWCycNDzD8+ZOgKbq6tKwNZ6RXwYlBGI29tTAvKFjBtN7c2GmCZkdHUqFqg8AISe5JtoytEpHK6B9Yakqz0ZAbUygk74Tu87bvWq9JBT6WwGeHBqQxiQ0aiNx95ahpSs1+qxoGP66funnG9yFA4NSc5qGavZpWGXYTsKU40SgKeB8uU1jddwGaonIZSAztB6EedInIPGVhjr8gVsz51NED0Bl7eliuO+MZMjyynLwdiLtYP6GK53mbRlnCoBT4TW5LW89PQSNVrdiGvb1ze1z0dltJzYyLEBYR1lLw7jGpFkDym0pnYUJnDo3iHu+K3gVYG7c93hVWldS1ScNVjVgIqlKhZkop4SOWNEieGUGNF2FKaaYULolkdptNIya3dAKAGdofUiBnXEwJIDFb3G9iIukKJAiBUcRm9c9izXHwr8wAoA8eaQZDTKerVdS8x8BmWEs8/WupbwhkAdkTBGQpf6Baxj7XJDVYt1LWj91fU0v9Z8u4lhbPpaRmEC8C6RHLYeEO+KnPJ37h/gT8d9j1PiWImZJ8sda4kxpUqoI/z8/ILMjnAV1kpADUBQZxbqCKEETJYTUApYds+ePVMdwtCqBOB+uzJv2F5SGC35rsiIjUvNKEyg97bedOLhCeYocmXalO3GlS9ZPtrTao9Lcqqmjnh9l349+CvPg1aiBKzXUp5HECdaHLuvsR6FqdZ6hXUNjiNXcxe2ct56dYvKLirLyu75gOduWcuiqYpSwNAAl6vsfG34rOQyU3wnGFEaUu4iLFBHCCVgspyAfEOj2QtJzXjRA4eOhBRrR1+EEpoKrRfx7tu7ma0RYRLv9o4ZW7WEBmytVzVK4MzjM9x9ffPlzRCVAGLt8npaQmsxElA5r3JOX6eZOiJhJupSsIvLdeP21hI9DGARRQ+HMzm1jMKcWWOmovNt5QS/Ea4XKBJ3JbCV8gb52lnLP8/8SeuurqOZ1Wc6VAJhiTrC1LQRoRHWNfhyjbRSVPq7EuWZnYcTR2pi7ZiKlPr31Nya7ghaL2JYnFBWvm8DbyIlcgLoDQCnD2r5bUdLysDfo1VOUEcgNIb6+ZCA6qUvX77w58q8VK5Aq4zpE6TnDbZnkcBBSWoSrlEiReEwizMr3ejKm2BeVfJ8TBnhzGjwtIwA8lMNsjVwqpS1Kn7cN7g/F51dRJ6G8AR0hh4dpCjtRAIOMVQ1F7Gvny97Eo6qG/S4iFEZBOoIV+vGbeWEjOmnpWdaCxCfOZNTnofsbuoIe7H2kw9PckkjKq1Car7zZH7FFRhpvSLWbstnpTScinvIljvMFUz2nsy5h77F+obYJOhrZy1/LP6jy3KqVVbXX1xn6gh0eLfOq54RWQ8IT0BnyB2kmmb4NllHz/o/o0Y5Grm8cVlTYSPpdLLjSYfloXpcxKigwMZob/i6K3KiMiJG5BjM0OhK0tUIy9DeWs46MYtqr6hNyy8ud6uM8IZe+b/iqhGlcqIccsDOAcybg5BLSHKqvS5PPTxF+ebkY5JDV2WEUaQkjGc7ClMNdt7eSSsvreSmNFflTK2QSl7rWsL7Q5k1ylE9DeEJuAFyB6na5LAS6gh7SUI0SYU0+tFI6xUDdmxj7VAgHwZ/4A3MnXKidBKzluFVhRTbt7eWaeOnZS598L2EJKM8ClON9Vp5SWUeN4hh9vZGLzqTE4yuoIzAdDYQp7lrLRFyQnWQK30N9tYSE9q23tzKswQwFN4e5EHu8gxfpfOQgbZ52zIpYZGURVTJ6Qq0riWuK7NQRwgl4AZ4wno1+iKWqyjOPT5HtbLU4soWRwArpzxpzTbWHhJhmlY5zz85T8X/LM5J9pAax+yt5bAyw/hwRUZ5FKaaORLyxopGp5A8hvv37weRExTSoGGAQnVnKSuoKVAeinBlSLCVUZ7vACVQKk0pp6+FnFoGuYekRJ195/4B/pRoQiKuYLrS7YrDRLsnx4rqDaEE3ACtsddbL2/RyAMjKXKEyLSgzgJFFzE2ienHp1PimImpfrb6DjdZPazXeafncXMOQjrOlIAsI/IjSkduar3ZsGFhlCEsr5B6DdQqVD2GCSGE92ftPznM5gxQMmj2so5jQ4Fgepq71xJJZ1epI+ytZecCnVkBFEheIMT75969e4ZssA9s5ESxA0JyUKjOkux65leUTujTG0IJmNATCPgWwNQRmCymVAkg1t5rW+DIxg8/f3Cr9QqXGxYTpmMpkRFYc3kNx26RuHWWu9B6s6WOl5ru9bnn0rlqlYAsp6wE1IzCdFY2aU9GfH8xYjhXGGbzUIukKsKHu+VE5Rma/JBjcVTiKXP/PPt/j40sJzqhb/W8xeW27vSqgI4bO9KKSytoatWpDueBGwGhBNwArRsXugjHVBjDVqwz6xXUATL/vaUW+1sAu8N+n/ycWpV6DHLvXri76g0B5a9zTs1higtXEthGWoVykhAWWo6ZOdjS3th0o9MkuNZRmEpltF5LhDAQrw+paU+PtQRpILipYM07a3jSolC1yokcEBLY8Iaf9n8aYmVQjBgxLLkHrCGStq7KiOS1mlGYgEQSvfv8jiv5PAmhBNwArZYM3NCfSv4U4nloW4eSiBw5Mo/GA7BhIbnoqpyyElBjvboKexsCKiNAoexKfBhw9+aKdbQXGgClAxDSgHWt3zlyAUicgr1ycpXJitbyt4O/8bD6H4v9SBMqT3BrCGP84fFceTO58mTFSgCDaXB9omEMSstt1CtxUnKSHKFQZx3t1jJGUEhJAqWB1+C6QQGImilog0sNpgElBriUY3EnhBJwA4zauKxr79XE9GXrVWt4AKMXkZxUsiFUylCJD1dkBLTIiI0LvDrwXByN87M3bDxO1Di0r/U+VgbONi09vnPEoLGRY8NCfN9RjNjeWsrJZEeUEbYyqh3kDsADwNjSkEaL2sqJzbjconJs/T758YlT9lmtawlFg96TkLqH7a3l4XuHucu8YIqCTEHhCMhtofwVOTXIqUYJKCGJdCeEEnAD9LC4EJMEfwmSro4sBS0utx43G4bKYCoWYrCvf3ptytAAgM5k7wfeVN6rfIgyWg8bhyVZJl0ZQ+TEbOmuBbsygSBq/R0l9O2tJbqNMbg9pHCQPMhdi/Xav0R/PpwBlT3YHG1zVfAcMDgHeSR3riX+RngCIcHeWm64toHLbfsU7eNUCchyykogNEM0i7kBelivfbf3pbxz8vLcWCUX8ZiDYyjl5JQ0av8ol+VUexHDGoSV/ObTG1ZaSuSEAkHewhFlhKNB7mrQNl9b+qfRP06Tb55WqNjAZ9SYQT+X+tlp2aw9OWHxgjIipMY9eZC7FjldgRxrR8UUiNnkxPelrpc4Rh+ShS4bUe5OYNtby5xJcjJlREgVTHoYe8gHzD01l8N5noTwBEzqCSA5jMRWBFJW0gg6BkwWczQVSU85kbsAdQRKMB0R3VkPQLEODWSclpFDA4/7PXbKTW87ClMJp48MUAeERB9gby3RcYpyXViwiGObgZJBD2WFdXTnBqsl1q6X9/fP5X/4QPVZm7xtQpRTBgYcuTqiUquc8KB/2PwD/wzeqJDyTu6C8ATcAOsafDRJqQEalGA1DS492OE59i7iX8r8wpQRHfN3NORmg+XkjOlUHjZuPQAF3gMUCOLeIXWfGmW92lvL5ReW84xiJGyNWEsO0/i/dNowZk/On3b9xJQRCLm4W05UIhWYW4ASjk/okOLC014VgAomJLAxCMcRPC1nvOjx2OsAg6yjznl/f3/LNDh3QSgBN0Aut2Q+mP/HRpXCleYRexcxwgIYKoPmKDMksO0NG0dS8N3P7+jtT29dov7VKidKPUEotvLiSk5iu7qWCHfBg3CF4lmPtRy5fyRvrsP3Dbf7PBK6OKwbxT5++cjzngftHuTSIBWtcqLsGN4RlNWd13dcXkuENastrUbzT893u4wAPIBJlSdR6zyOydnsySkp2Gx18Vga/8M5HeT+7GHHjh2UOHFiKlXKeRWdFohwkBuAqot48eJxDTG0uBwq0BuetmSAM4/O0L83/uVxfPaGxDiT0Rn3vZ5yIqRW9q+y5P/Fn270uMH0B67I2aNIDz6UyKglzIKkMPDqo33DQQ6r4dqSB6AgtNa/eH+eTR0vmvPZE3qFrTBmE8lde+voaC1BL7Lt5jbKncRxZ7mjQe4xY7o2xEZJCBDeKehMbLvt44+Lz6XLxzscD3GEphHNdzL9hpokvqsQSsBNwAUCJaDlZuu8uTPXqf9d72/ufA2JlA2YenQqX7x1stQJkYJAj4v4mO8xGrJ3CNXOUluxEnAVWuVEKAqVHvACYDm7W6GqHYWJ8lUcjugK7MmIOPL4SuNVyakWmLjlDPbkBF0yqEWcdfDKgIJD7wtmO0BONUogJKDJEt9T1KhRLYoRxQ0IqeEIaZiTnp405MB1ae9+lZWAUpZTJRBKwE3AhXX79m1NF8genz104+UNnoplqwTkAShImsrJUlQb9N7em39+89MbikGuKQEtMuZPnp9ZGx2V0zmijNhxawe77PWy1QvxM/SQc0/rPYoaxZRCj0HuIY1tNINCdQX25MQcaUezpB0NE0IzJORUuwFiiLvPax/KkThHsB4Kez028aLHo7u97/LAl+iRoxviVa24uII6bupI5dKVo43NNgZ7XiiBUAw9brbhZQNjw/aGcluTssFqAmBNNMvZjKmFwTuk5CJWa72G5HY7ooyYe3ouu92uKAF3V97AY0Ntu+3ks2wzsnH9PigjQrIMUQ6pdZB7SLC3llD8aNRz1qynt0IFzcFen71suTbM3tAlOZVC6yB3oMSfJXiuMRr+bPs97MkYMUJErspzdfi7HmuJewDfIZSVPQglEIqhxwXiqLvV0TAMVNosa7DMUOs1JNiTE6EqXPwlUpdQJKe7lIAsIxL6cujh8bvH7IXh5nSldE+PQe7AtGPTeJoZplvZMrPa27iQTEZz088lf6ZfK/xqyFpCvlbrW/GcBVslYI+UDdh5ayc3PaLU1ohiAAB5KoQAQcXhTq/qhQYZS6YpSVe7XXVYyCGUQCiGuxte7t69q/kith3krkUJoPELlpRtsteenBjuEtKAF71vNlQH9d7WO5AMzsbtlmW0vtFQrXGo7SFOuLo6vFzrIHcA9BZ77+xlhlZbJWBPzkfvAgkEXZ3wpsdaYiRimbRlWAk42rSgTOUqOcyRxtAc4N2gdy4VBOgh59bmWx1W2dlby523dtKV51eYzwrzkJXIqNaThoGRJVEWu88h3CsrK7VGRZgoEUVFRIsWLSzUubly5aKTJ09ansfiDxs2jMMieL5ixYp048YN8jT0uIhBH3DhyQXafXu3w4s4Xbp0lseU1hLL1qtWORusakBxx8altVfWBktey5uCtZxKoYeMiPGCOgJ147brZG8tcX6JNCWoTtY6hsqJxqbfyv9mdxOyJ+fiuovp6Y9PqUP+DobJiOa5fW322SWrk2VMmzatZVNEwhUzqcHOaVRFWEhl1vbWctWlVUzDvun6JkUy4jpXOwrTGVD4gfdGtaGaWeVhwhNAjX2JEiWoXLlytHXrVq6XxQZvPXJu/PjxNG3aNFq0aBF5eXnR0KFDqUqVKnT58mWKHj3k5I6ZPQFYJXlm52G65RcDXgSxNED8Jt9sMnABo0tySOkh1LVQV0XWqxY5E8UI/FvvvQnK24/3BVEZGr5kUjaUNN54cYMT3a52SOqRX0EYYnmD5XZr/q03Li3QQ05H3apQXPbkxDWB3hCl16WWQe7OYE9GhDrOdzmv6H3cHQK0J2fBFAW5PBfFDq4A+ws8HoRSISe629UAY0X33dlHFdNXDFJ5JcsIL0Dv7ynUKIFx48axu7Zw4ULLY9jorW+MKVOm0JAhQ6hOnUCLbfHixVxTu379emraNHjJolHQ4yLGsBZwrmADQ1zTetO0Z8lgE0Z4wBnVhDvkHFluJI2rNI7j/I5cbjl5ff/Nfco+MztFixSN/Af7u+RC6+UJ2CthtVao1msJNkmEgmCRG5kodATE2dE9qjU+bGu9qpnha33/QalbM6zaW0tPGVHwQLr9242b2g62PRjEM7An5w8Ff+BDqZzyFLQMGTKoknPdlXU08+RMLkawVgL2DL1wFw7auHEjFSxYkBo1asTsjvny5aN58+ZZnvfx8eEKAoSAZKCRpkiRIuTt7e3wfZEIlbsvrbsw9YQeFS2ovnje/zl5t/cOZjXbs2Tm1ZrHlBGuVNzoKSf6EmwVgCMZ5coleAKuxlBtrVe9YU9OjOgEZQTKWV2FXlVMqFM/4XsiSAewLCM8KpnlFJOzum7pSr97/+5yKFAe5K5Vzsnek7m7efCewW71qrTIGCtKLA7xHLl/hMs+ZWCSnhy+SWsCOeEB/FDgByqeuniQx+0ZeuFOCaDOftasWTzwZPv27dSlSxfq2bMnh34AKAB73XT4XX7OHsaMGcPKQj7ckXnXqx7b3kYJRk1siLYXsUwZERLXu1HWqz1rCy43ehjOdT6nWEYoAC2xV5Q2YlNAAjCkjQvJT8iaKWEmQ9cS1mDiCYmp8PzC7DU5kxHVS7NOzqJJ3pMUJSX18qwQOpGH7jiTc9CuQVR1SVXuGDZSRngof1T7g9Y3WR8kcS7LiM+I9X+FiHWHV6MUesgJo212zdlUK0utII8LT+D/N33+/Pnpt99+Yy+gU6dO1LFjR5o9e7am9x00aBBvJvIhJy/1hHxxuMN6lS9iuPIyVa9a6KUEphydQu02tAticTmzCkNqjLI3yF2rnJuvb6Ym/zShqcemBilplA0GazlHlBtBJzqeoJqZaxq6lqhEQhgQihxzcp1tCKh0Qmmoq0lhPeUE8dnZH87SioYrQg6t3T9M229tZ8/FSBkBhHeQ3A8plHruyTmK8WsMKr4gqDVulJz2oJdXFapzAsiIZ88etFEqW7ZstGZNoIsud8qCA8Q6e47f8+bN69Qlll1qd0Gv2Cti06BlwMi8JfWXONwQMDgFVm6upLmoeqbqhl/E807PY+ZGzDeWOXD0tGQgpzzIPWNG+5w1IQEll8VSFQtSeol4LgCLUF4LLTLqsZYnO50M1rFqb+NCtY0rvQHukBMhQFtuHZQ0yvxG1t/5hEoTeO6vbbjD3TIq2VxvvrzJnoDSMk89qSMwsQ0hLLmCyqhwkKmVACqDrl27FuSx69evW748JImhCHbv3m3Z9BHfP3bsGIeOPAlUDmBjQScqLhC1SgCc+6gcsE5O2rs4UAf/0+6fuAHLE0qgXd52TC1sTSpmT85eW3txZ3OfYn1cYue0lhPvp0VObEJH2h8JsaRRLfRaS3uUBXpahe7aYKEAYPTAc7Oe+1AkVRE+1MioZZA7gGax80/O0yO/R5Zwiz1vpWH2hnS/z33u3vVE2Lfi3xWZJmZN4zVUP1t9jh4IT4CI+vTpQ8WLF+dwUOPGjen48eM0d+5cPgDctL1796bRo0dz3kAuEUXyrG7dup4WnxOFUAKo7NBivS6ovSBI2Zq9iwP0Bs1zNedYtlIZAbnLUy36Fe/nUknjiksrmC+/U4FOHpHTFva8FSSD++3ox53NU6tN9biMgL21RI4DtNyuUkboLefBuwe5vBEVLWj+07OkEY1m8ihMKCs1w4QAeKcYgQqG1VcDX/F72lvLiBEiqhr4rldTKIw8yIDvVI5moIkT6yhTmYRLJVCoUCFat24dx/BHjhzJmzxKQps3b245Z8CAAbzRIl+ArH/JkiVp27ZtHu0RkIELFxecTFmrBqiksR2LaM+SKZ22NB9KgaormZBOT+D9EG/HTScn3nFDT6w0ka6/uB7ipC53y4khHhjjaM9bgXx339x1SOkckoxI3ONvV3sNwhrts60Ph1BQ2ogEp73vvOj8olwSjNyFq7Xteq7lmitrOL+CaiYoAXsKFWuJ+QMYPmRLgugM6C2BlY3NFXKqVQLg3UIoFf/K7KB6WthJdFrLsRXG0ozqMyy5MllGKAC1XlCYUAJAzZo1+XAEbDJQEDjMBrlqyVmlkhroeRHLMkJRqW19l4EwD0Yy4oa3LmmUh8ngvVvmaalZTi3AcBNM4gL19dxac+2uJZKJUKhKx/2h0kym4YCcar8fbASrLq/iTQvVN6mjpbaUMcv0Ae8/vye/z35cRpohQQaPrCVKGyGjbHw46sIduncoD3f5q+5fiuWEEtAiJ7ykB30DrWsZ9hTqgJ0DyCu+F1+fSr53vdbSNr+iV79FmFACoRl6XSCoqth/dz/HN5F4td24sHnDerSly1UiIzYuxF/Vdj0CmaZnYncWfQ33797XNZ5pXQSgBbjBUXVz9vFZ/t2eEkCDHigjlAJKDnIi2axFCSAsAI8J/EUIE9y5dscSepBLGpE8fD3wNc+UdoX73h1ricop6+ope2uJ4TOgcrbHhOuKnJcuXdIspzUQNZBDN7Kcz94/YxI+QKmRIq+lmQ29kCCUQChQAicenqB6K+tx6WCt9LUs7ydfIAhdeE314uevdr/q0mhKGQhZyFPQcCFrUQLwAKCooLTshQYwhQwhGISCIkeM7BGvqoJXBVZScoWQ3rXYkBNKQKucHQv8NyPakYxQOmri2O7yUO3J2aVQFz7UQG85Uf0jb64orZav9W/SNxpYYiDnqpR6f7KMCEWjCVVL1eGfZ/7kKX3dC3c3rEfA9H0CoR16KQHEe5Hwhft989ZNfgwbt8zSeO35NUuHsRIFoLec4OZ53O8xVctUjW7dusWPWbfS99/Zn3LMzEGLzi7ymIxoGsIAHIRccNPKLI2ynPBkJhyewJUaaqCXnNawt5Z6hgC1ApsnKEvcKacWoDKo1MJSlPr31HTj5o1gMiaNnZTGVhxLf9b5U/F7o+pPjtlrzQugChB5FsxqQKOsrZzugvAE3Ai93G40BcHCl6k05ItDjt9XyViFCebg1qq92VB6q1VOa+oIexsClBTqoF2h6bUno96bK2hHsAlinCHICeW+jAG7BvCgnGMdjnlUTiRVsSFcuX0l2Fr+sOkHXs/eRXtTuvjpVMko06fAoFCL8YfH08BdA6ltnraWngtZTq05Jr3WEp30CP8hZHr4xuEgMmoF/j7ICWMCHosW9gEMhELoDCG2JTcDe4KEEgjlcIfbffNmoCdgW3KKODYONXBHXNOenJuabQrCh6NGRpQ1oilJJqRTA3Q1Lz63mM5dORdMoaLUFnmXbImyaZJTDyUAqgUMtcn3LF+QtURl06Jzi+jT10/UrVA3xe8L5ksoPlQxQU4tSgCbFnDn+R2ubUfOQr7u0UA47vA4apOnDQ0tM9Rja4nQ46qGq7iHZcovU4Jdl5eeXuKeFVfnRthCVgJa5YQHjQP5OTkcpLa0XAmEEnAj3GG9nrt9TveLQ085ZxyfQQvPLKS78e/alVNNuEpOiqJmGhsNEntqSwbl8MXPe36maBSNA6LWMqottXWH4q+WsRpdenaJru0MDPfJcqKBcGGdhXT60ekgzXlK5YQSgJyZMysr17VGhfQVmOTw2L5jtJf2soyyQkUxw+1Xt+mr9FW1jLqtZaZq/O+tm7eCrOWz988o56ycXIr9sO9Dl+cduPM+R94C1znmo7hzjoAMkRNwI+SLA3QH4BzXAv8Af8o4LSMtTryYKO5/buKVZ1eo+drmtOD0As1y6nERo/X91ONTJGWRgliFWmPPqBuXG3O0yomkMLoyi70rFkwJmEqh1phBO5vvpGdHA8N8spzoKG6WqxkPdVEbbtFLTsiCKibZ87MOX8ypOYe2t9hOLXK38KiM1rANU957c489aCTY1SgAvZUViOzWnVlHlDXw+9baxe4KhBJwI1CBIDcMab2QEf9FqIJgVKX4b0NYd3UdLbuwjP9VCz0vYtzwfbz6EG38L8yCEBBmCFT+uzJzHHlaTrj9aM+PfjE60Zf/1vLu67v04oM2KgV3WIWgYtDbKtQzbAWwEogQVKGi0qZyhsqqvRXrECDWQCv2395Pt7LdIkr/n5wFUhSgJz8+oY1Ng44c9dRaYqrZwCsDiaoSpc+QnoyAUAJuhJw00muDnVF1BkWYGIHo6n8Xcd2sdemXMr8oZpJ010WMGz7d63RE/v/JiKQcmp6OPjgaqMhMICdga70iRJR0YlKaeWKmuWSMQpS8YHK+nhC+mHdqHle8mEVZoSx47be1RP2IEnppI+GzBpL1bER8+6YLz9FfJ/4iqYBEEQtFtEy6k3MGGEpvhrWskqEKxf4Wm8iHKG1G95eHAkIJuBl6XiAx3sUgyV8KYhWiCWd42eGsDMwgo/Xmmi5DOvYCUOJ6uetl7hi1R47mCTmRXPa560OUg8gnqg/LiQ0W8esCyQtolhF9F6CO0IrD1w4T9Sa6XyaQ3AzJ1k6bO3HfiBboaZygK/flt5dEsYlux7zNs7ErLq7IygoKQi2Q/JcJ2vSQs3DUwkQXiNI+SMv5pTcf9ZkLrOdawuMvc7oM0Qai7BmVN9ipgVACboaeG5d1PBPEXWpLQt1dN85yJib6J/4/NPrAaMtwcsThzXKzoZzxa56vRI2IhhwdwrHYHS130IUuF7g8VC1k6gi9vvO3d94SfSSKEzEOj7tEjwO8LVdnSBulUD9v/Uy0iGhQmUF04O4B2u2zm4btG6a6GswdckqPJKI1RLkS5iK/T35UYG4B5l8Cy6hZZLRNXq+/up4O3TtE7oRQAm6GnuWXsoUtFZeo8pLK1HB1Q6Zv1gpr6ohXr17pI2c6onsB9+jM4zNk2rU8QxTtdTTqW7SvZU4uup61JONk6gi95Lx98zbRaqKhSYdyP0B5r/KsqMAYqwV6yoihTF/vfKVoD6NxnTxk7Ji/I42pMEaT56e3nNbhPzQLgvfI18+X0sZLaxoZkfuQG8USpUpE3f/tTmX+KsNGn7sgSkTdDDls8/DhQ83vdeNGYLdjoXiFKH3m9EzYhhI8bFxagOQ1Oh+hACCn3ImsOszi40MUQDRi5AjKkCKDedfyK1G5u+Wob7G+pCcgJzwNPeTkjesxUY5MgfX4gNaNVe+1lDdXsPzKFNKzasxSXXdvDTl2r6ecUAKQbWS5kaywlHIvOZIRIUBwE8n8TmqAfgMYY+hC9vnmw1VLyPeVS1eO3AWhBNwMuYNQpifQgqtXA7uGS2QuQR2aqU8EO5ITSgBy5sypXqnAisEQEDQkDak8RDOvvK2Meq9l7ky5dS/Dg5wYbKRVTqyjvHFhop6ekNfy0aNHmpvvrlwJ7GjOmvW/IUF6KAAgVapUun3nspzyWnYu2Jn0qgLE+FOUgmOwjpa+C1lGzEepm60uH+6GCAe5GfJFrMccY9uL2IxyyjJmyZJFVwVguyFozV2EhrWEAsAGje5evQeLgAcfGz8qb6AIzLqWsrLSupZI0sthFr3ljAAiP53vH9uxuu6EUAJuhl7WK6wM+QJz582mVc7Lly+7TUZ5I8QNrbVk0J1y6r2WsLD19lbQfCevp1Y5jVCoWmUENxYUHhL3WrrNQ/P94whCCbgZ8kWMUAvihVrDF7DgtMTsHUFvS8YdFzFoeuVJTlpuNsRuZevXOoQRntYytMiplydgLaM7unBThYK1dAShBNwMWB5w57VuXLKF4C43US+Ly93urB5yyjIioaeFPM2otXTXhqCH9QqPTKZQdqdCxWeA9TQsr6UkSUIJhFXouXGF94tYD8vQKBmRJEQIwuwKVY+1xNhLJEf1BprFZOoVrGdYXstnz57Ry5cv2VNBTs0oCCVgAELDxmV9EatNuuK1CHkh4eguClw9FKq7464ov0RSHNU9ageNQHnIIUAzK353X5fWSVczy6mnjJgrDFYAoyCUgAEITRcxEtDyUHO1MkIByNOWwuPGBSUo1+GrlRPEcf7+/tx9jPr78LqWesiJCqtr166Z3kO97IGkMCCUgAHQeoGgGkamjHCXO4sGFzSMaZETQ8HdXd6mh9sdGuSUZURYQEsNvzOEl7XEvYMGLFjX7prZm0qHAhB5LYUSCMNKQB5yrRQXL17kdnLw6btzyIRWOc+ePcv/5smTh8wqIwaCy1ObcucOHDZvRjnPnTtn2FqiUgqbpFIgbBgavnN5LXPlysWlse5AvHjxLDkRecymWjnz5s1LRkIoAQMgUxXLzSpKId9ouDjcOWRCq5xGXMSWYSD37nHMXSnOnw8kC4NF6I5SW1s5ZQ9Oy3fuLoAzCp3dyD/IilEJwJWDnAfyH1q6zMPCWkaIEEGTnPgOhBIIw5AvDnDqID5pxovYWk6ZqkAJUL4nxzTdKSc8IVSLYB3VWFxGr6XZNy45ga9GTllGhKygTMLzWgJa1hJ7A8Z9ohfGyMogQCgBA4DOTHy52LjUxDVDw0UMBYC/D3kF2X13B2B1alFWRq+lGhmxGcivc2eYResGa/RaIhykxvsLDYr/7P9lhEflrqIKRxBKwABg40qfPr2qTcFIN1GvzdXdc1FD08aFMItS708OWSHZKM9VNqOyMmottXh/4PhHzgPXJHIC4X0t7UEoAYOgduNCfB5lm0a4ifJFDNdU6UxXIy9itTcbkp9yBYa75ZS9P1iuSr0/I9cyNChUayNKqZyyAQVWTnc0s4W2tbQHoQQMgtqN6+TJk/wvrBh3lQrKQBgHrig2S6U12bKcRioBpTcbqqzwt8WPH99tpYJ6eH+eWEulMoJ/SZ5vYWY5PbGWPgqNKFRZGSlnqFYCY8eOZbeud+/eQWrou3Xrxu3l0PQNGjTQbcybGayEo0eP8r9FixYldwPlc3JjkhI5sbGeOnXKMDnVhq28vb353yJFirg9ZKXlO5flNHIt4XEq2biOHz/OmxeuF5nUL7zfPylTpuTmPqXeH0JcqLSCkVeggPr51mFeCZw4cYLmzJkTrLa7T58+tGnTJlq9ejXt37+fJxDVr69tlq07AHcUkKkAlG4IxYoVI7PKCVcW1UFQxPLr3Qn5M6AElCQK5Q3BzGsJ7hi5u9WIjQveH8JWUORK6vBDw3UJJWWknJEiRbIoKyVyyjLCCzCSLiJUKQHExJs3b07z5s2zdLXKLumCBQto8uTJVL58edaiCxcupCNHjlhueLNArqOGCw3vxRXgvDNnzhh6s8lyXrhwQZXlaoSFjVAOOpyxcckhCbNZ2GrXEhPJ5E0PStWIjUvuUFUip5EWNiAndZXICO/m+fPnbJ3ny5ePzCqnt8HXZahUAgj31KhRgypWrBjkcYQgYAlaPw46WzAaygtrD7BawY9jfbgboC1GcxJcbplvJSScPn2a/z642yCVMgKyp2XmixjxdqU3G5qa5FACwkFm3xCMUvpq5ETFmtFelaxQEWZB17eStcyfPz97O0YgVyj5zkOVElixYgVvhmPGjAn2HOJo0PJI9Nl2QuI5R8B7oc1bPtxZ1y7DukTN1QvE+uIwwsIGrGV0lU00NGxc8qYFq9f2enEXcuTIwd8bKIJdzVOFhrXElC5w5KBs0919DDLwncn3KRL8YWUt/f39LZVBQgnYAbR+r169aOnSpRZOcT0waNAgDiXJhx7zf5VcIHIdeEjYu3cv/1uyZEkyCjJhGbwjV2qy4XLjPLzGKAtbzc3mibVEF60cI3ZFTniohw8fNlxOtdclPD8jG5tCw/2T6/8yonnSlXwVvm+ch0iBUd5+qFICCPfAjYc7h00GB5K/06ZN459h8SMubOsewupyNkcUrmHcuHGDHGbbuHBh7Nu3j3+2DYO5E/Cs5AlRrsi5a9cuy4bg7jpsLUpg9+7dhq+l0vAavBVYhriu4UUYLSMsfFfyVfJ3bvRaKvnOMYAGYVd4YuXKlSOjkC5dOkX5Kuvr0ihvP1QpgQoVKvAXDndJPgoWLMhJYvlnWCLyQgKorIBl6inXyhnk5BRqgkOaOIUEIShp0THqTrZLZ3KiIsusm6schkBNNsItzoDQoLxxoIDASMh1366spby54ro3ckNAR27ixIn5mpQLERwBOa09e/Z45DtXc11ij7AuJjEiX5VXxXdu9FqGGiWA2bxICFkf0LKomsDPiOe3b9+e+vbty64fPIe2bduyAvBUpt0Z5BIw6zLAkC5ibAi4sIxE8eLF+V85NOEI2DQ8tSHgxpY57J0VAQCyjNhE3E3DoHYtPbkhQOG4KieUBDxveM9G17TLMsIARMWgq/eP0Sju4lpiH5D7azwhZ6hQAq7g999/p5o1a3KTWOnSpTkMtHbtWjIj4LUUKlSIf0YZqzOg9wGoVKkSGY0SJUpYvBFnvDd4HiV42BAKFy5MnpIzpJtt8+bNHltL5EmgxOGdOuvCRghTLg/1hFUor6Wr1yU2LXd3sNsCiWEc8EacWdm4Zv/991/+uXLlymTWtdy6dSsXXyD0h5yAxyAJSG/evEEZDP/rbgwaNIg/q23btg7PuXPnDp8TMWJE6cmTJ5LR+PLlixQ3blyW4fTp0w7P69evH5/z/fffS57AwoUL+fNLlCjh8JyPHz9KceLE4fO8vb0lTyBfvnz8+StXrnR4zpw5c/icggULSp7AoUOH+POTJEkiffv2zeF5OXPm5PMWL14seQJNmjThzx81apTDc/bu3cvnfPfdd1JAQIBkNJ48ecKfj+Ply5cOz6tfvz6fM2TIEI/ua6HeEwhtkCsV4Po7KsFct24d/1uqVClDWvLtNRDJ1owcorAFZJc9Lk91aGN9ZAoDR70ekB/UzLC0POGtWMvpaC0BT68lQjuowEMhhqMSTCSO8Rw8AHjfZl/LOnXqGO6tALhnZbJHORRpC+T74AkAnmY4EErAYKBSAXkBlKU6qnJYtmwZ/1uvXj3yFKpXrx4klGILhC6QlMXGUbVqVfIEUH6ZOXNmrqTasWNHiGtpdG7F3lraKwhA4lqOYXtqQ8D3KMelHX3ny5cvt1zDRiZb7a3loUOHuFfBFrgWQCFjlvtn0//DZ7bYsGEDV4KBe8kTpHFB4BY/JJTByHAQUKtWLYcuLcIveC5KlCgeCQXZhqQiRYokPX/+PNjzCGfh+ZYtW0qehBySsicH5I4aNSo/f+LECclTQEgqduzYLMfx48eDPT9mzBh+rmjRopInMXv2bIdyIESYKlUqfn7p0qWSJ5EjRw6HcqxZs4afS5o0qfT582fJU9izZw/LkShRIl47W5QtW5afHz58uMf3NaEEPKAEFixYwJ+XKVOmYPHX9u3b83OIfXoaefPmZVmmTZsW5PFnz55JMWLE4OcQS/YkDh48yHJgk3379m2Q58aNG8fP5c+fX/I0GjVqxLJ07949yOPYqLy8vPg55Dg8CV9fX85DQZarV68GeW7dunX8eMKECSV/f3/Jkxg8eDDLUqVKlWDPlS9fnp9D7s2T+Pz5M+ckIMvmzZuDPHfx4kVLzu/evXtuk0EoARMrAWxWcrJy586dlsdv3bolRY4c2RSbK/DHH3+wLNmyZZO+fv1qebx///6WzdVZEtEI4POzZMnC8syYMcPyuJ+fH1thZthcgR07drAsSLhbK6t58+ZZErLv37+XPA3ZS+3Vq5flMXz3efLkMcXmKt8ncuL1xo0blsf3799v8aLhyXoaffv2ZXmqV68e5PGGDRvy4w0aNHDr5wslYGIlAMAilKtB4C5iM6tWrRo/VrlyZckMeP36tUVZyRvphQsXLCEWWwvHU4CnAnmSJ09u2WB79uzJj2XMmNEjFSK2wEaaOXPmIBspwn2JEyfmxyZPniyZAdu2bWN5okWLxpstMH36dH4M14K90KAngI0VMmFDlUNuuXLl4se6dOkimQHXr1+3eFb79u0Lsr4RIkTge8mdEErA5Erg8ePHlg22adOmUvPmzS0336VLlySzQA6pxIoVSxo7dqyUJk0a/r1GjRoe9wJkYAPIkCEDy1WuXDmpT58+Fktx69atklkgh1SwMQwbNsxSOoqyS/wNZgC+Uzmkgtj7iBEjLN4plIFZcO7cOcsGC4MKoSH8DKXqyVyaLTp37sxyJUuWjO+lePHi8e89evSQ3A2hBEyuBIBVq1axRSBvWPh50aJFkpmA2GbFihUtMuKARQslZiYcPXrUkqeQj6FDh0pmAjbYjh07BpERISszKX3Ax8eHE6vWcjZr1ixISNAMGD9+fBAZYUDt2rVLMhNev35t6a2Qj5IlSxoS+nN1X4uA/1E4B2rMQUEBRlGjyORkoI74jz/+4PJFzE0wkuzKVaCUbeLEiXTw4EHm7AELK2YjmA0YKj5+/Hj+Plu2bEmNGjXyGCmXI6Dbdfbs2Vw6iOE4P//8s9vnHasBOpxHjx7N/9aqVYs6d+7M/SNmA8pBFy1axPdv//79PV9uaQcoZf3tt9/4+kSfQ79+/Zhh1iz7mlACHlYCAgICAp7c10SzmICAgEA4hlACAgICAuEYQgkICAgIhGMIJSAgICAQjiGUgICAgEA4hlACAgICAuEYQgkICAgIhGMIJSAgICAQjiGUgICAgEA4hlACAgICAuEYQgkICAgIhGMYP4XZhJDpkxwNKxcQEBAIbZD3s5Do4YQSICI/Pz/+N3Xq1J4WRUBAQED3/Q1Eco4gWESJ6Nu3b/Tw4UOKEyeOIuphaFoojvv37wv2USuIdXEMsTb2IdZF/7XB1g4FkCJFCqaqdwThCSAxEjEipUqVSvXr8cWICzc4xLo4hlgb+xDrou/aOPMAZIjEsICAgEA4hlACAgICAuEYQgloQLRo0eiXX37hfwX+g1gXxxBrYx9iXTy3NiIxLCAgIBCOITwBAQEBgXAMoQQEBAQEwjGEEhAQEBAIxxBKQEBAQCAcQygBlZgxYwalS5eOokePTkWKFKHjx49TeMOBAweoVq1a3JGITuv169cHeR41B8OGDaPkyZNTjBgxqGLFinTjxg0K6xgzZgwVKlSIO9CTJElCdevWpWvXrgU55+PHj9StWzdKmDAhxY4dmxo0aEBPnjyhsI5Zs2ZR7ty5LY1PxYoVo61bt1J4XxdbjB07lu+p3r17u31thBJQgZUrV1Lfvn25bOv06dOUJ08eqlKlCj19+pTCE96/f89/OxSiPYwfP56mTZtGs2fPpmPHjlGsWLF4nXAxh2Xs37+fb9ajR4/Szp07KSAggCpXrszrJaNPnz60adMmWr16NZ8P2pL69etTWAc687HBnTp1ik6ePEnly5enOnXq0KVLl8L1uljjxIkTNGfOHFaW1nDb2qBEVEAZChcuLHXr1s3y+9evX6UUKVJIY8aMkcIrcCmtW7fO8vu3b9+kZMmSSRMmTLA89vr1aylatGjS8uXLpfCEp0+f8vrs37/fsg5RokSRVq9ebTnnypUrfI63t7cU3pAgQQJp/vz5Yl0kSfLz85MyZcok7dy5UypTpozUq1cvftydayM8AYX4/PkzWzEIbVhzD+F3b29vj8pmJvj4+NDjx4+DrBN4TBA6C2/r9ObNG/73u+++439x/cA7sF6brFmzUpo0acLV2nz9+pVWrFjBHhLCQmJdiD3IGjVqBFkDwJ1rIwjkFOL58+d88SZNmjTI4/j96tWrHpPLbIACAOytk/xceGGoRVy3RIkSlDNnTn4Mf3/UqFEpfvz44XJtLly4wJs+woKIba9bt46yZ89OZ8+eDdfrsmLFCg4vIxxkC3deM0IJCAi42bK7ePEiHTp0yNOimAZZsmThDR8e0j///EOtW7fmGHd4xv3796lXr16cQ0KxiZEQ4SCFSJQoEUWKFClYVh6/J0uWzGNymQ3yWoTnderevTtt3ryZ9u7dG4SqHH8/woqvX78Ol2sDizZjxoxUoEABrqRCccHUqVPD9bqcOnWKC0vy589PkSNH5gOKEYUV+BkWv7vWRigBFRcwLt7du3cHcfnxO1xcgUB4eXnxxWm9ThiOgSqhsL5OyJNDASDMsWfPHl4La+D6iRIlSpC1QQnpvXv3wvza2APun0+fPoXrdalQoQKHyeAhyUfBggWpefPmlp/dtjaa09nhECtWrOAql7/++ku6fPmy1KlTJyl+/PjS48ePpfAEVDKcOXOGD1xKkydP5p/v3r3Lz48dO5bXZcOGDdL58+elOnXqSF5eXpK/v78UltGlSxcpXrx40r59+6RHjx5Zjg8fPljO6dy5s5QmTRppz5490smTJ6VixYrxEdbx008/cZWUj48PXxP4PUKECNKOHTvC9brYg3V1kDvXRigBlZg+fTp/IVGjRuWS0aNHj0rhDXv37uXN3/Zo3bq1pUx06NChUtKkSVlpVqhQQbp27ZoU1mFvTXAsXLjQcg4UYdeuXbk8MmbMmFK9evVYUYR1tGvXTkqbNi3fN4kTJ+ZrQlYA4XldXFEC7lobQSUtICAgEI4hcgICAgIC4RhCCQgICAiEYwglICAgIBCOIZSAgICAQDiGUAICAgIC4RhCCQgICAiEYwglICAgIBCOIZSAgICAQDiGUAICAgrRpk0bHv2HA3wuIPeqVKkS/fnnn8yDIyAQmiCUgICAClStWpUePXpEd+7c4Rm55cqVYyrgmjVr0pcvXzwtnoCAyxBKQEBABaJFi8YsqSlTpmT6359//pk2bNjACuGvv/7icyZPnky5cuXi2cqpU6emrl270rt37/g5TNPCoHXw6Vtj/fr1fL6fnx9TB4ONNHny5MwxnzZtWqZeFhDQE0IJCAjoBAxNBzf+2rVrLWNHwQePIeqLFi1iWukBAwbwc9jomzZtSgsXLgzyHvi9YcOGFCdOHH7txo0badWqVUwbvHTpUkqXLp1H/jaBsAsxWUxAQEdg7uv58+f5Z4yVlIHNe/To0dS5c2eaOXMmP9ahQwcqXrw4h5Vg7WOoyL///ku7du3i58EVnylTJipZsiTnH+AJCAjoDeEJCAjoCJDyYsMGsJljWAhCRrDsW7ZsSS9evKAPHz7w84ULF6YcOXKwlwAsWbKEN/rSpUtbEtAYKIJxjD179qQdO3Z48C8TCKsQSkBAQEdcuXKFJ4khYYwkce7cuWnNmjU8PnDGjBl8DmL9MuANyDkEhILatm1rUSLINfj4+NCoUaPI39+fGjduzKEiAQE9IZSAgIBOQMwfIwIbNGjAmz7KRSdNmkRFixalzJkz08OHD4O9pkWLFnT37l2O/1++fJmHrlsDyeMmTZrQvHnzaOXKlaxQXr58aeBfJRDWIXICAgIqgJm4jx8/pq9fv/Kw723btnHlDqz/Vq1a0cWLFykgIICmT59OtWrVosOHD9Ps2bODvU+CBAmofv361L9/f6pcuXKQgfSoLkKuIF++fJxkXr16NVckxY8f3+C/ViAsQ3gCAgIqgE0fGzQSvugZ2Lt3L1vzKBONFCkSVwlhEx83bhzlzJmTK3sclXe2b9+eQ0Tt2rUL8jjyCOPHj+ch44UKFeIQExLHUAgCAnpBjJcUEPAw/v77b+rTpw+Hi6JGjeppcQTCGUQ4SEDAQ0CVEMpDx44dSz/88INQAAIegfArBQQ8BIR60FeAOP+gQYM8LY5AOIUIBwkICAiEYwhPQEBAQCAcQygBAQEBgXAMoQQEBAQEwjGEEhAQEBAIxxBKQEBAQCAcQygBAQEBgXAMoQQEBAQEwjGEEhAQEBAIxxBKQEBAQIDCL/4HIO4T6W/aIrIAAAAASUVORK5CYII=",
      "text/plain": [
       "<Figure size 400x400 with 1 Axes>"
      ]
     },
     "metadata": {},
     "output_type": "display_data"
    }
   ],
   "source": [
    "nrows = 1\n",
    "ncols = 1\n",
    "_, axs = plt.subplots(nrows, ncols, figsize=(4, 4))\n",
    "\n",
    "# Why is this a transpose? Because ode outputs as an n_time_steps X 2 array\n",
    "plot_results(axs, np.transpose(new_populations_ode), params_full)"
   ]
  },
  {
   "cell_type": "code",
   "execution_count": 21,
   "metadata": {
    "tags": [
     "otter_answer_cell"
    ]
   },
   "outputs": [
    {
     "name": "stdout",
     "output_type": "stream",
     "text": [
      "This plot is also manually graded. See rubric and slides for more information on expected output.\n"
     ]
    }
   ],
   "source": [
    "# Manual grade\n",
    "print(\"This plot is also manually graded. See rubric and slides for more information on expected output.\")"
   ]
  },
  {
   "cell_type": "code",
   "execution_count": 22,
   "metadata": {
    "deletable": false,
    "editable": false
   },
   "outputs": [
    {
     "data": {
      "text/html": [
       "<p><strong><pre style='display: inline;'>plot_ode_solver</pre></strong> passed! 🌈</p>"
      ],
      "text/plain": [
       "plot_ode_solver results: All test cases passed!"
      ]
     },
     "execution_count": 22,
     "metadata": {},
     "output_type": "execute_result"
    }
   ],
   "source": [
    "grader.check(\"plot_ode_solver\")"
   ]
  },
  {
   "cell_type": "markdown",
   "metadata": {
    "deletable": false,
    "editable": false
   },
   "source": [
    "## Hours and collaborators\n",
    "Required for every assignment - fill out before you hand-in.\n",
    "\n",
    "Listing names and websites helps you to document who you worked with and what internet help you received in the case of any plagiarism issues. You should list names of anyone (in class or not) who has substantially helped you with an assignment - or anyone you have *helped*. You do not need to list TAs.\n",
    "\n",
    "Listing hours helps us track if the assignments are too long."
   ]
  },
  {
   "cell_type": "code",
   "execution_count": 23,
   "metadata": {
    "tags": [
     "otter_answer_cell"
    ]
   },
   "outputs": [],
   "source": [
    "\n",
    "# List of names (creates a set)\n",
    "worked_with_names = {\"N/A\"}\n",
    "# List of URLS 2S5 (creates a set)\n",
    "websites = {\"N/A\"}\n",
    "# Approximate number of hours, including lab/in-class time\n",
    "hours = 1.5"
   ]
  },
  {
   "cell_type": "code",
   "execution_count": 24,
   "metadata": {
    "deletable": false,
    "editable": false
   },
   "outputs": [
    {
     "data": {
      "text/html": [
       "<p><strong><pre style='display: inline;'>hours_collaborators</pre></strong> passed! 🙌</p>"
      ],
      "text/plain": [
       "hours_collaborators results: All test cases passed!"
      ]
     },
     "execution_count": 24,
     "metadata": {},
     "output_type": "execute_result"
    }
   ],
   "source": [
    "grader.check(\"hours_collaborators\")"
   ]
  },
  {
   "cell_type": "markdown",
   "metadata": {},
   "source": [
    "### To submit\n",
    "\n",
    "Did you remember to restart and run all then save? \n",
    "\n",
    "- Submit just this .ipynb file through gradescope, Lab 5 iterative systems\n",
    "\n",
    "If the Gradescope autograder fails, please check here first for common reasons for it to fail\n",
    "    https://docs.google.com/presentation/d/1tYa5oycUiG4YhXUq5vHvPOpWJ4k_xUPp2rUNIL7Q9RI/edit?usp=sharing\n",
    "\n",
    "On rare occaisions, if you spend too much time computing the Gradescope grader will time out. If this happens to you, try reducing the number of iterations. Using an excessive (or not enough) **t** values can also cause problems."
   ]
  }
 ],
 "metadata": {
  "kernelspec": {
   "display_name": ".venv",
   "language": "python",
   "name": "python3"
  },
  "language_info": {
   "codemirror_mode": {
    "name": "ipython",
    "version": 3
   },
   "file_extension": ".py",
   "mimetype": "text/x-python",
   "name": "python",
   "nbconvert_exporter": "python",
   "pygments_lexer": "ipython3",
<<<<<<< HEAD
   "version": "3.12.7"
=======
   "version": "3.11.7"
>>>>>>> 12de47a0ef9ec65719f2599526131626787fdc17
  },
  "otter": {
   "OK_FORMAT": true,
   "tests": {
    "compute_n_time_steps": {
     "name": "compute_n_time_steps",
     "points": 5,
     "suites": [
      {
       "cases": [
        {
         "code": ">>> assert new_populations_check.shape[0] == 2\n",
         "hidden": false,
         "locked": false
        },
        {
         "code": ">>> assert new_populations_check.shape[1] == params['n time steps']\n",
         "hidden": false,
         "locked": false
        },
        {
         "code": ">>> assert np.isclose(new_populations_check[0, -1], -0.000110352058)\n",
         "hidden": false,
         "locked": false
        },
        {
         "code": ">>> assert np.isclose(new_populations_check[1, -1], 0.217613504)\n",
         "hidden": false,
         "locked": false
        }
       ],
       "scored": true,
       "setup": "",
       "teardown": "",
       "type": "doctest"
      }
     ]
    },
    "copy_correct": {
     "name": "copy_correct",
     "points": 1,
     "suites": [
      {
       "cases": [
        {
         "code": ">>> assert np.isclose(prey_new, 90)\n",
         "hidden": false,
         "locked": false
        },
        {
         "code": ">>> assert np.isclose(predator_new, 118)\n",
         "hidden": false,
         "locked": false
        }
       ],
       "scored": true,
       "setup": "",
       "teardown": "",
       "type": "doctest"
      }
     ]
    },
    "hours_collaborators": {
     "name": "hours_collaborators",
     "points": 1,
     "suites": [
      {
       "cases": [
        {
         "code": ">>> assert not 'not filled out' in worked_with_names\n",
         "hidden": false,
         "locked": false
        },
        {
         "code": ">>> assert not 'not filled out' in websites\n",
         "hidden": false,
         "locked": false
        },
        {
         "code": ">>> assert hours > 0\n",
         "hidden": false,
         "locked": false
        }
       ],
       "scored": true,
       "setup": "",
       "teardown": "",
       "type": "doctest"
      }
     ]
    },
    "ode_solver_deriv_fc": {
     "name": "ode_solver_deriv_fc",
     "points": 2,
     "suites": [
      {
       "cases": [
        {
         "code": ">>> assert np.isclose(predator_prey_derivative(np.array([prey_initial, predator_initial]), _, params_full)[0], 0.0)\n",
         "hidden": false,
         "locked": false
        },
        {
         "code": ">>> assert np.isclose(predator_prey_derivative(np.array([prey_initial, predator_initial]), _, params_full)[1], 80)\n",
         "hidden": false,
         "locked": false
        }
       ],
       "scored": true,
       "setup": "",
       "teardown": "",
       "type": "doctest"
      }
     ]
    },
    "plot_ode_solver": {
     "name": "plot_ode_solver",
     "points": 1,
     "suites": [
      {
       "cases": [
        {
         "code": ">>> assert np.isclose(new_populations_ode[-1, 0], 65.200863, atol=0.1)\n",
         "hidden": false,
         "locked": false
        },
        {
         "code": ">>> assert np.isclose(new_populations_ode[-1, 1], 51.062375, atol=0.1)\n",
         "hidden": false,
         "locked": false
        }
       ],
       "scored": true,
       "setup": "",
       "teardown": "",
       "type": "doctest"
      }
     ]
    }
   }
  }
 },
 "nbformat": 4,
 "nbformat_minor": 2
}
