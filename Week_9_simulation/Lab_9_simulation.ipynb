{
 "cells": [
  {
   "cell_type": "code",
   "execution_count": null,
   "metadata": {
    "deletable": false,
    "editable": false
   },
   "outputs": [],
   "source": [
    "# Initialize Otter\n",
    "import otter\n",
    "grader = otter.Notebook(\"Lab_9_simulation.ipynb\")"
   ]
  },
  {
   "cell_type": "markdown",
   "metadata": {},
   "source": [
    "# Iterative systems part II \n",
    "\n",
    "This lab has the following parts:\n",
    " - Combine your functions from lecture activity to simulate a skier going down an inclined slope (add starting and stopping points)\n",
    " - Extend that code to handle a \"slope\" made out of a quadratic polynomial\n",
    " - Some math to make a line or quadratic that starts at a given point with a given slope (will be used in homework to buid a slope out of polynomial pieces)\n",
    "\n",
    "Slides\n",
    "https://docs.google.com/presentation/d/1jDIVbp7EkyqVJJCpXnkg9KQl6stHF9WohauL1Lnr3YM/edit?usp=sharing\n"
   ]
  },
  {
   "cell_type": "code",
   "execution_count": null,
   "metadata": {},
   "outputs": [],
   "source": [
    "# The usual imports\n",
    "import numpy as np\n",
    "import matplotlib.pyplot as plt\n",
    "from numpy.polynomial import polynomial"
   ]
  },
  {
   "cell_type": "markdown",
   "metadata": {
    "tags": [
     "otter_answer_cell"
    ]
   },
   "source": [
    "# Start at the top, slide to the bottom\n",
    "\n",
    "TODO: Use the code from the lecture activity to simulate a skier sliding down a slope\n",
    "\n",
    "Given:\n",
    "\n",
    "- slope in the form of a linear equation **a0 + a1 x = y**\n",
    "- a starting **x** value\n",
    "- distance to travel in **x**\n",
    "\n",
    "Assumes the skier starts at the top of the hill with zero velocity\n",
    "\n",
    "You'll need to make the following changes to your simulate routine\n",
    "\n",
    "- Calculate an initial start position based on the linear equation (start on the slope)\n",
    "\n",
    "- Stop after traveling the given distance\n",
    "\n",
    "- Return the final velocity as well as the poses\n"
   ]
  },
  {
   "cell_type": "code",
   "execution_count": null,
   "metadata": {
    "tags": [
     "otter_answer_cell"
    ]
   },
   "outputs": [],
   "source": [
    "# This is makes this slightly safer than defining a variable \n",
    "def gravity():\n",
    "    return -9.8"
   ]
  },
  {
   "cell_type": "code",
   "execution_count": null,
   "metadata": {
    "tags": [
     "otter_answer_cell"
    ]
   },
   "outputs": [],
   "source": [
    "# TODO: Copy your compute_acceleration function here\n"
   ]
  },
  {
   "cell_type": "code",
   "execution_count": null,
   "metadata": {
    "tags": [
     "otter_answer_cell"
    ]
   },
   "outputs": [],
   "source": [
    "# TODO Copy your simulate one step function here"
   ]
  },
  {
   "cell_type": "code",
   "execution_count": null,
   "metadata": {
    "tags": [
     "otter_answer_cell"
    ]
   },
   "outputs": [],
   "source": [
    "# TODO Copy your simulate n time steps function here\n",
    "#    Check that everything works (step 1 below) BEFORE editing this to stop after x_travel\n",
    "# Step 2: \n",
    "#   Most obvious change is to change the for loop to a while loop; be careful that you are\n",
    "#     checking total distance traveled in x - reminder that you might be moving right OR left\n",
    "# You'll need to change how you store the positions; easiest to make a list and use append then\n",
    "#   convert to a numpy array at the end, after the while loop (don't forget to transpose it so it is 2xn)\n",
    "# You'll also want to return the final velocity.\n",
    "...\n"
   ]
  },
  {
   "cell_type": "code",
   "execution_count": null,
   "metadata": {
    "tags": [
     "otter_answer_cell"
    ]
   },
   "outputs": [],
   "source": [
    "def simulate_linear(x_start, x_travel, poly, delta_t):\n",
    "    \"\"\"Run the simulation with the given start location and polyline\n",
    "    @param x_start - the starting x location. \n",
    "    @param x_travel - after traveled x_travel distance, stop\n",
    "    @param poly - tuple/list for the polynomial. a0 = poly[0], a1 = poly[1]\n",
    "    @param delta_t - time step\n",
    "    @return positions as a 2xn numpy array and final velocity as a tuple\"\"\"\n",
    "    # TODO\n",
    "    #  Step 1: Calculate the y value for the start position and the acceleration from the poly\n",
    "    #     Call simulate with 100 time steps\n",
    "    #     Return the poses, return 0,0 as the velocity\n",
    "    #  Step 2: Now change your simulate function so that it stops when the skier has traveled x_travel distance\n",
    "    #     Edit to also return the ending velocity\n",
    "    ..."
   ]
  },
  {
   "cell_type": "code",
   "execution_count": null,
   "metadata": {
    "tags": [
     "otter_answer_cell"
    ]
   },
   "outputs": [],
   "source": [
    "# Time step\n",
    "delta_t = 0.01\n",
    "\n",
    "# Actually run the simulation\n",
    "# Time step\n",
    "delta_t = 0.1\n",
    "x_start = 1.0\n",
    "x_travel = 2.0\n",
    "poly = (1, 0.5)\n",
    "\n",
    "ret_poses, final_v = simulate_linear(x_start=x_start, x_travel=x_travel, poly=poly, delta_t=delta_t)\n",
    "\n",
    "# These will be true in Step 1 and Step 2 (starting position)\n",
    "assert np.isclose(ret_poses[0, 0], x_start)\n",
    "assert np.isclose(ret_poses[1, 0], polynomial.polyval(x_start, np.array(poly)))\n",
    "assert ret_poses[1, 0] > ret_poses[1, -1]\n",
    "\n",
    "# After you've copied over your simulate code, but before you've fixed it (after step 1 but before step 2) these are the expected values\n",
    "x_end_100_time_steps = -189.152\n",
    "print(f\"Step 1: expected last pose to be {x_end_100_time_steps}, {polynomial.polyval(x_end_100_time_steps, np.array(poly))}, was {ret_poses[:, -1]} \")\n",
    "\n",
    "# This one will be true if the last pose is past the x_travel\n",
    "x_end_x_travel = -1.156\n",
    "print(f\"Step 2: expected last pose to be {x_end_x_travel}, {polynomial.polyval(x_end_x_travel, np.array(poly))}, was {ret_poses[:, -1]} \")\n",
    "print(f\"Step 2: expected final velocity to be (-4.312, -2.156), was {final_v}\")\n"
   ]
  },
  {
   "cell_type": "code",
   "execution_count": null,
   "metadata": {
    "tags": [
     "otter_answer_cell"
    ]
   },
   "outputs": [],
   "source": [
    "# This is for visualization purposes; it shows the lines (in black) with\n",
    "#  your calculated acceleration vectors in red and gravity in green and returned poses in cyan\n",
    "# Feel free to edit\n",
    "# Note that your acceleration vectors should lie on top of the lines and point down\n",
    "fig, axs = plt.subplots(1, 4, figsize=(8, 2))\n",
    "\n",
    "# Note: Not doing flat bit because, well, the skier would not go anywhere...\n",
    "for ind, (a1, x_limit) in enumerate(zip((-5, -1, 1, 5),(0.2, 5, 5, 0.2))):\n",
    "    # Plot line\n",
    "    if ind < 2:\n",
    "        xs = np.linspace(x_start, x_start + x_travel)\n",
    "    else:\n",
    "        xs = np.linspace(x_start, x_start - x_travel)\n",
    "    \n",
    "    # Set the y intercept to 1.5\n",
    "    poly_plot = (1.5, a1)\n",
    "    ys = polynomial.polyval(xs, np.array(poly_plot))\n",
    "\n",
    "    axs[ind].plot(xs, ys, ':b')\n",
    "    axs[ind].axis('equal')\n",
    "\n",
    "    f_x, f_y = compute_acceleration(a0=poly_plot[0], a1=poly_plot[1])\n",
    "    axs[ind].arrow(xs[1], ys[1], f_x, f_y, color='red')\n",
    "\n",
    "    axs[ind].arrow(xs[1], ys[1], 0.0, gravity(), color='green', label=\"gravity\")\n",
    "\n",
    "    ret_poses_plot, final_v_plot = simulate_linear(x_start=x_start, x_travel=x_travel, poly=poly_plot, delta_t=delta_t)    \n",
    "\n",
    "    axs[ind].plot(ret_poses_plot[0, :], ret_poses_plot[1, :], color='cyan', label='path')\n",
    "    axs[ind].arrow(ret_poses_plot[0, -1], ret_poses_plot[1, -1], final_v_plot[0], final_v_plot[1], color='darkgreen', label=\"vel\")\n",
    "    if np.abs(final_v_plot[0]) > 0:\n",
    "        axs[ind].legend()\n",
    "fig.tight_layout()\n"
   ]
  },
  {
   "cell_type": "code",
   "execution_count": null,
   "metadata": {
    "deletable": false,
    "editable": false
   },
   "outputs": [],
   "source": [
    "grader.check(\"slide_down_slope\")"
   ]
  },
  {
   "cell_type": "markdown",
   "metadata": {
    "tags": [
     "otter_answer_cell"
    ]
   },
   "source": [
    "# Slide down a quadratic slope\n",
    "\n",
    "TODO: Change from a linear slope to a quadratic one\n",
    " - calculate the acceleration for a quadratic function (use the tangent as the current linear slope)\n",
    " - calculate a new acceleration at every time step (based on the tanget at that point)\n",
    " \n",
    "One other thing we'll see here is that the tangent approximation is not \"perfect\" - the skier will end up off of the slope if you simulate long enough."
   ]
  },
  {
   "cell_type": "code",
   "execution_count": null,
   "metadata": {
    "tags": [
     "otter_answer_cell"
    ]
   },
   "outputs": [],
   "source": [
    "# TODO: Assuming you wrote the original compute acceleration by calculating the theta of the slope of the line\n",
    "#   then the modification looks like:\n",
    "# Calculate the derivative of the polynomial at the given point\n",
    "# Use that to get the slope angle theta\n",
    "# Do the same code you had before to compute the acceleration\n",
    "#  NOTE: This should still work for a linear polynomial... you might find polynomial.polyder useful here\n",
    "\n",
    "def compute_quad_acceleration(x, poly):\n",
    "    \"\"\"TODO Compute the acceleration of a mass = 1 frictionless box on a polynomial, assuming gravity of -9.8\n",
    "    @param x - the current x value for the polynomial\n",
    "    @param poly - the polynomial in the form a0 + a1 x + a2 x^2... = y\n",
    "    @return ax, ay - 2d vector for the acceleration\"\"\"\n",
    "    ..."
   ]
  },
  {
   "cell_type": "code",
   "execution_count": null,
   "metadata": {
    "tags": [
     "otter_answer_cell"
    ]
   },
   "outputs": [],
   "source": [
    "# Testing your function\n",
    "poly_check = np.array((1.0, 0.5, 3.0))\n",
    "xs_check = (-1, 0, 1)\n",
    "\n",
    "f_check_res = ((1.7247999999999992, -9.4864), (-3.92, -1.96), (-1.472832369942196, -9.573410404624278))\n",
    "for ind, x_check in enumerate(xs_check):    \n",
    "    f_x_check, f_y_check = compute_quad_acceleration(x=x_check, poly=poly_check)\n",
    "    print(f\"Expected {f_check_res[ind]}, got ({f_x_check}, {f_y_check})\")"
   ]
  },
  {
   "cell_type": "code",
   "execution_count": null,
   "metadata": {
    "tags": [
     "otter_answer_cell"
    ]
   },
   "outputs": [],
   "source": [
    "# This is for visualization purposes; it shows the polynomial (in black) with\n",
    "#  your calculated acceleration vectors in red \n",
    "# Feel free to edit\n",
    "# Note that your acceleration vectors should parallel to the curve and point down\n",
    "fig, axs = plt.subplots(3, 3, figsize=(4, 4))\n",
    "\n",
    "# Note: Sampling 3 points along the quadratic, one of which is actually a line...\n",
    "polys_plot = (((-1.5, 2.0, 0.6)), (1.0, 2.0, 0.0), (0.0, 4.0, -3.0))\n",
    "for ir, poly_plot in enumerate(polys_plot):\n",
    "    for ic, x_try in enumerate((-2.0, 0.0, 2.0)):\n",
    "        # Plot line\n",
    "        xs = np.linspace(-3.5, 3.5)\n",
    "        ys = polynomial.polyval(xs, poly_plot)\n",
    "\n",
    "        # The quadratic\n",
    "        axs[ir, ic].plot(xs, ys, ':b')\n",
    "        #axs[ir, ic].axis('equal')\n",
    "\n",
    "        f_x, f_y = compute_quad_acceleration(x=x_try, poly=poly_plot)\n",
    "        y_plot = polynomial.polyval(x_try, poly_plot)\n",
    "        axs[ir, ic].arrow(x_try, y_plot, f_x, f_y, color='red')\n",
    "\n",
    "        axs[ir, ic].arrow(x_try, y_plot, 0.0, gravity(), color='green', label=\"gravity\")\n",
    "fig.tight_layout()\n"
   ]
  },
  {
   "cell_type": "code",
   "execution_count": null,
   "metadata": {
    "deletable": false,
    "editable": false
   },
   "outputs": [],
   "source": [
    "grader.check(\"quadratic_slope\")"
   ]
  },
  {
   "cell_type": "markdown",
   "metadata": {
    "tags": [
     "otter_answer_cell"
    ]
   },
   "source": [
    "# Part 2b: Simulate the skier on a quadratic slope\n",
    "\n",
    "TODO: Very similar to the linear example, except now calculating the slope at every point"
   ]
  },
  {
   "cell_type": "code",
   "execution_count": null,
   "metadata": {
    "tags": [
     "otter_answer_cell"
    ]
   },
   "outputs": [],
   "source": [
    "# TODO: copy the body of your linear simulate code here (but use the name sinulate_quad)\n",
    "#  First you should change it so that the acceleration is calculated at every time step from the current location\n",
    "#   (and call compute_quad_acceleration instead of compute_acceleration)\n",
    "#  What goes wrong: the skier can \"pass through\" the slope (see picture in slides). To fix this,\n",
    "#   if the skier goes under the polynomial curve, just put it back on the curve\n",
    "def simulate_quad(x_start, x_travel, poly, delta_t):\n",
    "    \"\"\"Run the simulation with the given start location and polyline\n",
    "    @param x_start - the starting x location. \n",
    "    @param x_travel - after traveled x_travel distance, stop\n",
    "    @param poly - tuple/list for the polynomial. a0 = poly[0], a1 = poly[1]\n",
    "    @param delta_t - time step\n",
    "    @return positions as a 2xn numpy array and final velocity as a tuple\"\"\"\n",
    "    ...\n"
   ]
  },
  {
   "cell_type": "code",
   "execution_count": null,
   "metadata": {
    "tags": [
     "otter_answer_cell"
    ]
   },
   "outputs": [],
   "source": [
    "# Checks\n",
    "poly_check2 = np.array((-1.5, 2.0, 0.6))\n",
    "x_start_check2 = 0.0\n",
    "x_travel_check2 = 3.0\n",
    "x_end_check2 = x_start_check2 - x_travel_check2\n",
    "\n",
    "f_check_res = ((1.7247999999999992, -9.4864), (-3.92, -1.96), (-1.472832369942196, -9.573410404624278))\n",
    "ret_poses_check_quad, vel_quad = simulate_quad(x_start=x_start_check2, x_travel=x_travel_check2, poly=poly_check2, delta_t=delta_t)\n",
    "\n",
    "assert np.isclose(ret_poses_check_quad[0, 0], x_start_check2) \n",
    "assert np.isclose(ret_poses_check_quad[1, 0], polynomial.polyval(x_start_check2, poly_check2)) \n",
    "\n",
    "assert np.isclose(ret_poses_check_quad[0, -1], x_end_check2, atol=0.1) \n",
    "assert np.isclose(ret_poses_check_quad[1, -1], polynomial.polyval(x_end_check2, poly_check2), atol=0.1) \n",
    "\n",
    "vel_quad_check = (-2.91059892, -6.91631447)\n",
    "assert np.isclose(vel_quad[0], vel_quad_check[0], atol=0.1) \n",
    "assert np.isclose(vel_quad[1], vel_quad_check[1], atol=0.1) \n"
   ]
  },
  {
   "cell_type": "code",
   "execution_count": null,
   "metadata": {
    "tags": [
     "otter_answer_cell"
    ]
   },
   "outputs": [],
   "source": [
    "# This is for visualization purposes; it shows the polynomial (in black) with\n",
    "#  your calculated poses in blue with final velocity in dark green\n",
    "# Feel free to edit\n",
    "# Note that your acceleration vectors should parallel to the curve and point down\n",
    "fig, axs = plt.subplots(1, 3, figsize=(9, 3))\n",
    "\n",
    "# Note: Sampling 3 points along the quadratic, one of which is actually a line...\n",
    "polys_plot = (((-1.5, 2.0, 0.6)), (1.0, 2.0, 0.0), (0.0, 4.0, -3.0))\n",
    "for ind, poly_plot in enumerate(polys_plot):\n",
    "    # Plot line\n",
    "    xs = np.linspace(-3.5, 3.5)\n",
    "    ys = polynomial.polyval(xs, poly_plot)\n",
    "\n",
    "    # The quadratic\n",
    "    axs[ind].plot(xs, ys, ':b')\n",
    "    #axs[ind].axis('equal')\n",
    "\n",
    "    ret_poses_plot, vel_plot = simulate_quad(x_start=0.0, x_travel=3.0, poly=poly_plot, delta_t=delta_t)\n",
    "    axs[ind].plot(ret_poses_plot[0, :], ret_poses_plot[1, :], color='cyan', label='path')\n",
    "    axs[ind].arrow(ret_poses_plot[0, -1], ret_poses_plot[1, -1], final_v_plot[0], final_v_plot[1], color='darkgreen', label=\"vel\")\n",
    "    axs[ind].legend()\n",
    "fig.tight_layout()\n"
   ]
  },
  {
   "cell_type": "code",
   "execution_count": null,
   "metadata": {
    "deletable": false,
    "editable": false
   },
   "outputs": [],
   "source": [
    "grader.check(\"simulate quadratic\")"
   ]
  },
  {
   "cell_type": "markdown",
   "metadata": {
    "tags": [
     "otter_answer_cell"
    ]
   },
   "source": [
    "## Make geometry for slope\n",
    "\n",
    "This is in preperation for \"building\" a slope from a sequence of linear and quadratic polynomials (see homework). \n",
    "\n",
    "To string the slopes together, you need the end of the first segment to match the start of the next segment. For lines, this means there's only one degree of freedom, which we'll make be the slope (a1). This leads to two equations:\n",
    "\n",
    "Let x_end_prev, y_end_prev be the end of the previous line segment, and line_slope be the desired line slope:\n",
    "\n",
    "**a0 + a1 x_end_prev = y_end_prev**\n",
    "\n",
    "**a1 = line_slope**\n",
    "\n",
    "For quadratics, we need an additional constraint (because there are 3 unknowns); there's no \"right\" answer for this, but for this problem we'll make the third constraint be that the curve has to end at x_end, y_end. This leads to three equations\n",
    "\n",
    "**a0 + a1 x_end_prev + a2 x_end_prev = y_end_prev**\n",
    "\n",
    "**a1 + 2 a2 x_end_prev = line_slope**\n",
    "\n",
    "**a0 + a1 x_end + a2 x_end = y_end**\n",
    "\n"
   ]
  },
  {
   "cell_type": "code",
   "execution_count": null,
   "metadata": {
    "tags": [
     "otter_answer_cell"
    ]
   },
   "outputs": [],
   "source": [
    "# TODO create a linear polynomial that starts at the given start point and has the given slope\n",
    "def solve_linear_polynomial(x_start, y_start, line_slope):\n",
    "    \"\"\" Return a0 + a1 x = y (see instructions at the start of this question)\n",
    "    @param x_start - x location to start the line at\n",
    "    @param y_start - make a0 + a1 x_start = y_start\n",
    "    @param line_slope - slope of the line (a1) \n",
    "    @return a0, a1 as a numpy array (for np.polynomial)\"\"\"\n",
    "    ..."
   ]
  },
  {
   "cell_type": "code",
   "execution_count": null,
   "metadata": {
    "tags": [
     "otter_answer_cell"
    ]
   },
   "outputs": [],
   "source": [
    "x_start_c1 = 2.0\n",
    "y_start_c1 = 3.0\n",
    "line_slope_c1 = 1.0\n",
    "\n",
    "poly_c1 = solve_linear_polynomial(x_start=x_start_c1, y_start=y_start_c1, line_slope=line_slope_c1)\n",
    "\n",
    "assert np.isclose(y_start_c1, polynomial.polyval(x_start_c1, poly_c1), atol=0.001)\n",
    "assert np.isclose(line_slope_c1, poly_c1[1], atol=0.001)"
   ]
  },
  {
   "cell_type": "code",
   "execution_count": null,
   "metadata": {
    "tags": [
     "otter_answer_cell"
    ]
   },
   "outputs": [],
   "source": [
    "# TODO create a quadratic polynomial that starts at the given start point and has the given slope and ends at the given point\n",
    "def solve_quad_polynomial(x_start, y_start, x_end, y_end, join_slope):\n",
    "    \"\"\" Return a0 + a1 x + a2 x^2 = y (see instructions at the start of this equation)\n",
    "    @param x_start - x location to start the line at\n",
    "    @param y_start - make a0 + a1 x_start + a2 x_start^2 = y_start\n",
    "    @param x_end - x location at end of quadratic\n",
    "    @param y_end - make a0 + a1 x_end + a2 x_end^2 = y_end\n",
    "    @param join_slope - slope of the quadratic at x_start\n",
    "    @return a0, a1, a2 as a numpy array (for np.polynomial)\"\"\"\n",
    "    ..."
   ]
  },
  {
   "cell_type": "code",
   "execution_count": null,
   "metadata": {
    "tags": [
     "otter_answer_cell"
    ]
   },
   "outputs": [],
   "source": [
    "x_start_c2 = -1.0\n",
    "y_start_c2 = 3.0\n",
    "x_end_c2 = 2.0\n",
    "y_end_c2 = 2.0\n",
    "line_slope_c2 = 1.0\n",
    "\n",
    "poly_c2 = solve_quad_polynomial(x_start=x_start_c2, y_start=y_start_c2, x_end=x_end_c2, y_end=y_end_c2, join_slope=line_slope_c2)\n",
    "\n",
    "\n",
    "assert np.isclose(y_start_c2, polynomial.polyval(x_start_c2, poly_c2), atol=0.001)\n",
    "assert np.isclose(y_end_c2, polynomial.polyval(x_end_c2, poly_c2), atol=0.001)\n",
    "poly_der_c2 = polynomial.polyder(poly_c2)\n",
    "assert np.isclose(line_slope_c2, polynomial.polyval(x_start_c2, poly_der_c2), atol=0.001)"
   ]
  },
  {
   "cell_type": "code",
   "execution_count": null,
   "metadata": {
    "tags": [
     "otter_answer_cell"
    ]
   },
   "outputs": [],
   "source": [
    "# Plotting the polynomials with the constraints\n",
    "fig, axs = plt.subplots(1, 2, figsize=(4, 2))\n",
    "\n",
    "xs_plot = np.linspace(x_start_c1, x_start_c1 + 2.0)\n",
    "ys_plot = polynomial.polyval(xs_plot, poly_c1)\n",
    "axs[0].plot(xs_plot, ys_plot, ':k', label='fitted')\n",
    "\n",
    "axs[0].plot(x_start_c1, y_start_c1, 'Xr', label='start')\n",
    "axs[0].arrow(x_start_c1, y_start_c1, 1.0, line_slope_c1, color='Green', label='deriv')\n",
    "axs[0].set_title(\"Linear\")\n",
    "axs[0].legend()\n",
    "\n",
    "xs_plot = np.linspace(x_start_c2, x_end_c2)\n",
    "ys_plot = polynomial.polyval(xs_plot, poly_c2)\n",
    "axs[1].plot(xs_plot, ys_plot, ':k', label='fitted')\n",
    "\n",
    "axs[1].plot(x_start_c2, y_start_c2, 'Xr', label='start')\n",
    "axs[1].plot(x_end_c2, y_end_c2, 'Xr', label='end')\n",
    "axs[1].arrow(x_start_c2, y_start_c2, 1.0, line_slope_c2, color='Green', label='deriv')\n",
    "axs[1].set_title(\"Quad\")\n",
    "axs[1].legend()\n"
   ]
  },
  {
   "cell_type": "code",
   "execution_count": null,
   "metadata": {
    "deletable": false,
    "editable": false
   },
   "outputs": [],
   "source": [
    "grader.check(\"geometry\")"
   ]
  },
  {
   "cell_type": "markdown",
   "metadata": {
    "deletable": false,
    "editable": false
   },
   "source": [
    "## Hours and collaborators\n",
    "Required for every assignment - fill out before you hand-in.\n",
    "\n",
    "Listing names and websites helps you to document who you worked with and what internet help you received in the case of any plagiarism issues. You should list names of anyone (in class or not) who has substantially helped you with an assignment - or anyone you have *helped*. You do not need to list TAs.\n",
    "\n",
    "Listing hours helps us track if the assignments are too long."
   ]
  },
  {
   "cell_type": "code",
   "execution_count": null,
   "metadata": {
    "tags": [
     "otter_answer_cell"
    ]
   },
   "outputs": [],
   "source": [
    "\n",
    "# List of names (creates a set)\n",
    "worked_with_names = {\"not filled out\"}\n",
    "# List of URLS 2S5 (creates a set)\n",
    "websites = {\"not filled out\"}\n",
    "# Approximate number of hours, including lab/in-class time\n",
    "hours = -1.5"
   ]
  },
  {
   "cell_type": "code",
   "execution_count": null,
   "metadata": {
    "deletable": false,
    "editable": false
   },
   "outputs": [],
   "source": [
    "grader.check(\"hours_collaborators\")"
   ]
  },
  {
   "cell_type": "markdown",
   "metadata": {},
   "source": [
    "### To submit\n",
    "\n",
    "Double check your plots. \n",
    "\n",
    "- Submit this .ipynb file  to lab 9 (simulation)\n",
    "\n",
    "If the Gradescope autograder fails, please check here first for common reasons for it to fail\n",
    "    https://docs.google.com/presentation/d/1tYa5oycUiG4YhXUq5vHvPOpWJ4k_xUPp2rUNIL7Q9RI/edit?usp=sharing\n",
    "\n",
    "Failures: If you imported any files, make sure you submit them as well"
   ]
  }
 ],
 "metadata": {
  "kernelspec": {
   "display_name": "Python 3",
   "language": "python",
   "name": "python3"
  },
  "language_info": {
   "codemirror_mode": {
    "name": "ipython",
    "version": 3
   },
   "file_extension": ".py",
   "mimetype": "text/x-python",
   "name": "python",
   "nbconvert_exporter": "python",
   "pygments_lexer": "ipython3",
   "version": "3.9.6"
  },
  "otter": {
   "OK_FORMAT": true,
   "tests": {
    "geometry": {
     "name": "geometry",
     "points": 3,
     "suites": [
      {
       "cases": [
        {
         "code": ">>> assert np.isclose(y_start_c1, polynomial.polyval(x_start_c1, poly_c1), atol=0.001)\n",
         "hidden": false,
         "locked": false
        },
        {
         "code": ">>> assert np.isclose(line_slope_c1, poly_c1[1], atol=0.001)\n",
         "hidden": false,
         "locked": false
        },
        {
         "code": ">>> assert np.isclose(y_start_c2, polynomial.polyval(x_start_c2, poly_c2), atol=0.001)\n",
         "hidden": false,
         "locked": false
        },
        {
         "code": ">>> assert np.isclose(y_end_c2, polynomial.polyval(x_end_c2, poly_c2), atol=0.001)\n",
         "hidden": false,
         "locked": false
        },
        {
         "code": ">>> assert np.isclose(line_slope_c2, polynomial.polyval(x_start_c2, poly_der_c2), atol=0.001)\n",
         "hidden": false,
         "locked": false
        }
       ],
       "scored": true,
       "setup": "",
       "teardown": "",
       "type": "doctest"
      }
     ]
    },
    "hours_collaborators": {
     "name": "hours_collaborators",
     "points": 1,
     "suites": [
      {
       "cases": [
        {
         "code": ">>> assert not 'not filled out' in worked_with_names\n",
         "hidden": false,
         "locked": false
        },
        {
         "code": ">>> assert not 'not filled out' in websites\n",
         "hidden": false,
         "locked": false
        },
        {
         "code": ">>> assert hours > 0\n",
         "hidden": false,
         "locked": false
        }
       ],
       "scored": true,
       "setup": "",
       "teardown": "",
       "type": "doctest"
      }
     ]
    },
    "quadratic_slope": {
     "name": "quadratic_slope",
     "points": 3,
     "suites": [
      {
       "cases": [
        {
         "code": ">>> assert np.all(np.isclose(compute_quad_acceleration(x=xs_check[2], poly=poly_check), f_check_res[2], atol=0.01))\n",
         "hidden": false,
         "locked": false
        },
        {
         "code": ">>> assert np.all(np.isclose(compute_quad_acceleration(x=xs_check[0], poly=poly_check), f_check_res[0], atol=0.01))\n",
         "hidden": false,
         "locked": false
        },
        {
         "code": ">>> assert np.all(np.isclose(compute_quad_acceleration(x=xs_check[1], poly=poly_check), f_check_res[1], atol=0.01))\n",
         "hidden": false,
         "locked": false
        }
       ],
       "scored": true,
       "setup": "",
       "teardown": "",
       "type": "doctest"
      }
     ]
    },
    "simulate quadratic": {
     "name": "simulate quadratic",
     "points": 2,
     "suites": [
      {
       "cases": [
        {
         "code": ">>> assert np.isclose(ret_poses_check_quad[0, 0], x_start_check2)\n",
         "hidden": false,
         "locked": false
        },
        {
         "code": ">>> assert np.isclose(ret_poses_check_quad[1, 0], polynomial.polyval(x_start_check2, poly_check2))\n",
         "hidden": false,
         "locked": false
        },
        {
         "code": ">>> assert np.isclose(ret_poses_check_quad[0, -1], x_end_check2, atol=0.1)\n",
         "hidden": false,
         "locked": false
        },
        {
         "code": ">>> assert np.isclose(ret_poses_check_quad[1, -1], polynomial.polyval(x_end_check2, poly_check2), atol=0.1)\n",
         "hidden": false,
         "locked": false
        },
        {
         "code": ">>> assert np.isclose(vel_quad[0], vel_quad_check[0], atol=0.1)\n",
         "hidden": false,
         "locked": false
        },
        {
         "code": ">>> assert np.isclose(vel_quad[1], vel_quad_check[1], atol=0.1)\n",
         "hidden": false,
         "locked": false
        }
       ],
       "scored": true,
       "setup": "",
       "teardown": "",
       "type": "doctest"
      }
     ]
    },
    "slide_down_slope": {
     "name": "slide_down_slope",
     "points": 5,
     "suites": [
      {
       "cases": [
        {
         "code": ">>> assert np.isclose(ret_poses[0, 0], x_start)\n",
         "hidden": false,
         "locked": false
        },
        {
         "code": ">>> assert np.isclose(ret_poses[1, 0], polynomial.polyval(x_start, np.array(poly)))\n",
         "hidden": false,
         "locked": false
        },
        {
         "code": ">>> assert np.isclose(ret_poses[0, -1], x_end_x_travel, atol=0.1)\n",
         "hidden": false,
         "locked": false
        },
        {
         "code": ">>> assert np.isclose(final_v[0], -4.312, atol=0.1)\n",
         "hidden": false,
         "locked": false
        },
        {
         "code": ">>> assert np.isclose(final_v[1], -2.156, atol=0.1)\n",
         "hidden": false,
         "locked": false
        }
       ],
       "scored": true,
       "setup": "",
       "teardown": "",
       "type": "doctest"
      }
     ]
    }
   }
  }
 },
 "nbformat": 4,
 "nbformat_minor": 2
}
