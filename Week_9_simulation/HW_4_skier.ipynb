{
 "cells": [
  {
   "cell_type": "code",
   "execution_count": null,
   "metadata": {
    "deletable": false,
    "editable": false
   },
   "outputs": [],
   "source": [
    "# Initialize Otter\n",
    "import otter\n",
    "grader = otter.Notebook(\"HW_4_skier.ipynb\")"
   ]
  },
  {
   "cell_type": "markdown",
   "metadata": {},
   "source": [
    "# HWK 4 skier simulation\n",
    "\n",
    "The full skier simulation: slides https://docs.google.com/presentation/d/1fNTOc_4YXfBkQ_ko9X8eQqAgK3Opnn9c02i72sVDqKU/edit?usp=sharing\n",
    "\n",
    "Full skier implementation \n",
    " - position and velocity with Euler simulation (lecture activity/lab)\n",
    " - represent ski slope as a connected sequence of linear and quadratic polynomials\n",
    " - calculate acceleration from slope of polynomial\n",
    " - go airborne\n",
    " - stop simulation when dropped off ski slope\n",
    " - Optional\n",
    " -  Crash into the ground\n",
    " -  Bounce when hitting the ground\n",
    " -  Friction/drag\n",
    " -  Other slopes\n",
    "\n",
    "Week 1: \n",
    "- simulation with connected pieces of ground\n",
    "\n",
    "Week 2: \n",
    "- length of path skier travels\n",
    "- [optional additions]\n",
    "\n",
    "\n",
    "There are\n"
   ]
  },
  {
   "cell_type": "code",
   "execution_count": null,
   "metadata": {},
   "outputs": [],
   "source": [
    "# The usual imports\n",
    "import numpy as np\n",
    "import matplotlib.pyplot as plt"
   ]
  },
  {
   "cell_type": "code",
   "execution_count": null,
   "metadata": {},
   "outputs": [],
   "source": [
    "# These commands will force JN to actually re-load the external file when you re-execute the import command\n",
    "%load_ext autoreload\n",
    "%autoreload 2"
   ]
  },
  {
   "cell_type": "markdown",
   "metadata": {
    "deletable": false,
    "editable": false,
    "tags": [
     "otter_answer_cell"
    ]
   },
   "source": [
    "<!-- BEGIN QUESTION -->\n",
    "\n",
    "## Documentation\n",
    "\n",
    "TODO: use this cell to document: data structures, functions, test cases\n",
    "\n",
    "Note: There are two options for this assignment; you can use the classes/tests supplied in **ski_jump.py** or you can use your own implementation.\n",
    "\n",
    "Note 2: As in homework 3, you can fully test and debug **ski_jump.py** by executing it.\n",
    "\n",
    "Although **ski_jump.py** supplies the class structure/function decomposition, it does NOT include how you want to store data. So you should still write that down here."
   ]
  },
  {
   "cell_type": "code",
   "execution_count": null,
   "metadata": {
    "tags": [
     "otter_answer_cell"
    ]
   },
   "outputs": [],
   "source": [
    "# TODO If you're using ski_jump.py keep this uncommented; if you're doing your own thing, then replace this with\n",
    "#   either an import or your functions\n",
    "# Note: Automating testing in the next section\n",
    "# Note 2: Please go look at how the testing sets up the ground construction before starting implementation\n",
    "from ski_jump import Skier, Ground"
   ]
  },
  {
   "cell_type": "markdown",
   "metadata": {
    "deletable": false,
    "editable": false,
    "tags": [
     "otter_answer_cell"
    ]
   },
   "source": [
    "<!-- END QUESTION -->\n",
    "\n",
    "## Testing with a ground section consisting of one piece of linear ground\n",
    "\n",
    "For all of the tests the ground is defined as follows:\n",
    "- a tuple/list of the x breaks between the sections\n",
    "- a tuple/list of the constraints for the polynomial sections\n",
    "- if linear then just the slope\n",
    "- if quadratic then a tuple with the y value at the end (x is given by x breaks) and the slope at the start\n",
    "\n",
    "This is almost what you did in lab, except the x start and end values are coming from the list of breaks and you'll need to evaluate the previous polynomial to get y_start"
   ]
  },
  {
   "cell_type": "code",
   "execution_count": null,
   "metadata": {
    "tags": [
     "otter_answer_cell"
    ]
   },
   "outputs": [],
   "source": [
    "# TODO If you are using ski_jump.py then this function is done for you; if you are NOT, then comment out what's in the function\n",
    "#  and return your own data structure\n",
    "#  See the prompt at the start of this question and the cell below for what x_breaks and slopes are\n",
    "def build_ground(x_breaks, y_start, slopes):\n",
    "    \"\"\"Create a ground structure\n",
    "    @param x_breaks - a tuple of monotonically increasing x values that say when to switch polynomials\n",
    "    @param y_start - the starting y value\n",
    "    @param slopes - a tuple that has the additional data needed to build the polynomials\n",
    "    @return your data structure for the ground\"\"\"\n",
    "    return Ground(x_breaks=x_breaks, y_start=y_start, slopes_or_curves=slopes)"
   ]
  },
  {
   "cell_type": "code",
   "execution_count": null,
   "metadata": {
    "tags": [
     "otter_answer_cell"
    ]
   },
   "outputs": [],
   "source": [
    "# TODO If you are using ski_jump.py then this function is done for you; if you are NOT, then comment out what's in the function\n",
    "#  and return your own data structure\n",
    "#  Initializes the \"skier\"\n",
    "def initialize_skier(x, y, vx, vy):\n",
    "    \"\"\" Initialize the data structure for storing the skier's position/velocity etc\n",
    "    @param x, y - starting position\n",
    "    @param vx, vy - starting velocity\n",
    "    @return your skier data structure\"\"\"\n",
    "    return Skier((x, y), (vx, vy))"
   ]
  },
  {
   "cell_type": "code",
   "execution_count": null,
   "metadata": {
    "tags": [
     "otter_answer_cell"
    ]
   },
   "outputs": [],
   "source": [
    "# TODO If you are using ski_jump.py then this function is done for you; if you are NOT, then comment out what's in the function\n",
    "#  and run the simulation and return the poses\n",
    "def simulate_skier(skier, ground, delta_t):\n",
    "    \"\"\" Run the simulation; note STOP at y = 0\n",
    "    @param skier - the data structure returned from initialize_skier\n",
    "    @param ground - the data structure returned from build_ground\n",
    "    @param delta_t - simulation time step\n",
    "    @param poses - a 2xn numpy array with the locations of the skier\"\"\"\n",
    "    skier.simulate(ground=ground, delta_t=delta_t, eps=0.01)\n",
    "    return skier.saved_poses()"
   ]
  },
  {
   "cell_type": "code",
   "execution_count": null,
   "metadata": {
    "tags": [
     "otter_answer_cell"
    ]
   },
   "outputs": [],
   "source": [
    "# This is the \"ground\" used for these tests - a linear polynomial\n",
    "\n",
    "# Start at x = 0.0, end at x = 10.0\n",
    "x_breaks_simple = (0.0, 10.0)\n",
    "# Starting height\n",
    "y_start_simple = 10.0\n",
    "# Slope of the line is -0.5\n",
    "slope_ground_simple = -0.5\n",
    "\n",
    "ground_simple = build_ground(x_breaks=x_breaks_simple, y_start=y_start_simple, slopes=((slope_ground_simple,), ))"
   ]
  },
  {
   "cell_type": "code",
   "execution_count": null,
   "metadata": {
    "tags": [
     "otter_answer_cell"
    ]
   },
   "outputs": [],
   "source": [
    "# First skier test\n",
    "x_y_a = (0, 10)\n",
    "vx_vy_a = (2.0, 2.0 * 4.0)\n",
    "skier_airborne = initialize_skier(x_y_a[0], x_y_a[1], vx_vy_a[0], vx_vy_a[1])\n",
    "\n",
    "delta_t = 0.01\n",
    "poses = simulate_skier(skier=skier_airborne, ground=ground_simple, delta_t=delta_t)\n",
    "\n",
    "# TODO Test that the simulation starts with the correct pose and ends when crosses below the y = 0 line"
   ]
  },
  {
   "cell_type": "code",
   "execution_count": null,
   "metadata": {
    "deletable": false,
    "editable": false
   },
   "outputs": [],
   "source": [
    "grader.check(\"simple_tests\")"
   ]
  },
  {
   "cell_type": "markdown",
   "metadata": {
    "tags": [
     "otter_answer_cell"
    ]
   },
   "source": [
    "## Make the ground from several pieces\n",
    "TODO: Once your ground data structure is completed and build_geometry above is filled in, then test"
   ]
  },
  {
   "cell_type": "code",
   "execution_count": null,
   "metadata": {
    "tags": [
     "otter_answer_cell"
    ]
   },
   "outputs": [],
   "source": [
    "# TODO If you are using ski_jump.py then this function is done for you; if you are NOT, then comment out what's in the function\n",
    "#  and return the height at the given x value\n",
    "def height(ground, x):\n",
    "    \"\"\" Return the height at value x\n",
    "    @param ground - the data structure returned from build_ground\n",
    "    @return y value (height)\"\"\"\n",
    "    return ground.height(x)\n"
   ]
  },
  {
   "cell_type": "code",
   "execution_count": null,
   "metadata": {
    "tags": [
     "otter_answer_cell"
    ]
   },
   "outputs": [],
   "source": [
    "x_breaks_ground = (0.0, 2.0, 4.5, 10.0)\n",
    "y_start_ground = 10.0\n",
    "\n",
    "# A linear piece with slope -2.0, a flat piece, and a quadratic that starts with a slope of -4.0 and ends at y = 3.5\n",
    "slopes_ground = ((-2.0,), (0.0,), (3.5, -4.0))\n",
    "\n",
    "ground = build_ground(x_breaks=x_breaks_ground, y_start=y_start_ground, slopes=slopes_ground)\n",
    "\n",
    "# TODO Write tests for:\n",
    "#  Make sure starts at 0.0, 10.0, ends at 10.0, 3.5 and connected\n"
   ]
  },
  {
   "cell_type": "code",
   "execution_count": null,
   "metadata": {
    "deletable": false,
    "editable": false
   },
   "outputs": [],
   "source": [
    "grader.check(\"ground\")"
   ]
  },
  {
   "cell_type": "markdown",
   "metadata": {
    "deletable": false,
    "editable": false
   },
   "source": [
    "<!-- BEGIN QUESTION -->\n",
    "\n",
    "## TODO Create at least four different ski scenarios with 2 different ski slopes\n",
    "\n",
    "You can change the ski scenario by changing the starting location/velocity of the skier\n",
    "\n",
    "You must make plot code that shows:\n",
    "\n",
    "- The ground/sopes\n",
    "- The skier's path along the slope\n",
    "- If the skier is airborne than that should be in a different color\n",
    "\n",
    "Note that you can use the plot code in the lab as a starting point"
   ]
  },
  {
   "cell_type": "markdown",
   "metadata": {
    "tags": [
     "otter_answer_cell"
    ]
   },
   "source": [
    "_Type your answer here, replacing this text._"
   ]
  },
  {
   "cell_type": "code",
   "execution_count": null,
   "metadata": {
    "tags": [
     "otter_answer_cell"
    ]
   },
   "outputs": [],
   "source": [
    "# FILL IN HERE"
   ]
  },
  {
   "cell_type": "markdown",
   "metadata": {
    "deletable": false,
    "editable": false
   },
   "source": [
    "<!-- END QUESTION -->\n",
    "\n",
    "## Hours and collaborators\n",
    "Required for every assignment - fill out before you hand-in.\n",
    "\n",
    "Listing names and websites helps you to document who you worked with and what internet help you received in the case of any plagiarism issues. You should list names of anyone (in class or not) who has substantially helped you with an assignment - or anyone you have *helped*. You do not need to list TAs.\n",
    "\n",
    "Listing hours helps us track if the assignments are too long."
   ]
  },
  {
   "cell_type": "code",
   "execution_count": null,
   "metadata": {
    "tags": [
     "otter_answer_cell"
    ]
   },
   "outputs": [],
   "source": [
    "\n",
    "# List of names (creates a set)\n",
    "worked_with_names = {\"not filled out\"}\n",
    "# List of URLS 2S5 (creates a set)\n",
    "websites = {\"not filled out\"}\n",
    "# Approximate number of hours, including lab/in-class time\n",
    "hours = -1.5"
   ]
  },
  {
   "cell_type": "code",
   "execution_count": null,
   "metadata": {
    "deletable": false,
    "editable": false
   },
   "outputs": [],
   "source": [
    "grader.check(\"hours_collaborators\")"
   ]
  },
  {
   "cell_type": "markdown",
   "metadata": {},
   "source": [
    "### To submit\n",
    "\n",
    "Double check your plots. Don't forget **ski_jump.py** if you used it (or take out the import if you are not using). \n",
    "\n",
    "- Submit this .ipynb file and any additional .py files to homework 4 (skier)\n",
    "\n",
    "If the Gradescope autograder fails, please check here first for common reasons for it to fail\n",
    "    https://docs.google.com/presentation/d/1tYa5oycUiG4YhXUq5vHvPOpWJ4k_xUPp2rUNIL7Q9RI/edit?usp=sharing\n",
    "\n",
    "Congratulations, and enjoy being done with this class for the term!"
   ]
  }
 ],
 "metadata": {
  "kernelspec": {
   "display_name": "Python 3",
   "language": "python",
   "name": "python3"
  },
  "language_info": {
   "codemirror_mode": {
    "name": "ipython",
    "version": 3
   },
   "file_extension": ".py",
   "mimetype": "text/x-python",
   "name": "python",
   "nbconvert_exporter": "python",
   "pygments_lexer": "ipython3",
   "version": "3.12.4"
  },
  "otter": {
   "OK_FORMAT": true,
   "tests": {
    "ground": {
     "name": "ground",
     "points": 5,
     "suites": [
      {
       "cases": [
        {
         "code": ">>> assert np.isclose(height(ground=ground, x=x_breaks_ground[0]), y_start_ground, atol=0.01)\n",
         "hidden": false,
         "locked": false
        },
        {
         "code": ">>> assert np.isclose(height(ground=ground, x=x_breaks_ground[-1]), slopes_ground[2][0], atol=0.01)\n",
         "hidden": false,
         "locked": false
        },
        {
         "code": ">>> assert np.isclose(height(ground=ground, x=x_breaks_ground[1] - 0.0001), height(ground=ground, x=x_breaks_ground[1] + 0.0001), atol=0.01)\n",
         "hidden": false,
         "locked": false
        },
        {
         "code": ">>> assert np.isclose(height(ground=ground, x=x_breaks_ground[2] - 0.0001), height(ground=ground, x=x_breaks_ground[2] + 0.0001), atol=0.01)\n",
         "hidden": false,
         "locked": false
        }
       ],
       "scored": true,
       "setup": "",
       "teardown": "",
       "type": "doctest"
      }
     ]
    },
    "hours_collaborators": {
     "name": "hours_collaborators",
     "points": 1,
     "suites": [
      {
       "cases": [
        {
         "code": ">>> assert not 'not filled out' in worked_with_names\n",
         "hidden": false,
         "locked": false
        },
        {
         "code": ">>> assert not 'not filled out' in websites\n",
         "hidden": false,
         "locked": false
        },
        {
         "code": ">>> assert hours > 0\n",
         "hidden": false,
         "locked": false
        }
       ],
       "scored": true,
       "setup": "",
       "teardown": "",
       "type": "doctest"
      }
     ]
    },
    "simple_tests": {
     "name": "simple_tests",
     "points": 5,
     "suites": [
      {
       "cases": [
        {
         "code": ">>> assert np.isclose(poses[0, 0], x_breaks_simple[0])\n",
         "hidden": false,
         "locked": false
        },
        {
         "code": ">>> assert np.isclose(poses[1, 0], y_start_simple)\n",
         "hidden": false,
         "locked": false
        },
        {
         "code": ">>> assert poses[1, -1] < 0.0\n",
         "hidden": false,
         "locked": false
        },
        {
         "code": ">>> assert poses[0, -1] > x_breaks_simple[-1]\n",
         "hidden": false,
         "locked": false
        }
       ],
       "scored": true,
       "setup": "",
       "teardown": "",
       "type": "doctest"
      }
     ]
    }
   }
  }
 },
 "nbformat": 4,
 "nbformat_minor": 2
}
