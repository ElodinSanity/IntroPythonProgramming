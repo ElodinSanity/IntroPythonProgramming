{
 "cells": [
  {
   "cell_type": "code",
   "execution_count": 1,
   "metadata": {
    "deletable": false,
    "editable": false
   },
   "outputs": [],
   "source": [
    "# Initialize Otter\n",
    "import otter\n",
    "grader = otter.Notebook(\"lec_act_9_simulation.ipynb\")"
   ]
  },
  {
   "cell_type": "markdown",
   "metadata": {},
   "source": [
    "# Iterative systems part II\n",
    "\n",
    "This is a continuation/extension of week 5's simulation with some slight modifications (Week_5_systems/c_tutorial_iterative_systems.ipynb)\n",
    "\n",
    "- Full 2D - position and velocity of a point in space\n",
    "- Integrate velocity as well as position\n",
    "- Acceleration is a function of an inclined plane\n",
    "\n",
    "Slides: https://docs.google.com/presentation/d/1jDIVbp7EkyqVJJCpXnkg9KQl6stHF9WohauL1Lnr3YM/edit?usp=sharing\n"
   ]
  },
  {
   "cell_type": "code",
   "execution_count": 2,
   "metadata": {},
   "outputs": [],
   "source": [
    "# The usual imports\n",
    "import numpy as np\n",
    "import matplotlib.pyplot as plt\n",
    "from numpy.polynomial import polynomial"
   ]
  },
  {
   "cell_type": "markdown",
   "metadata": {
    "deletable": false,
    "editable": false
   },
   "source": [
    "## Acceleration from an inclined plane\n",
    "\n",
    "TODO Given the angle between a line and a horizontal line, calculate the acceleration for a box on the line\n",
    "\n",
    "The math for this is pretty straight forward: the only tricky part is that (unlike all the figures shown on-line) you'll need to consider both an inclined line that slopes down from left to right (in which case the box slides to the right and down) AND a line that slopes sup from left to right (in which case the box slides to the left and down). Gravity always points down and is assumed to be -9.8N.\n",
    "\n",
    "Assumption: mass is 1, so F=ma means a is F/1.\n",
    "\n",
    "Input: The line in the form a0 + a1x = y, where a0 and a1 are constants, gravity = 0, -9.8\n",
    "Output: An acceleration vector ax, ay"
   ]
  },
  {
   "cell_type": "code",
   "execution_count": 3,
   "metadata": {
    "tags": [
     "otter_answer_cell"
    ]
   },
   "outputs": [],
   "source": [
    "# This is makes this slightly safer than defining a variable \n",
    "def gravity():\n",
    "    return -9.8"
   ]
  },
  {
   "cell_type": "code",
   "execution_count": 4,
   "metadata": {
    "tags": [
     "otter_answer_cell"
    ]
   },
   "outputs": [],
   "source": [
    "def compute_acceleration(a0, a1):\n",
    "    \"\"\"TODO Compute the acceleration of a mass = 1 frictionless box on a line y = a0 + a1 x, assuming gravity of -9.8\n",
    "    @return ax, ay - 2d vector for the acceleration\"\"\"\n",
    "    \n",
    "    g = [0, gravity()]\n",
    "\n",
    "    magnitude = np.sqrt(1 + a1**2)\n",
    "    incline_vector = [1/magnitude, a1/magnitude]\n",
    "    \n",
    "    g_dot_incline = np.dot(g, incline_vector)\n",
    "\n",
    "    ax = incline_vector[0] * g_dot_incline\n",
    "    ay = incline_vector[1] * g_dot_incline\n",
    "\n",
    "    return ax, ay"
   ]
  },
  {
   "cell_type": "code",
   "execution_count": 5,
   "metadata": {
    "tags": [
     "otter_answer_cell"
    ]
   },
   "outputs": [],
   "source": [
    "# Horizontal line should produce no acceleration\n",
    "# y = a0 + 0 x\n",
    "fx_flat, fy_flat = compute_acceleration(3.0, 0.0)\n",
    "assert np.isclose(fx_flat, 0.0), np.isclose(fy_flat, 0.0) "
   ]
  },
  {
   "cell_type": "code",
   "execution_count": 6,
   "metadata": {
    "tags": [
     "otter_answer_cell"
    ]
   },
   "outputs": [],
   "source": [
    "# 45 degree slope pointing down to the right should have fx and fy magnitudes the same\n",
    "# y = a0 + x\n",
    "fx_flat, fy_flat = compute_acceleration(0.0, 1.0)\n",
    "assert np.isclose(fx_flat, fy_flat) "
   ]
  },
  {
   "cell_type": "code",
   "execution_count": 7,
   "metadata": {
    "tags": [
     "otter_answer_cell"
    ]
   },
   "outputs": [],
   "source": [
    "# 45 degree slope pointing down to the LEFT should have fx and fy magnitudes the same, but in opposite directions\n",
    "# y = a0 - x\n",
    "fx_flat, fy_flat = compute_acceleration(0.0, -1.0)\n",
    "assert np.isclose(fx_flat, -fy_flat) "
   ]
  },
  {
   "cell_type": "code",
   "execution_count": 8,
   "metadata": {
    "tags": [
     "otter_answer_cell"
    ]
   },
   "outputs": [
    {
     "data": {
      "image/png": "[encoded data removed]",
      "text/plain": [
       "<Figure size 800x200 with 5 Axes>"
      ]
     },
     "metadata": {},
     "output_type": "display_data"
    }
   ],
   "source": [
    "# This is for visualization purposes; it shows the lines (in black) with\n",
    "#  your calculated acceleration vectors in red and gravity in green\n",
    "# Feel free to edit\n",
    "# Note that your acceleration vectors should lie on top of the lines and point down\n",
    "fig, axs = plt.subplots(1, 5, figsize=(8, 2))\n",
    "\n",
    "for ind, (a1, x_limit) in enumerate(zip((-5, -1, 0, 1, 5),(0.2, 5, 3, 5, 0.2))):\n",
    "    # Plot line\n",
    "    xs = np.linspace(-x_limit, x_limit, 3)\n",
    "    # Doesn't really matter what the y intercept is\n",
    "    ys = polynomial.polyval(xs, np.array([0, a1]))\n",
    "\n",
    "    axs[ind].plot(xs, ys, ':b')\n",
    "    axs[ind].axis('equal')\n",
    "\n",
    "    f_x, f_y = compute_acceleration(a0=0, a1=a1)\n",
    "    axs[ind].arrow(xs[1], ys[1], f_x, f_y, color='red')\n",
    "\n",
    "    axs[ind].arrow(xs[1], ys[1], 0.0, gravity(), color='green')\n",
    "fig.tight_layout()\n"
   ]
  },
  {
   "cell_type": "code",
   "execution_count": 9,
   "metadata": {
    "deletable": false,
    "editable": false
   },
   "outputs": [
    {
     "data": {
      "text/html": [
       "<p><strong><pre style='display: inline;'>compute_acceleration</pre></strong> passed! ✨</p>"
      ],
      "text/plain": [
       "compute_acceleration results: All test cases passed!"
      ]
     },
     "execution_count": 9,
     "metadata": {},
     "output_type": "execute_result"
    }
   ],
   "source": [
    "grader.check(\"compute_acceleration\")"
   ]
  },
  {
   "cell_type": "markdown",
   "metadata": {
    "tags": [
     "otter_answer_cell"
    ]
   },
   "source": [
    "## One time step\n",
    "TODO: Calculate new position and velocity, given position, velocity, and acceleration"
   ]
  },
  {
   "cell_type": "code",
   "execution_count": 10,
   "metadata": {
    "tags": [
     "otter_answer_cell"
    ]
   },
   "outputs": [],
   "source": [
    "def simulate_one_step(x, y, vx, vy, ax, ay, delta_t):\n",
    "    \"\"\" TODO simulate one step forward using Euler integration \n",
    "       (x1 = x0 + delta_t * v0),\n",
    "       (v1 = v0 + delta_t * a0)\n",
    "       @param x, y - position\n",
    "       @param vx, vy - velocity\n",
    "       @param ax, ay - acceleration\n",
    "       @return x_next, y_next, vx_next, vy_next\"\"\"\n",
    "    x_next = x + delta_t * vx\n",
    "    y_next = y + delta_t * vy\n",
    "\n",
    "    vx_next = vx + delta_t * ax\n",
    "    vy_next = vy + delta_t *ay\n",
    "\n",
    "    return x_next, y_next, vx_next, vy_next"
   ]
  },
  {
   "cell_type": "code",
   "execution_count": 11,
   "metadata": {
    "tags": [
     "otter_answer_cell"
    ]
   },
   "outputs": [],
   "source": [
    "# Time step\n",
    "delta_t = 0.1\n",
    "\n",
    "x = 1\n",
    "y = 2\n",
    "vx = 0.1\n",
    "vy = 0.3\n",
    "ax = 0.001\n",
    "ay = 1.0\n",
    "xnew, ynew, vxnew, vynew = simulate_one_step(x, y, vx, vy, ax, ay, delta_t)\n",
    "\n",
    "# Testing one of these here\n",
    "assert np.isclose(xnew, x + vx * delta_t)"
   ]
  },
  {
   "cell_type": "code",
   "execution_count": 12,
   "metadata": {
    "deletable": false,
    "editable": false
   },
   "outputs": [
    {
     "data": {
      "text/html": [
       "<p><strong><pre style='display: inline;'>compute_one_step</pre></strong> passed! 🌈</p>"
      ],
      "text/plain": [
       "compute_one_step results: All test cases passed!"
      ]
     },
     "execution_count": 12,
     "metadata": {},
     "output_type": "execute_result"
    }
   ],
   "source": [
    "grader.check(\"compute_one_step\")"
   ]
  },
  {
   "cell_type": "markdown",
   "metadata": {
    "deletable": false,
    "editable": false
   },
   "source": [
    "# Simulation\n",
    "\n",
    "Note that you could use either the number of time steps OR total time for the last parameter\n",
    "\n",
    "Timesteps is a bit safer because at least you know it will only go for so many time steps...\n",
    "\n",
    "In this activity we'll just loop over n time steps; we'll do something \"smarter\" in the lab\n",
    "\n",
    "See Iterate n times in Lab 5 ODE systems for an example of how to store values in an array during a simulation time step\n",
    "\n",
    "\n",
    "TODO: Fill in ret_pose_all"
   ]
  },
  {
   "cell_type": "code",
   "execution_count": 13,
   "metadata": {
    "tags": [
     "otter_answer_cell"
    ]
   },
   "outputs": [],
   "source": [
    "def simulate_n_time_steps(x, y, vx, vy, ax, ay, delta_t=0.1, n_time_steps=100):\n",
    "    \"\"\" Call simulate_one_step multiple times and store it in a numpy array\n",
    "    @param starting_state - the starting position, velocity, acceleration\n",
    "    @param delta_t - the time step to use. Define a default t value that you've determined works well\n",
    "    @param n_time_steps - how many time steps to take. Again, default to a reasonable number\n",
    "    @return position values as a 2xtimesteps numpy array\n",
    "    \"\"\"\n",
    "    # TODO\n",
    "    #   Allocate an array to put all the x,y values in\n",
    "    #   Loop n_time_steps\n",
    "    #     Store the current x,y values in the array\n",
    "    #     Call simulate_one_step with the current x,y,vx,vy values\n",
    "    #     Save the returned x,y,vx,vy values as the \"new\" current x,y,vx,vy values\n",
    "    #   return the array\n",
    "    positions = np.zeros((n_time_steps, 2))\n",
    "\n",
    "    positions[0] = x, y\n",
    "\n",
    "    for i in range(1, n_time_steps):\n",
    "        x, y, vx, vy = simulate_one_step(x, y, vx, vy, ax, ay, delta_t)\n",
    "        positions[i] = x, y\n",
    "\n",
    "    return positions.T #transpose to return expected shape\n"
   ]
  },
  {
   "cell_type": "code",
   "execution_count": 14,
   "metadata": {
    "tags": [
     "otter_answer_cell"
    ]
   },
   "outputs": [
    {
     "name": "stdout",
     "output_type": "stream",
     "text": [
      "First pose: [1. 2.]\n",
      "Last pose: [1.14091 3.33   ]\n"
     ]
    }
   ],
   "source": [
    "# Actually run the simulation\n",
    "# Time step\n",
    "delta_t = 0.1\n",
    "x0 = 1\n",
    "y0 = 2\n",
    "vx0 = 0.1\n",
    "vy0 = 0.3\n",
    "ax = 0.001\n",
    "ay = 1.0\n",
    "ret_poses = simulate_n_time_steps(x0, y0, vx0, vy0, ax, ay, delta_t=delta_t, n_time_steps=15)\n",
    "print(f\"First pose: {ret_poses[:, 0]}\")\n",
    "print(f\"Last pose: {ret_poses[:, -1]}\")\n",
    "\n",
    "assert np.isclose(ret_poses[0, 0], x0)\n",
    "assert np.isclose(ret_poses[1, -1], 3.333, atol=0.01)\n"
   ]
  },
  {
   "cell_type": "code",
   "execution_count": 15,
   "metadata": {
    "deletable": false,
    "editable": false
   },
   "outputs": [
    {
     "data": {
      "text/html": [
       "<p><strong><pre style='display: inline;'>simulate</pre></strong> passed! 💯</p>"
      ],
      "text/plain": [
       "simulate results: All test cases passed!"
      ]
     },
     "execution_count": 15,
     "metadata": {},
     "output_type": "execute_result"
    }
   ],
   "source": [
    "grader.check(\"simulate\")"
   ]
  },
  {
   "cell_type": "markdown",
   "metadata": {
    "deletable": false,
    "editable": false
   },
   "source": [
    "## Hours and collaborators\n",
    "Required for every assignment - fill out before you hand-in.\n",
    "\n",
    "Listing names and websites helps you to document who you worked with and what internet help you received in the case of any plagiarism issues. You should list names of anyone (in class or not) who has substantially helped you with an assignment - or anyone you have *helped*. You do not need to list TAs.\n",
    "\n",
    "Listing hours helps us track if the assignments are too long."
   ]
  },
  {
   "cell_type": "code",
   "execution_count": 16,
   "metadata": {
    "tags": [
     "otter_answer_cell"
    ]
   },
   "outputs": [],
   "source": [
    "\n",
    "# List of names (creates a set)\n",
    "worked_with_names = {\"N/A\"}\n",
    "# List of URLS 2S5 (creates a set)\n",
    "websites = {\"N//A\"}\n",
    "# Approximate number of hours, including lab/in-class time\n",
    "hours = 1"
   ]
  },
  {
   "cell_type": "code",
   "execution_count": 17,
   "metadata": {
    "deletable": false,
    "editable": false
   },
   "outputs": [
    {
     "data": {
      "text/html": [
       "<p><strong><pre style='display: inline;'>hours_collaborators</pre></strong> passed! 🎉</p>"
      ],
      "text/plain": [
       "hours_collaborators results: All test cases passed!"
      ]
     },
     "execution_count": 17,
     "metadata": {},
     "output_type": "execute_result"
    }
   ],
   "source": [
    "grader.check(\"hours_collaborators\")"
   ]
  },
  {
   "cell_type": "markdown",
   "metadata": {},
   "source": [
    "### To submit\n",
    "\n",
    "Double check your plots. \n",
    "\n",
    "- Submit this .ipynb file to lecture activity 9 (simulate)\n",
    "\n",
    "If the Gradescope autograder fails, please check here first for common reasons for it to fail\n",
    "    https://docs.google.com/presentation/d/1tYa5oycUiG4YhXUq5vHvPOpWJ4k_xUPp2rUNIL7Q9RI/edit?usp=sharing\n",
    "\n",
    "Failures: None expected"
   ]
  }
 ],
 "metadata": {
  "kernelspec": {
   "display_name": ".venv",
   "language": "python",
   "name": "python3"
  },
  "language_info": {
   "codemirror_mode": {
    "name": "ipython",
    "version": 3
   },
   "file_extension": ".py",
   "mimetype": "text/x-python",
   "name": "python",
   "nbconvert_exporter": "python",
   "pygments_lexer": "ipython3",
   "version": "3.12.7"
  },
  "otter": {
   "OK_FORMAT": true,
   "tests": {
    "compute_acceleration": {
     "name": "compute_acceleration",
     "points": 1,
     "suites": [
      {
       "cases": [
        {
         "code": ">>> assert np.isclose(compute_acceleration(0.0, 0.0)[0], 0.0)\n",
         "hidden": false,
         "locked": false
        },
        {
         "code": ">>> assert np.isclose(compute_acceleration(0.0, 0.0)[1], 0.0)\n",
         "hidden": false,
         "locked": false
        },
        {
         "code": ">>> assert np.isclose(compute_acceleration(0.0, 1.0)[0], compute_acceleration(0.0, 1.0)[1])\n",
         "hidden": false,
         "locked": false
        },
        {
         "code": ">>> assert np.isclose(compute_acceleration(0.0, -1.0)[0], -compute_acceleration(0.0, -1.0)[1])\n",
         "hidden": false,
         "locked": false
        }
       ],
       "scored": true,
       "setup": "",
       "teardown": "",
       "type": "doctest"
      }
     ]
    },
    "compute_one_step": {
     "name": "compute_one_step",
     "points": 2,
     "suites": [
      {
       "cases": [
        {
         "code": ">>> assert np.isclose(xnew, x + vx * delta_t)\n",
         "hidden": false,
         "locked": false
        },
        {
         "code": ">>> assert np.isclose(ynew, y + vy * delta_t)\n",
         "hidden": false,
         "locked": false
        },
        {
         "code": ">>> assert np.isclose(vxnew, vx + ax * delta_t)\n",
         "hidden": false,
         "locked": false
        },
        {
         "code": ">>> assert np.isclose(vynew, vy + ay * delta_t)\n",
         "hidden": false,
         "locked": false
        }
       ],
       "scored": true,
       "setup": "",
       "teardown": "",
       "type": "doctest"
      }
     ]
    },
    "hours_collaborators": {
     "name": "hours_collaborators",
     "points": 1,
     "suites": [
      {
       "cases": [
        {
         "code": ">>> assert not 'not filled out' in worked_with_names\n",
         "hidden": false,
         "locked": false
        },
        {
         "code": ">>> assert not 'not filled out' in websites\n",
         "hidden": false,
         "locked": false
        },
        {
         "code": ">>> assert hours > 0\n",
         "hidden": false,
         "locked": false
        }
       ],
       "scored": true,
       "setup": "",
       "teardown": "",
       "type": "doctest"
      }
     ]
    },
    "simulate": {
     "name": "simulate",
     "points": 2,
     "suites": [
      {
       "cases": [
        {
         "code": ">>> assert np.isclose(ret_poses[0, 0], x0, atol=0.1)\n",
         "hidden": false,
         "locked": false
        },
        {
         "code": ">>> assert np.isclose(ret_poses[1, 0], y0, atol=0.1)\n",
         "hidden": false,
         "locked": false
        },
        {
         "code": ">>> assert np.isclose(ret_poses[0, -1], 1.14091, atol=0.1)\n",
         "hidden": false,
         "locked": false
        },
        {
         "code": ">>> assert np.isclose(ret_poses[1, -1], 3.33, atol=0.1)\n",
         "hidden": false,
         "locked": false
        }
       ],
       "scored": true,
       "setup": "",
       "teardown": "",
       "type": "doctest"
      }
     ]
    }
   }
  }
 },
 "nbformat": 4,
 "nbformat_minor": 2
}
