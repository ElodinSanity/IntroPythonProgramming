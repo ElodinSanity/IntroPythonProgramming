{
 "cells": [
  {
   "cell_type": "code",
   "execution_count": 1,
   "metadata": {
    "deletable": false,
    "editable": false
   },
   "outputs": [],
   "source": [
    "# Initialize Otter\n",
    "import otter\n",
    "grader = otter.Notebook(\"Lab_7_optimization.ipynb\")"
   ]
  },
  {
   "cell_type": "markdown",
   "metadata": {},
   "source": [
    "# Getting a ball in a hoop\n",
    "\n",
    "We're going to set up an fmin problem where the goal is to find a launching velocity that launches a ball so that it passes through a \"hoop\". To make this problem \"interesting\" we're going to make it so we can change a bunch of things. These things are \"fixed\" for the run of fmin - i.e., we decide what they are and then solve for the launching velocity that gets the ball in the hoop. But we can set up, for example, that we have a really heavy ball that starts much lower than the hoop in very light gravity. More explicitly, these are the things we can change (see also images in slides)\n",
    "\n",
    "- Gravity - just in case we're playing on a different planet\n",
    "- Mass - make the ball heavier/lighter\n",
    "- Starting position - where the ball launches from in x,y\n",
    "- Hoop location (x,y)\n",
    "\n",
    "Given all those, we'll use **fmin** to find a starting velocity that gets the ball in the hoop.\n",
    "\n",
    "Slides: https://docs.google.com/presentation/d/1m-8UphLgGLVaDKKcZ-NA_ejgOFlkD1Rlz3_sW0fHBM8/edit?usp=sharing"
   ]
  },
  {
   "cell_type": "code",
   "execution_count": 2,
   "metadata": {},
   "outputs": [],
   "source": [
    "# The usual imports\n",
    "import numpy as np\n",
    "import matplotlib.pyplot as plt\n",
    "\n",
    "# New scipy import that finds the minima of a function\n",
    "from scipy.optimize import fmin"
   ]
  },
  {
   "cell_type": "markdown",
   "metadata": {
    "deletable": false,
    "editable": false
   },
   "source": [
    "## Ball in the hoop simulation\n",
    "\n",
    "The first thing we need is code to launch the ball and track it as it goes up and down. \n",
    "\n",
    "This is written for you, along with the plot code. Your TODO is to edit the starting vector until the ball gets at least close to the hoop. A \"manual\" version of **fmin**."
   ]
  },
  {
   "cell_type": "code",
   "execution_count": 3,
   "metadata": {
    "tags": [
     "otter_answer_cell"
    ]
   },
   "outputs": [],
   "source": [
    "def ball_launch(x_y_location, vx_vy_start, mass, gravity, height_to_stop):\n",
    "    \"\"\" Launch a ball and let it go up and then down until it drops below the given height\n",
    "    @param x_y_location: A 1x2 numpy array containing the x,y position to launch from\n",
    "    @param vx_vy_start: a 1x2 numpy array containing the vector direction and magnitude the ball launches in\n",
    "    @param mass: Mass of the ball\n",
    "    @param gravity: Gravity acting on the ball\n",
    "    @param height_to_stop: What y value to stop at\n",
    "    @return the list of x,y locations the ball pasess through as a 2xn array (x top row, y bottom row) \"\"\"\n",
    "\n",
    "    assert gravity < 0  # otherwise we fly up into the sky\n",
    "    assert mass > 0     # otherwise we don't weigh anything\n",
    "\n",
    "    # Copy so we make new storage for these - otherwise we will overwrite x_y_location and vx_vy_start\n",
    "    cur_loc = x_y_location.copy()\n",
    "    cur_vel = vx_vy_start.copy()\n",
    "\n",
    "    # dvx is 0, dvy is gravity f = ma with f gravity, so g/m\n",
    "    cur_acceleration = np.zeros(x_y_location.shape)\n",
    "    cur_acceleration[0] = 0\n",
    "    cur_acceleration[1] = gravity / mass\n",
    "\n",
    "    # A list to put the x,y poses in\n",
    "    ret_poses = []\n",
    "\n",
    "    # Could pass this in as well, but we'll just use this as a reasonable value\n",
    "    delta_t = 0.01\n",
    "\n",
    "    # Put the first location in as a 2x1 list\n",
    "    ret_poses.append([cur_loc[0], cur_loc[1]])\n",
    "    # Keep integrating foward until ball passes below the hoop line\n",
    "    #   ODE would do a much better job, but harder to tell it when to stop\n",
    "    while cur_loc[1] > height_to_stop:\n",
    "        cur_loc = cur_loc + cur_vel * delta_t\n",
    "        cur_vel = cur_vel + cur_acceleration * delta_t\n",
    "        ret_poses.append([cur_loc[0], cur_loc[1]])\n",
    "\n",
    "    return np.array(ret_poses).transpose()"
   ]
  },
  {
   "cell_type": "code",
   "execution_count": 4,
   "metadata": {
    "tags": [
     "otter_answer_cell"
    ]
   },
   "outputs": [],
   "source": [
    "def plot_ball_track(axs, x_y_location, vx_vy_start, poses, hoop_pos):\n",
    "    \"\"\"Plot the ball track plus starting/ending locations\n",
    "    @param axs - axes to plot in\n",
    "    @param x_y_location - 2x1 numpy array with the location the ball launches from\n",
    "    @param vx_vy_start - 2x1 numpy array with the launch direction\n",
    "    @param poses - 2xn list with the poses the ball passes through\n",
    "    @param hoop_pos - 2x1 numpy array with the hoop location\"\"\"\n",
    "\n",
    "    axs.plot(x_y_location[0], x_y_location[1], marker='X', color='red', markersize=10, label='Start')\n",
    "    axs.plot([x_y_location[0], x_y_location[0] + vx_vy_start[0]], \n",
    "             [x_y_location[1], x_y_location[1] + vx_vy_start[1]], '-r', label=\"Start dir\")\n",
    "    axs.plot(poses[0, :], poses[1, :], '.k', label=\"Path\")\n",
    "    axs.plot([hoop_pos[0]-0.1, hoop_pos[0] + 0.1], [hoop_pos[1], hoop_pos[1]], '-g', label='Hoop')\n",
    "\n",
    "    axs.legend()\n",
    "    axs.axis('equal')"
   ]
  },
  {
   "cell_type": "code",
   "execution_count": 5,
   "metadata": {
    "tags": [
     "otter_answer_cell"
    ]
   },
   "outputs": [],
   "source": [
    "# Starting location and velocity\n",
    "x_y_location = np.array([0, 0])\n",
    "vx_vy_start_misses = np.array([1, 2])   # This one misses\n",
    "vx_vy_start_hits = np.array([3.5, 3])     # Change this until the ball goes through the hoop\n",
    "\n",
    "# These stay the same for the entire simulation\n",
    "gravity = -9.8\n",
    "mass = 1.0\n",
    "height = -1.0\n",
    "\n",
    "poses_misses = ball_launch(x_y_location=x_y_location, vx_vy_start=vx_vy_start_misses, mass=mass, gravity=gravity, height_to_stop=height)\n",
    "poses_hits = ball_launch(x_y_location=x_y_location, vx_vy_start=vx_vy_start_hits, mass=mass, gravity=gravity, height_to_stop=height)"
   ]
  },
  {
   "cell_type": "code",
   "execution_count": 6,
   "metadata": {
    "tags": [
     "otter_answer_cell"
    ]
   },
   "outputs": [
    {
     "data": {
      "image/png": "[encoded data removed]",
      "text/plain": [
       "<Figure size 600x300 with 2 Axes>"
      ]
     },
     "metadata": {},
     "output_type": "display_data"
    }
   ],
   "source": [
    "# Setting this up for you - plot the miss and the hit. This is just a visual check that your \"hit\" and \"miss\" do the right thing\n",
    "#   TODO Use this to keep tweaking vx_vy_start_hits until the ball passes \"through\" the hoop\n",
    "\n",
    "# Plot the result\n",
    "fig, axs = plt.subplots(1, 2, figsize=(6, 3))\n",
    "\n",
    "plot_ball_track(axs[0], x_y_location=x_y_location, vx_vy_start=vx_vy_start_misses, poses=poses_misses, hoop_pos=[3.0, height])\n",
    "axs[0].set_title(f\"Miss: Grav {gravity}, m {mass}\")\n",
    "\n",
    "plot_ball_track(axs[1], x_y_location=x_y_location, vx_vy_start=vx_vy_start_hits, poses=poses_hits, hoop_pos=[3.0, height])\n",
    "axs[1].set_title(f\"Hit: Grav {gravity}, m {mass}\")\n",
    "\n",
    "fig.tight_layout()"
   ]
  },
  {
   "cell_type": "code",
   "execution_count": 7,
   "metadata": {
    "tags": [
     "otter_answer_cell"
    ]
   },
   "outputs": [],
   "source": [
    "# Last pose is \"in\" the hoop\n",
    "last_pose = [poses_hits[0,-1], poses_hits[1,-1]]\n",
    "second_to_last_pose = [poses_hits[0,-2], poses_hits[1,-2]]\n",
    "\n",
    "# TODO: Write two assert statements (one for the last pose and one for the second to last pose)\n",
    "#  that are true if the ball passes \"through\" the hoop.\n",
    "#   The center of the hoop is located at 3.0 and it is 0.2 in diameter (see plot of hoop in plot code)\n",
    "\n",
    "assert np.isclose(last_pose[0], 3.0, atol=0.1) and np.isclose(last_pose[1], -1.0, atol=0.01) #checks if ball passes through center\n",
    "assert (second_to_last_pose[0] < 3.0) and (second_to_last_pose[1] > -1.0)"
   ]
  },
  {
   "cell_type": "code",
   "execution_count": 8,
   "metadata": {
    "deletable": false,
    "editable": false
   },
   "outputs": [
    {
     "data": {
      "text/html": [
       "<p><strong><pre style='display: inline;'>best_guess</pre></strong> passed! 🍀</p>"
      ],
      "text/plain": [
       "best_guess results: All test cases passed!"
      ]
     },
     "execution_count": 8,
     "metadata": {},
     "output_type": "execute_result"
    }
   ],
   "source": [
    "grader.check(\"best_guess\")"
   ]
  },
  {
   "cell_type": "markdown",
   "metadata": {
    "deletable": false,
    "editable": false
   },
   "source": [
    "## Create the function that will be passed to fmin\n",
    "\n",
    "TODO: edit **func_for_fmin** to take in a numpy array for the launch direction and returns a \"score\" for how close the ball is to passing through the hoop. This \"score\" needs to be greater than zero and get smaller as the ball gets closer.\n",
    "\n",
    "Some things about this function:\n",
    "- the first argument MUST be a numpy array of size 2x1 (the launch velocity). This is what fmin is going to search over\n",
    "- you will also need to pass in the remaining information that doesn't change (starting pose, gravity, mass, hoop position). How you do this is up to you; options include using a dictionary or just passing the paramters in\n",
    "- **func_for_fmin** will call **ball_launch**\n",
    "- The return values should be a positive number that is smaller when the last pose is closer to the hoop center\n",
    "- **func_for_fmin** needs both the hoop x position and the hoop height. **ball_launch** just takes a height to stop at.\n",
    "\n",
    "You might want to look ahead to the next problem (where you will call **fmin** with this function). How you set up **func_for_fmin** will change how you call **fmin**"
   ]
  },
  {
   "cell_type": "code",
   "execution_count": 9,
   "metadata": {
    "tags": [
     "otter_answer_cell"
    ]
   },
   "outputs": [],
   "source": [
    "\n",
    "# TODO Determine which arguments you want to pass to this function and HOW you want to pass them\n",
    "# TODO You must write comments for the parameters\n",
    "def func_for_fmin(lauch_velocity, start_pose, gravity, mass, hoop_pose):\n",
    "    \"\"\"\n",
    "    Function for fmin ot minimize. Computes how far away final postion of the ball is from the hoop.\n",
    "\n",
    "    Params:\n",
    "    - launch_velocity: 2x1 array of floats, velocity at launch\n",
    "    - start_pose: 1x2 list of floats, [x,y] coordinates\n",
    "    - gravity: float, acceleration due to gravity\n",
    "    - mass: float, mass of ball\n",
    "    - hoop_pose: 1x2 list of floats, [x,y] coordinates\n",
    "    \n",
    "    Returns:\n",
    "    - miss_distance: float, magnitude of distance missed by\n",
    "    \"\"\"\n",
    "\n",
    "    poses = ball_launch(x_y_location=start_pose, vx_vy_start=lauch_velocity, mass=mass, gravity=gravity, height_to_stop=hoop_pose[1])\n",
    "\n",
    "    last_pose = [poses[0,-1], poses[1,-1]]\n",
    "\n",
    "    dist = np.sqrt((last_pose[0] - hoop_pose[0])**2 + (last_pose[1] - hoop_pose[1])**2)\n",
    "\n",
    "    return dist"
   ]
  },
  {
   "cell_type": "code",
   "execution_count": 10,
   "metadata": {
    "tags": [
     "otter_answer_cell"
    ]
   },
   "outputs": [],
   "source": [
    "# Call your function once with vx_vy_start_misses and once with vx_vy_start_hits. Check that\n",
    "#  the return value of the call with hits is less than the return value of the call with misses.\n",
    "\n",
    "dist_miss = vx_vy_start_misses\n",
    "dist_hits = vx_vy_start_hits\n",
    "\n",
    "# You might want to make a variable that holds the hoop x location 3.0, and the height (from the first problem). Or you\n",
    "#  can just pass in those two values separately. No \"right\" answer, just document what you chose to do.\n",
    "\n",
    "# TODO: Call func_for_fmin twice, once with the \"misses\" and once with the \"hits\" starting values. Use this to check\n",
    "# that your function is at least returning a bigger number for the \"misses\" than the \"hits\"\n",
    "miss_ret_value = func_for_fmin(dist_miss, x_y_location, gravity, mass, [3.0, height])\n",
    "hit_ret_value = func_for_fmin(dist_hits, x_y_location, gravity, mass, [3.0, height])\n",
    "\n",
    "# And here is the actual check\n",
    "assert hit_ret_value < miss_ret_value\n",
    "\n",
    "# And a few more checks\n",
    "assert hit_ret_value >= 0.0\n",
    "assert miss_ret_value >= 0.0\n",
    "# Doesn't strictly have to be true - but if it's really big there's probably something wrong with your equation(s)\n",
    "assert hit_ret_value < 0.1"
   ]
  },
  {
   "cell_type": "code",
   "execution_count": 11,
   "metadata": {
    "deletable": false,
    "editable": false
   },
   "outputs": [
    {
     "data": {
      "text/html": [
       "<p><strong><pre style='display: inline;'>fmin_func</pre></strong> passed! 💯</p>"
      ],
      "text/plain": [
       "fmin_func results: All test cases passed!"
      ]
     },
     "execution_count": 11,
     "metadata": {},
     "output_type": "execute_result"
    }
   ],
   "source": [
    "grader.check(\"fmin_func\")"
   ]
  },
  {
   "cell_type": "markdown",
   "metadata": {
    "deletable": false,
    "editable": false
   },
   "source": [
    "## Call fmin\n",
    "\n",
    "Now you're going to call **fmin** with your **func_for_fmin** function. "
   ]
  },
  {
   "cell_type": "code",
   "execution_count": 12,
   "metadata": {
    "tags": [
     "otter_answer_cell"
    ]
   },
   "outputs": [],
   "source": [
    "# Starting location and velocity (copied from above)\n",
    "x_y_location = np.array([0, 0])\n",
    "\n",
    "# These stay the same for the entire simulation\n",
    "gravity = -9.8\n",
    "mass = 1.0\n",
    "height = -1.0\n",
    "\n",
    "# Your starting vector for the search MUST BE (1, 2) (same as vx_vy_start_misses)\n",
    "start_vector = np.array([1.0, 2.0])\n",
    "# The ending hoop location must be 3.0, -1.0 (same as before)\n",
    "hoop_pose = [3.0, height]"
   ]
  },
  {
   "cell_type": "code",
   "execution_count": 13,
   "metadata": {
    "tags": [
     "otter_answer_cell"
    ]
   },
   "outputs": [
    {
     "name": "stdout",
     "output_type": "stream",
     "text": [
      "Optimization terminated successfully.\n",
      "         Current function value: 0.000025\n",
      "         Iterations: 47\n",
      "         Function evaluations: 102\n"
     ]
    }
   ],
   "source": [
    "# TODO Call fmin with your function, with the parameters as given above, and a starting vector of 1,2.\n",
    "#  Store the resulting vector in vx_vy_start_best\n",
    "\n",
    "vx_vy_start_best = fmin(func_for_fmin, start_vector, args=(x_y_location, gravity, mass, hoop_pose))"
   ]
  },
  {
   "cell_type": "code",
   "execution_count": 14,
   "metadata": {
    "tags": [
     "otter_answer_cell"
    ]
   },
   "outputs": [],
   "source": [
    "# Rather than check the starting vector to see if it's the same as the solution (there could be more that one solution) we'll check the\n",
    "#  final pose again\n",
    "\n",
    "poses_misses = ball_launch(x_y_location=x_y_location, vx_vy_start=vx_vy_start_misses, mass=mass, gravity=gravity, height_to_stop=height)\n",
    "poses_best = ball_launch(x_y_location=x_y_location, vx_vy_start=vx_vy_start_best, mass=mass, gravity=gravity, height_to_stop=height)"
   ]
  },
  {
   "cell_type": "code",
   "execution_count": 15,
   "metadata": {
    "tags": [
     "otter_answer_cell"
    ]
   },
   "outputs": [
    {
     "data": {
      "image/png": "[encoded data removed]",
      "text/plain": [
       "<Figure size 600x300 with 2 Axes>"
      ]
     },
     "metadata": {},
     "output_type": "display_data"
    }
   ],
   "source": [
    "# Plot the result\n",
    "fig, axs = plt.subplots(1, 2, figsize=(6, 3))\n",
    "\n",
    "plot_ball_track(axs[0], x_y_location=x_y_location, vx_vy_start=vx_vy_start_misses, poses=poses_misses, hoop_pos=[3.0, height])\n",
    "axs[0].set_title(f\"Miss: Grav {gravity}, m {mass}\")\n",
    "\n",
    "plot_ball_track(axs[1], x_y_location=x_y_location, vx_vy_start=vx_vy_start_hits, poses=poses_best, hoop_pos=[3.0, height])\n",
    "axs[1].set_title(f\"Best: Grav {gravity}, m {mass}\")\n",
    "\n",
    "fig.tight_layout()"
   ]
  },
  {
   "cell_type": "code",
   "execution_count": 16,
   "metadata": {
    "tags": [
     "otter_answer_cell"
    ]
   },
   "outputs": [],
   "source": [
    "# TODO Manually graded: Write a test that checks that, when you call func_for_fmin with vx_vy_start_best, you get the expected minimum value\n",
    "# Note: The actual *value* you get will depend on how you wrote your func_for_fmin.\n",
    "\n",
    "# TODO: Call your func_for_fmin problem with the vector fmin returned\n",
    "#  Write an assert statement that checks that the value is what you expected it to be. \n",
    "#   The expected value is probably zero... but it doesn't have to be\n",
    "\n",
    "res_func_for_fmin = func_for_fmin(vx_vy_start_best, x_y_location, gravity, mass, [3.0, height])\n",
    "# replace True with an equation (np.isclose is a good choice) that checks that res_func_for_fmin is the value you expect\n",
    "assert np.isclose(res_func_for_fmin, 0.0, atol=0.05)\n"
   ]
  },
  {
   "cell_type": "code",
   "execution_count": 17,
   "metadata": {
    "deletable": false,
    "editable": false
   },
   "outputs": [
    {
     "data": {
      "text/html": [
       "<p><strong><pre style='display: inline;'>call_fmin</pre></strong> passed! ✨</p>"
      ],
      "text/plain": [
       "call_fmin results: All test cases passed!"
      ]
     },
     "execution_count": 17,
     "metadata": {},
     "output_type": "execute_result"
    }
   ],
   "source": [
    "grader.check(\"call_fmin\")"
   ]
  },
  {
   "cell_type": "markdown",
   "metadata": {
    "deletable": false,
    "editable": false
   },
   "source": [
    "## Make it work for another setup\n",
    "\n",
    "Other than filling in the call for **fmin**, you shouldn't have to change anything to make this work - this just changes the default values for the starting position, gravity, mass, and the ending hoop location."
   ]
  },
  {
   "cell_type": "code",
   "execution_count": 18,
   "metadata": {
    "tags": [
     "otter_answer_cell"
    ]
   },
   "outputs": [
    {
     "name": "stdout",
     "output_type": "stream",
     "text": [
      "Optimization terminated successfully.\n",
      "         Current function value: 0.000062\n",
      "         Iterations: 48\n",
      "         Function evaluations: 101\n"
     ]
    }
   ],
   "source": [
    "# Starting location and velocity\n",
    "x_y_location_heavy = np.array([-2, 1])\n",
    "vx_vy_start_heavy_misses = np.array([2, 3])   # This one misses\n",
    "\n",
    "# These stay the same for the entire simulation\n",
    "gravity_heavy = -20.8\n",
    "mass_heavy = 10.0\n",
    "height_heavy = -3.0\n",
    "hoop_heavy_x_loc = 3.0\n",
    "\n",
    "\n",
    "# TODO: Call fmin with the heavy parameters\n",
    "vx_vy_start_heavy_hits = fmin(func_for_fmin, vx_vy_start_heavy_misses, args=(x_y_location_heavy, gravity_heavy, mass_heavy, [hoop_heavy_x_loc, height_heavy]))\n",
    "assert(True)\n",
    "poses_heavy_misses = ball_launch(x_y_location=x_y_location_heavy, vx_vy_start=vx_vy_start_heavy_misses, mass=mass_heavy, gravity=gravity_heavy, height_to_stop=height_heavy)\n",
    "poses_heavy_hits = ball_launch(x_y_location=x_y_location_heavy, vx_vy_start=vx_vy_start_heavy_hits, mass=mass_heavy, gravity=gravity_heavy, height_to_stop=height_heavy)\n"
   ]
  },
  {
   "cell_type": "code",
   "execution_count": 19,
   "metadata": {
    "tags": [
     "otter_answer_cell"
    ]
   },
   "outputs": [
    {
     "data": {
      "image/png": "[encoded data removed]",
      "text/plain": [
       "<Figure size 600x300 with 2 Axes>"
      ]
     },
     "metadata": {},
     "output_type": "display_data"
    }
   ],
   "source": [
    "# Plot the result\n",
    "fig, axs = plt.subplots(1, 2, figsize=(6, 3))\n",
    "\n",
    "plot_ball_track(axs[0], x_y_location=x_y_location_heavy, vx_vy_start=vx_vy_start_heavy_misses, poses=poses_heavy_misses, hoop_pos=[hoop_heavy_x_loc, height_heavy])\n",
    "axs[0].set_title(f\"Miss: Grav {gravity_heavy}, m {mass_heavy}\")\n",
    "\n",
    "plot_ball_track(axs[1], x_y_location=x_y_location_heavy, vx_vy_start=vx_vy_start_heavy_hits, poses=poses_heavy_hits, hoop_pos=[hoop_heavy_x_loc, height_heavy])\n",
    "axs[1].set_title(f\"Best: Grav {gravity_heavy}, m {mass_heavy}\")\n",
    "\n",
    "fig.tight_layout()"
   ]
  },
  {
   "cell_type": "code",
   "execution_count": 20,
   "metadata": {
    "deletable": false,
    "editable": false
   },
   "outputs": [
    {
     "data": {
      "text/html": [
       "<p><strong><pre style='display: inline;'>heavy_ball_in_light_gravity</pre></strong> passed! 💯</p>"
      ],
      "text/plain": [
       "heavy_ball_in_light_gravity results: All test cases passed!"
      ]
     },
     "execution_count": 20,
     "metadata": {},
     "output_type": "execute_result"
    }
   ],
   "source": [
    "grader.check(\"heavy_ball_in_light_gravity\")"
   ]
  },
  {
   "cell_type": "markdown",
   "metadata": {
    "deletable": false,
    "editable": false
   },
   "source": [
    "## Hours and collaborators\n",
    "Required for every assignment - fill out before you hand-in.\n",
    "\n",
    "Listing names and websites helps you to document who you worked with and what internet help you received in the case of any plagiarism issues. You should list names of anyone (in class or not) who has substantially helped you with an assignment - or anyone you have *helped*. You do not need to list TAs.\n",
    "\n",
    "Listing hours helps us track if the assignments are too long."
   ]
  },
  {
   "cell_type": "code",
   "execution_count": 21,
   "metadata": {
    "tags": [
     "otter_answer_cell"
    ]
   },
   "outputs": [],
   "source": [
    "\n",
    "# List of names (creates a set)\n",
    "worked_with_names = {\"N/A\"}\n",
    "# List of URLS 2S5 (creates a set)\n",
    "websites = {\"N/A\"}\n",
    "# Approximate number of hours, including lab/in-class time\n",
    "hours = 2.5"
   ]
  },
  {
   "cell_type": "code",
   "execution_count": 22,
   "metadata": {
    "deletable": false,
    "editable": false
   },
   "outputs": [
    {
     "data": {
      "text/html": [
       "<p><strong><pre style='display: inline;'>hours_collaborators</pre></strong> passed! 🎉</p>"
      ],
      "text/plain": [
       "hours_collaborators results: All test cases passed!"
      ]
     },
     "execution_count": 22,
     "metadata": {},
     "output_type": "execute_result"
    }
   ],
   "source": [
    "grader.check(\"hours_collaborators\")"
   ]
  },
  {
   "cell_type": "markdown",
   "metadata": {},
   "source": [
    "### To submit\n",
    "\n",
    "All the usual - rerun, remove print statements, save. Make sure plots are visible.\n",
    "\n",
    "- Submit this .ipynb file to Lab 7 (fmin)\n",
    "\n",
    "If the Gradescope autograder fails, please check here first for common reasons for it to fail\n",
    "    https://docs.google.com/presentation/d/1tYa5oycUiG4YhXUq5vHvPOpWJ4k_xUPp2rUNIL7Q9RI/edit?usp=sharing\n",
    "\n",
    "Almost to the end of term!"
   ]
  }
 ],
 "metadata": {
  "kernelspec": {
   "display_name": ".venv",
   "language": "python",
   "name": "python3"
  },
  "language_info": {
   "codemirror_mode": {
    "name": "ipython",
    "version": 3
   },
   "file_extension": ".py",
   "mimetype": "text/x-python",
   "name": "python",
   "nbconvert_exporter": "python",
   "pygments_lexer": "ipython3",
   "version": "3.12.7"
  },
  "otter": {
   "OK_FORMAT": true,
   "tests": {
    "best_guess": {
     "name": "best_guess",
     "points": 2,
     "suites": [
      {
       "cases": [
        {
         "code": ">>> assert np.abs(poses_hits[0, -1] - 3.0) < 0.1\n",
         "hidden": false,
         "locked": false
        },
        {
         "code": ">>> assert np.abs(poses_hits[0, -2] - 3.0) < 0.1\n",
         "hidden": false,
         "locked": false
        },
        {
         "code": ">>> assert poses_hits[1, -1] < height\n",
         "hidden": false,
         "locked": false
        }
       ],
       "scored": true,
       "setup": "",
       "teardown": "",
       "type": "doctest"
      }
     ]
    },
    "call_fmin": {
     "name": "call_fmin",
     "points": 5,
     "suites": [
      {
       "cases": [
        {
         "code": ">>> assert np.abs(poses_best[0, -1] - 3.0) < 0.1\n",
         "hidden": false,
         "locked": false
        },
        {
         "code": ">>> assert np.abs(poses_best[0, -2] - 3.0) < 0.1\n",
         "hidden": false,
         "locked": false
        },
        {
         "code": ">>> assert poses_hits[1, -1] < height\n",
         "hidden": false,
         "locked": false
        }
       ],
       "scored": true,
       "setup": "",
       "teardown": "",
       "type": "doctest"
      }
     ]
    },
    "fmin_func": {
     "name": "fmin_func",
     "points": 5,
     "suites": [
      {
       "cases": [
        {
         "code": ">>> assert hit_ret_value < miss_ret_value\n",
         "hidden": false,
         "locked": false
        },
        {
         "code": ">>> assert hit_ret_value >= 0.0\n",
         "hidden": false,
         "locked": false
        },
        {
         "code": ">>> assert miss_ret_value >= 0.0\n",
         "hidden": false,
         "locked": false
        }
       ],
       "scored": true,
       "setup": "",
       "teardown": "",
       "type": "doctest"
      }
     ]
    },
    "heavy_ball_in_light_gravity": {
     "name": "heavy_ball_in_light_gravity",
     "points": 3,
     "suites": [
      {
       "cases": [
        {
         "code": ">>> assert np.abs(poses_heavy_hits[0, -1] - hoop_heavy_x_loc) < 0.1\n",
         "hidden": false,
         "locked": false
        },
        {
         "code": ">>> assert np.abs(poses_heavy_hits[0, -2] - hoop_heavy_x_loc) < 0.1\n",
         "hidden": false,
         "locked": false
        },
        {
         "code": ">>> assert poses_heavy_hits[1, -1] < height_heavy\n",
         "hidden": false,
         "locked": false
        }
       ],
       "scored": true,
       "setup": "",
       "teardown": "",
       "type": "doctest"
      }
     ]
    },
    "hours_collaborators": {
     "name": "hours_collaborators",
     "points": 1,
     "suites": [
      {
       "cases": [
        {
         "code": ">>> assert not 'not filled out' in worked_with_names\n",
         "hidden": false,
         "locked": false
        },
        {
         "code": ">>> assert not 'not filled out' in websites\n",
         "hidden": false,
         "locked": false
        },
        {
         "code": ">>> assert hours > 0\n",
         "hidden": false,
         "locked": false
        }
       ],
       "scored": true,
       "setup": "",
       "teardown": "",
       "type": "doctest"
      }
     ]
    }
   }
  }
 },
 "nbformat": 4,
 "nbformat_minor": 2
}
