{
 "cells": [
  {
   "cell_type": "code",
   "execution_count": 327,
   "metadata": {
    "deletable": false,
    "editable": false
   },
   "outputs": [],
   "source": [
    "# Initialize Otter\n",
    "import otter\n",
    "grader = otter.Notebook(\"lec_act_6_matrices.ipynb\")"
   ]
  },
  {
   "cell_type": "markdown",
   "metadata": {},
   "source": [
    "# Using matrices\n",
    "\n",
    "Do a small number of matrix transformations \"by hand\" to understand what they do. These are the first few transforms you'll need in the lab and homework. Note that, in those assignments, you'll be doing these transforms in functions in order to build up to doing a robot arm reaching goal.\n",
    "\n",
    "\n",
    "See Lecture slides for matrix information: https://docs.google.com/presentation/d/12p3VOVT5yL14-1z5T20hTscpVC0hsxjtvMLHmQLFITk/edit?usp=sharing\n",
    "\n",
    "See Lab slides for expected results: https://docs.google.com/presentation/d/1Ut5RnIKU8DF8k_joGXp4tJ1FzBKNIX8JYRE9wkIP_qE/edit?usp=sharing"
   ]
  },
  {
   "cell_type": "code",
   "execution_count": 328,
   "metadata": {},
   "outputs": [],
   "source": [
    "import numpy as np\n",
    "import matplotlib.pyplot as plt\n",
    "\n",
    "# Slightly different import format here - this gets just those routines by name (no mr.)\n",
    "from matrix_routines import make_scale_matrix, make_translation_matrix, make_rotation_matrix\n",
    "\n",
    "# The same plot functions as were used in the tutorial\n",
    "from matrix_routines import plot_pts, plot_axes_and_big_box"
   ]
  },
  {
   "cell_type": "markdown",
   "metadata": {
    "deletable": false,
    "editable": false
   },
   "source": [
    "### Make a square.\n",
    "\n",
    "TODO: Create a numpy array of points that form a square. The square should go from -1 to 1.\n"
   ]
  },
  {
   "cell_type": "code",
   "execution_count": 329,
   "metadata": {
    "tags": []
   },
   "outputs": [],
   "source": [
    "# The numpy array for the points for a square\n",
    "pts_square = np.ones((3, 4))\n",
    "\n",
    "# TODO Set the four points to be the corners of a square. Start in the lower left (at -1, -1) and go \n",
    "#  clockwize (i.e, the second point is at 1, -1)\n",
    "\n",
    "pts_square[0, :] = [-1, 1, 1, -1] #x coordinates\n",
    "pts_square[1, :] = [-1, -1, 1, 1] #y coordinates\n"
   ]
  },
  {
   "cell_type": "code",
   "execution_count": 330,
   "metadata": {
    "tags": []
   },
   "outputs": [
    {
     "data": {
      "image/png": "[encoded data removed]",
      "text/plain": [
       "<Figure size 400x500 with 1 Axes>"
      ]
     },
     "metadata": {},
     "output_type": "display_data"
    }
   ],
   "source": [
    "# Draw the square in the plot window - see slides for correct answer\n",
    "fig, axs = plt.subplots(1, 1, figsize=(4, 5))\n",
    "\n",
    "# A framing window\n",
    "plot_axes_and_big_box(axs)\n",
    "\n",
    "# Plot the square. Should go from -1 to 1\n",
    "plot_pts(axs, pts_square, fmt=\"--b\")"
   ]
  },
  {
   "cell_type": "code",
   "execution_count": 331,
   "metadata": {
    "deletable": false,
    "editable": false
   },
   "outputs": [
    {
     "data": {
      "text/html": [
       "<p><strong style='color: red;'><pre style='display: inline;'>make_square</pre> results:</strong></p><p><strong><pre style='display: inline;'>make_square - 1</pre> result:</strong></p><pre>    ✅ Test case passed</pre><p><strong><pre style='display: inline;'>make_square - 2</pre> result:</strong></p><pre>    ✅ Test case passed</pre><p><strong><pre style='display: inline;'>make_square - 3</pre> result:</strong></p><pre>    ✅ Test case passed</pre><p><strong><pre style='display: inline;'>make_square - 4</pre> result:</strong></p><pre>    ❌ Test case failed\n",
       "    Trying:\n",
       "        assert np.all(np.isclose(pts_square[3, :], 1.0))\n",
       "    Expecting nothing\n",
       "    **********************************************************************\n",
       "    Line 1, in make_square 3\n",
       "    Failed example:\n",
       "        assert np.all(np.isclose(pts_square[3, :], 1.0))\n",
       "    Exception raised:\n",
       "        Traceback (most recent call last):\n",
       "          File \"/Users/nicolascampbell/.local/share/uv/python/cpython-3.12.7-macos-aarch64-none/lib/python3.12/doctest.py\", line 1368, in __run\n",
       "            exec(compile(example.source, filename, \"single\",\n",
       "          File \"<doctest make_square 3[0]>\", line 1, in <module>\n",
       "            assert np.all(np.isclose(pts_square[3, :], 1.0))\n",
       "                                     ~~~~~~~~~~^^^^^^\n",
       "        IndexError: index 3 is out of bounds for axis 0 with size 3\n",
       "</pre>"
      ],
      "text/plain": [
       "make_square results:\n",
       "    make_square - 1 result:\n",
       "        ✅ Test case passed\n",
       "\n",
       "    make_square - 2 result:\n",
       "        ✅ Test case passed\n",
       "\n",
       "    make_square - 3 result:\n",
       "        ✅ Test case passed\n",
       "\n",
       "    make_square - 4 result:\n",
       "        ❌ Test case failed\n",
       "        Trying:\n",
       "            assert np.all(np.isclose(pts_square[3, :], 1.0))\n",
       "        Expecting nothing\n",
       "        **********************************************************************\n",
       "        Line 1, in make_square 3\n",
       "        Failed example:\n",
       "            assert np.all(np.isclose(pts_square[3, :], 1.0))\n",
       "        Exception raised:\n",
       "            Traceback (most recent call last):\n",
       "              File \"/Users/nicolascampbell/.local/share/uv/python/cpython-3.12.7-macos-aarch64-none/lib/python3.12/doctest.py\", line 1368, in __run\n",
       "                exec(compile(example.source, filename, \"single\",\n",
       "              File \"<doctest make_square 3[0]>\", line 1, in <module>\n",
       "                assert np.all(np.isclose(pts_square[3, :], 1.0))\n",
       "                                         ~~~~~~~~~~^^^^^^\n",
       "            IndexError: index 3 is out of bounds for axis 0 with size 3"
      ]
     },
     "execution_count": 331,
     "metadata": {},
     "output_type": "execute_result"
    }
   ],
   "source": [
    "grader.check(\"make_square\")\n",
    "\n",
    "#I believe there is an issue with test 4 here...there are only 3 rows in pts_square"
   ]
  },
  {
   "cell_type": "markdown",
   "metadata": {
    "deletable": false,
    "editable": false
   },
   "source": [
    "### Arm link\n",
    "\n",
    "Create a matrix that makes a rectangle from the square. See picture in slides\n",
    "- The left hand side of the rectangle should lie on the x=0 line\n",
    "- The long direction of the rectangle should be **link_length** and point to the right\n",
    "- The narrow direction of the rectangle should be **link_width** and be centered on the y axis"
   ]
  },
  {
   "cell_type": "code",
   "execution_count": null,
   "metadata": {
    "tags": []
   },
   "outputs": [],
   "source": [
    "# You can always start with an identity matrix that doesn't transform (it's like multiplying by 1)\n",
    "mat_shape_square_big = np.identity(3)\n",
    "\n",
    "link_length = 3.5\n",
    "link_width = 2.5\n",
    "# TODO: Create a matrix that will scale and translate the square to make the desired rectangle\n",
    "#   Try scaling first, then translate after the scale\n",
    "#   Remember that the original square goes from -1 to 1, so it's width/height is actually 2\n",
    "#   Also remember that the matrix on the right is the one that is applied first\n",
    "\n",
    "mat_shape_square_big[0, 0] = link_length / 2 #scaling x\n",
    "mat_shape_square_big[1, 1] = link_width / 2 #scaling y\n",
    "\n",
    "mat_shape_square_big[0, 2] = link_length / 2 #translating the box by l/2"
   ]
  },
  {
   "cell_type": "code",
   "execution_count": 333,
   "metadata": {
    "tags": []
   },
   "outputs": [
    {
     "data": {
      "image/png": "[encoded data removed]",
      "text/plain": [
       "<Figure size 400x400 with 1 Axes>"
      ]
     },
     "metadata": {},
     "output_type": "display_data"
    }
   ],
   "source": [
    "# Plot the result - see slides\n",
    "# Draw the square in the plot window - see slides for correct answer\n",
    "fig, axs = plt.subplots(1, 1, figsize=(4, 4))\n",
    "\n",
    "# A framing window\n",
    "plot_axes_and_big_box(axs)\n",
    "\n",
    "# Plot the transformed square\n",
    "plot_pts(axs, mat_shape_square_big @ pts_square, fmt=\"--g\")"
   ]
  },
  {
   "cell_type": "code",
   "execution_count": 334,
   "metadata": {
    "deletable": false,
    "editable": false
   },
   "outputs": [
    {
     "data": {
      "text/html": [
       "<p><strong><pre style='display: inline;'>long_skinny_rect</pre></strong> passed! 🍀</p>"
      ],
      "text/plain": [
       "long_skinny_rect results: All test cases passed!"
      ]
     },
     "execution_count": 334,
     "metadata": {},
     "output_type": "execute_result"
    }
   ],
   "source": [
    "grader.check(\"long_skinny_rect\")"
   ]
  },
  {
   "cell_type": "markdown",
   "metadata": {
    "deletable": false,
    "editable": false
   },
   "source": [
    "## Rotate the link\n",
    "\n",
    "Now rotate the link around it's base by -25 degrees\n",
    "\n",
    "Notice that this matrix is pre-pended to the existing one - it rotates *after* the scale and translate"
   ]
  },
  {
   "cell_type": "code",
   "execution_count": 335,
   "metadata": {
    "tags": []
   },
   "outputs": [
    {
     "data": {
      "text/plain": [
       "Ellipsis"
      ]
     },
     "execution_count": 335,
     "metadata": {},
     "output_type": "execute_result"
    }
   ],
   "source": [
    "# You can always start with an identity matrix that doesn't transform (it's like multiplying by 1)\n",
    "mat_rotate_link_big = np.identity(3)\n",
    "\n",
    "# TODO: Build a rotation matrix - the reason we put the link with the left side at 0,0 is so that this rotation causes\n",
    "#   the link to pivot around the base, not the middle of the long rectangle\n",
    "#   Don't forget that the make_rotation_matrix function takes radians, not degrees...\n",
    "..."
   ]
  },
  {
   "cell_type": "code",
   "execution_count": null,
   "metadata": {
    "tags": []
   },
   "outputs": [
    {
     "data": {
      "image/png": "[encoded data removed]",
      "text/plain": [
       "<Figure size 200x200 with 1 Axes>"
      ]
     },
     "metadata": {},
     "output_type": "display_data"
    }
   ],
   "source": [
    "# Plot the result - see slides\n",
    "fig, axs = plt.subplots(1, 1, figsize=(4, 4))\n",
    "\n",
    "# A framing window\n",
    "plot_axes_and_big_box(axs)\n",
    "\n",
    "# Plot the transformed square - notice that we string the matrices together here\n",
    "#   In the Lab you'll be building the mat_shape_square_* separately from the rotations because you'll scale all of the\n",
    "#   geoemtry first, then roatate all of the links to put them together\n",
    "plot_pts(axs, mat_rotate_link_big @ mat_shape_square_big @ pts_square, fmt=\"--g\")"
   ]
  },
  {
   "cell_type": "code",
   "execution_count": 337,
   "metadata": {
    "deletable": false,
    "editable": false
   },
   "outputs": [
    {
     "data": {
      "text/html": [
       "<p><strong style='color: red;'><pre style='display: inline;'>Rotate_link</pre> results:</strong></p><p><strong><pre style='display: inline;'>Rotate_link - 1</pre> result:</strong></p><pre>    ❌ Test case failed\n",
       "    Trying:\n",
       "        assert np.isclose(mat_rotate_link_big[0, 0], np.cos(2 * np.pi * (-25.0 / 360.0)))\n",
       "    Expecting nothing\n",
       "    **********************************************************************\n",
       "    Line 1, in Rotate_link 0\n",
       "    Failed example:\n",
       "        assert np.isclose(mat_rotate_link_big[0, 0], np.cos(2 * np.pi * (-25.0 / 360.0)))\n",
       "    Exception raised:\n",
       "        Traceback (most recent call last):\n",
       "          File \"/Users/nicolascampbell/.local/share/uv/python/cpython-3.12.7-macos-aarch64-none/lib/python3.12/doctest.py\", line 1368, in __run\n",
       "            exec(compile(example.source, filename, \"single\",\n",
       "          File \"<doctest Rotate_link 0[0]>\", line 1, in <module>\n",
       "            assert np.isclose(mat_rotate_link_big[0, 0], np.cos(2 * np.pi * (-25.0 / 360.0)))\n",
       "                   ^^^^^^^^^^^^^^^^^^^^^^^^^^^^^^^^^^^^^^^^^^^^^^^^^^^^^^^^^^^^^^^^^^^^^^^^^^\n",
       "        AssertionError\n",
       "</pre><p><strong><pre style='display: inline;'>Rotate_link - 2</pre> result:</strong></p><pre>    ❌ Test case failed\n",
       "    Trying:\n",
       "        assert np.isclose(mat_rotate_link_big[1, 0], np.sin(2 * np.pi * (-25.0 / 360.0)))\n",
       "    Expecting nothing\n",
       "    **********************************************************************\n",
       "    Line 1, in Rotate_link 1\n",
       "    Failed example:\n",
       "        assert np.isclose(mat_rotate_link_big[1, 0], np.sin(2 * np.pi * (-25.0 / 360.0)))\n",
       "    Exception raised:\n",
       "        Traceback (most recent call last):\n",
       "          File \"/Users/nicolascampbell/.local/share/uv/python/cpython-3.12.7-macos-aarch64-none/lib/python3.12/doctest.py\", line 1368, in __run\n",
       "            exec(compile(example.source, filename, \"single\",\n",
       "          File \"<doctest Rotate_link 1[0]>\", line 1, in <module>\n",
       "            assert np.isclose(mat_rotate_link_big[1, 0], np.sin(2 * np.pi * (-25.0 / 360.0)))\n",
       "                   ^^^^^^^^^^^^^^^^^^^^^^^^^^^^^^^^^^^^^^^^^^^^^^^^^^^^^^^^^^^^^^^^^^^^^^^^^^\n",
       "        AssertionError\n",
       "</pre>"
      ],
      "text/plain": [
       "Rotate_link results:\n",
       "    Rotate_link - 1 result:\n",
       "        ❌ Test case failed\n",
       "        Trying:\n",
       "            assert np.isclose(mat_rotate_link_big[0, 0], np.cos(2 * np.pi * (-25.0 / 360.0)))\n",
       "        Expecting nothing\n",
       "        **********************************************************************\n",
       "        Line 1, in Rotate_link 0\n",
       "        Failed example:\n",
       "            assert np.isclose(mat_rotate_link_big[0, 0], np.cos(2 * np.pi * (-25.0 / 360.0)))\n",
       "        Exception raised:\n",
       "            Traceback (most recent call last):\n",
       "              File \"/Users/nicolascampbell/.local/share/uv/python/cpython-3.12.7-macos-aarch64-none/lib/python3.12/doctest.py\", line 1368, in __run\n",
       "                exec(compile(example.source, filename, \"single\",\n",
       "              File \"<doctest Rotate_link 0[0]>\", line 1, in <module>\n",
       "                assert np.isclose(mat_rotate_link_big[0, 0], np.cos(2 * np.pi * (-25.0 / 360.0)))\n",
       "                       ^^^^^^^^^^^^^^^^^^^^^^^^^^^^^^^^^^^^^^^^^^^^^^^^^^^^^^^^^^^^^^^^^^^^^^^^^^\n",
       "            AssertionError\n",
       "\n",
       "    Rotate_link - 2 result:\n",
       "        ❌ Test case failed\n",
       "        Trying:\n",
       "            assert np.isclose(mat_rotate_link_big[1, 0], np.sin(2 * np.pi * (-25.0 / 360.0)))\n",
       "        Expecting nothing\n",
       "        **********************************************************************\n",
       "        Line 1, in Rotate_link 1\n",
       "        Failed example:\n",
       "            assert np.isclose(mat_rotate_link_big[1, 0], np.sin(2 * np.pi * (-25.0 / 360.0)))\n",
       "        Exception raised:\n",
       "            Traceback (most recent call last):\n",
       "              File \"/Users/nicolascampbell/.local/share/uv/python/cpython-3.12.7-macos-aarch64-none/lib/python3.12/doctest.py\", line 1368, in __run\n",
       "                exec(compile(example.source, filename, \"single\",\n",
       "              File \"<doctest Rotate_link 1[0]>\", line 1, in <module>\n",
       "                assert np.isclose(mat_rotate_link_big[1, 0], np.sin(2 * np.pi * (-25.0 / 360.0)))\n",
       "                       ^^^^^^^^^^^^^^^^^^^^^^^^^^^^^^^^^^^^^^^^^^^^^^^^^^^^^^^^^^^^^^^^^^^^^^^^^^\n",
       "            AssertionError"
      ]
     },
     "execution_count": 337,
     "metadata": {},
     "output_type": "execute_result"
    }
   ],
   "source": [
    "grader.check(\"Rotate_link\")"
   ]
  },
  {
   "cell_type": "markdown",
   "metadata": {},
   "source": [
    "### Make a smaller link and rotate it\n",
    "\n",
    "TODO\n",
    "- Make a matrix to scale and translate the square again, this time making it *link_length_small* and *link_width_small*\n",
    "- Make a matrix to rotate it by 60 degrees"
   ]
  },
  {
   "cell_type": "code",
   "execution_count": 338,
   "metadata": {
    "tags": []
   },
   "outputs": [
    {
     "data": {
      "text/plain": [
       "Ellipsis"
      ]
     },
     "execution_count": 338,
     "metadata": {},
     "output_type": "execute_result"
    }
   ],
   "source": [
    "# Build these two the same way you did above\n",
    "mat_shape_square_small = np.identity(3)\n",
    "mat_rotate_link_small = np.identity(3)\n",
    "\n",
    "link_length_small = 1.5\n",
    "link_width_small = 0.5\n",
    "\n",
    "# TODO: edit the two above matrices\n",
    "..."
   ]
  },
  {
   "cell_type": "code",
   "execution_count": 339,
   "metadata": {
    "tags": []
   },
   "outputs": [
    {
     "data": {
      "image/png": "[encoded data removed]",
      "text/plain": [
       "<Figure size 200x200 with 1 Axes>"
      ]
     },
     "metadata": {},
     "output_type": "display_data"
    }
   ],
   "source": [
    "# Plot the result - see slides\n",
    "fig, axs = plt.subplots(1, 1, figsize=(2, 2))\n",
    "\n",
    "# A framing window\n",
    "plot_axes_and_big_box(axs)\n",
    "\n",
    "# Plot the transformed square - notice that we string the matrices together here\n",
    "#   In the Lab you'll be building the mat_shape_square_* separately from the mat_rotate_link because you'll scale all of the\n",
    "#   geoemtry first, then roatate all of the links to put them together\n",
    "plot_pts(axs, mat_rotate_link_small @ mat_shape_square_small @ pts_square, fmt=\":m\")"
   ]
  },
  {
   "cell_type": "code",
   "execution_count": 340,
   "metadata": {
    "deletable": false,
    "editable": false
   },
   "outputs": [
    {
     "data": {
      "text/html": [
       "<p><strong style='color: red;'><pre style='display: inline;'>make_smaller_link</pre> results:</strong></p><p><strong><pre style='display: inline;'>make_smaller_link - 1</pre> result:</strong></p><pre>    ❌ Test case failed\n",
       "    Trying:\n",
       "        assert np.isclose(mat_shape_square_small[0, 0], link_length_small * 0.5)\n",
       "    Expecting nothing\n",
       "    **********************************************************************\n",
       "    Line 1, in make_smaller_link 0\n",
       "    Failed example:\n",
       "        assert np.isclose(mat_shape_square_small[0, 0], link_length_small * 0.5)\n",
       "    Exception raised:\n",
       "        Traceback (most recent call last):\n",
       "          File \"/Users/nicolascampbell/.local/share/uv/python/cpython-3.12.7-macos-aarch64-none/lib/python3.12/doctest.py\", line 1368, in __run\n",
       "            exec(compile(example.source, filename, \"single\",\n",
       "          File \"<doctest make_smaller_link 0[0]>\", line 1, in <module>\n",
       "            assert np.isclose(mat_shape_square_small[0, 0], link_length_small * 0.5)\n",
       "                   ^^^^^^^^^^^^^^^^^^^^^^^^^^^^^^^^^^^^^^^^^^^^^^^^^^^^^^^^^^^^^^^^^\n",
       "        AssertionError\n",
       "</pre><p><strong><pre style='display: inline;'>make_smaller_link - 2</pre> result:</strong></p><pre>    ❌ Test case failed\n",
       "    Trying:\n",
       "        assert np.isclose(mat_shape_square_small[1, 1], link_width_small * 0.5)\n",
       "    Expecting nothing\n",
       "    **********************************************************************\n",
       "    Line 1, in make_smaller_link 1\n",
       "    Failed example:\n",
       "        assert np.isclose(mat_shape_square_small[1, 1], link_width_small * 0.5)\n",
       "    Exception raised:\n",
       "        Traceback (most recent call last):\n",
       "          File \"/Users/nicolascampbell/.local/share/uv/python/cpython-3.12.7-macos-aarch64-none/lib/python3.12/doctest.py\", line 1368, in __run\n",
       "            exec(compile(example.source, filename, \"single\",\n",
       "          File \"<doctest make_smaller_link 1[0]>\", line 1, in <module>\n",
       "            assert np.isclose(mat_shape_square_small[1, 1], link_width_small * 0.5)\n",
       "                   ^^^^^^^^^^^^^^^^^^^^^^^^^^^^^^^^^^^^^^^^^^^^^^^^^^^^^^^^^^^^^^^^\n",
       "        AssertionError\n",
       "</pre><p><strong><pre style='display: inline;'>make_smaller_link - 3</pre> result:</strong></p><pre>    ❌ Test case failed\n",
       "    Trying:\n",
       "        assert np.isclose(mat_shape_square_small[0, 2], link_length_small * 0.5)\n",
       "    Expecting nothing\n",
       "    **********************************************************************\n",
       "    Line 1, in make_smaller_link 2\n",
       "    Failed example:\n",
       "        assert np.isclose(mat_shape_square_small[0, 2], link_length_small * 0.5)\n",
       "    Exception raised:\n",
       "        Traceback (most recent call last):\n",
       "          File \"/Users/nicolascampbell/.local/share/uv/python/cpython-3.12.7-macos-aarch64-none/lib/python3.12/doctest.py\", line 1368, in __run\n",
       "            exec(compile(example.source, filename, \"single\",\n",
       "          File \"<doctest make_smaller_link 2[0]>\", line 1, in <module>\n",
       "            assert np.isclose(mat_shape_square_small[0, 2], link_length_small * 0.5)\n",
       "                   ^^^^^^^^^^^^^^^^^^^^^^^^^^^^^^^^^^^^^^^^^^^^^^^^^^^^^^^^^^^^^^^^^\n",
       "        AssertionError\n",
       "</pre><p><strong><pre style='display: inline;'>make_smaller_link - 4</pre> result:</strong></p><pre>    ✅ Test case passed</pre><p><strong><pre style='display: inline;'>make_smaller_link - 5</pre> result:</strong></p><pre>    ❌ Test case failed\n",
       "    Trying:\n",
       "        assert np.isclose(mat_rotate_link_small[0, 0], np.cos(2 * np.pi * (60.0 / 360.0)))\n",
       "    Expecting nothing\n",
       "    **********************************************************************\n",
       "    Line 1, in make_smaller_link 4\n",
       "    Failed example:\n",
       "        assert np.isclose(mat_rotate_link_small[0, 0], np.cos(2 * np.pi * (60.0 / 360.0)))\n",
       "    Exception raised:\n",
       "        Traceback (most recent call last):\n",
       "          File \"/Users/nicolascampbell/.local/share/uv/python/cpython-3.12.7-macos-aarch64-none/lib/python3.12/doctest.py\", line 1368, in __run\n",
       "            exec(compile(example.source, filename, \"single\",\n",
       "          File \"<doctest make_smaller_link 4[0]>\", line 1, in <module>\n",
       "            assert np.isclose(mat_rotate_link_small[0, 0], np.cos(2 * np.pi * (60.0 / 360.0)))\n",
       "                   ^^^^^^^^^^^^^^^^^^^^^^^^^^^^^^^^^^^^^^^^^^^^^^^^^^^^^^^^^^^^^^^^^^^^^^^^^^^\n",
       "        AssertionError\n",
       "</pre><p><strong><pre style='display: inline;'>make_smaller_link - 6</pre> result:</strong></p><pre>    ❌ Test case failed\n",
       "    Trying:\n",
       "        assert np.isclose(mat_rotate_link_small[1, 0], np.sin(2 * np.pi * (60.0 / 360.0)))\n",
       "    Expecting nothing\n",
       "    **********************************************************************\n",
       "    Line 1, in make_smaller_link 5\n",
       "    Failed example:\n",
       "        assert np.isclose(mat_rotate_link_small[1, 0], np.sin(2 * np.pi * (60.0 / 360.0)))\n",
       "    Exception raised:\n",
       "        Traceback (most recent call last):\n",
       "          File \"/Users/nicolascampbell/.local/share/uv/python/cpython-3.12.7-macos-aarch64-none/lib/python3.12/doctest.py\", line 1368, in __run\n",
       "            exec(compile(example.source, filename, \"single\",\n",
       "          File \"<doctest make_smaller_link 5[0]>\", line 1, in <module>\n",
       "            assert np.isclose(mat_rotate_link_small[1, 0], np.sin(2 * np.pi * (60.0 / 360.0)))\n",
       "                   ^^^^^^^^^^^^^^^^^^^^^^^^^^^^^^^^^^^^^^^^^^^^^^^^^^^^^^^^^^^^^^^^^^^^^^^^^^^\n",
       "        AssertionError\n",
       "</pre>"
      ],
      "text/plain": [
       "make_smaller_link results:\n",
       "    make_smaller_link - 1 result:\n",
       "        ❌ Test case failed\n",
       "        Trying:\n",
       "            assert np.isclose(mat_shape_square_small[0, 0], link_length_small * 0.5)\n",
       "        Expecting nothing\n",
       "        **********************************************************************\n",
       "        Line 1, in make_smaller_link 0\n",
       "        Failed example:\n",
       "            assert np.isclose(mat_shape_square_small[0, 0], link_length_small * 0.5)\n",
       "        Exception raised:\n",
       "            Traceback (most recent call last):\n",
       "              File \"/Users/nicolascampbell/.local/share/uv/python/cpython-3.12.7-macos-aarch64-none/lib/python3.12/doctest.py\", line 1368, in __run\n",
       "                exec(compile(example.source, filename, \"single\",\n",
       "              File \"<doctest make_smaller_link 0[0]>\", line 1, in <module>\n",
       "                assert np.isclose(mat_shape_square_small[0, 0], link_length_small * 0.5)\n",
       "                       ^^^^^^^^^^^^^^^^^^^^^^^^^^^^^^^^^^^^^^^^^^^^^^^^^^^^^^^^^^^^^^^^^\n",
       "            AssertionError\n",
       "\n",
       "    make_smaller_link - 2 result:\n",
       "        ❌ Test case failed\n",
       "        Trying:\n",
       "            assert np.isclose(mat_shape_square_small[1, 1], link_width_small * 0.5)\n",
       "        Expecting nothing\n",
       "        **********************************************************************\n",
       "        Line 1, in make_smaller_link 1\n",
       "        Failed example:\n",
       "            assert np.isclose(mat_shape_square_small[1, 1], link_width_small * 0.5)\n",
       "        Exception raised:\n",
       "            Traceback (most recent call last):\n",
       "              File \"/Users/nicolascampbell/.local/share/uv/python/cpython-3.12.7-macos-aarch64-none/lib/python3.12/doctest.py\", line 1368, in __run\n",
       "                exec(compile(example.source, filename, \"single\",\n",
       "              File \"<doctest make_smaller_link 1[0]>\", line 1, in <module>\n",
       "                assert np.isclose(mat_shape_square_small[1, 1], link_width_small * 0.5)\n",
       "                       ^^^^^^^^^^^^^^^^^^^^^^^^^^^^^^^^^^^^^^^^^^^^^^^^^^^^^^^^^^^^^^^^\n",
       "            AssertionError\n",
       "\n",
       "    make_smaller_link - 3 result:\n",
       "        ❌ Test case failed\n",
       "        Trying:\n",
       "            assert np.isclose(mat_shape_square_small[0, 2], link_length_small * 0.5)\n",
       "        Expecting nothing\n",
       "        **********************************************************************\n",
       "        Line 1, in make_smaller_link 2\n",
       "        Failed example:\n",
       "            assert np.isclose(mat_shape_square_small[0, 2], link_length_small * 0.5)\n",
       "        Exception raised:\n",
       "            Traceback (most recent call last):\n",
       "              File \"/Users/nicolascampbell/.local/share/uv/python/cpython-3.12.7-macos-aarch64-none/lib/python3.12/doctest.py\", line 1368, in __run\n",
       "                exec(compile(example.source, filename, \"single\",\n",
       "              File \"<doctest make_smaller_link 2[0]>\", line 1, in <module>\n",
       "                assert np.isclose(mat_shape_square_small[0, 2], link_length_small * 0.5)\n",
       "                       ^^^^^^^^^^^^^^^^^^^^^^^^^^^^^^^^^^^^^^^^^^^^^^^^^^^^^^^^^^^^^^^^^\n",
       "            AssertionError\n",
       "\n",
       "    make_smaller_link - 4 result:\n",
       "        ✅ Test case passed\n",
       "\n",
       "    make_smaller_link - 5 result:\n",
       "        ❌ Test case failed\n",
       "        Trying:\n",
       "            assert np.isclose(mat_rotate_link_small[0, 0], np.cos(2 * np.pi * (60.0 / 360.0)))\n",
       "        Expecting nothing\n",
       "        **********************************************************************\n",
       "        Line 1, in make_smaller_link 4\n",
       "        Failed example:\n",
       "            assert np.isclose(mat_rotate_link_small[0, 0], np.cos(2 * np.pi * (60.0 / 360.0)))\n",
       "        Exception raised:\n",
       "            Traceback (most recent call last):\n",
       "              File \"/Users/nicolascampbell/.local/share/uv/python/cpython-3.12.7-macos-aarch64-none/lib/python3.12/doctest.py\", line 1368, in __run\n",
       "                exec(compile(example.source, filename, \"single\",\n",
       "              File \"<doctest make_smaller_link 4[0]>\", line 1, in <module>\n",
       "                assert np.isclose(mat_rotate_link_small[0, 0], np.cos(2 * np.pi * (60.0 / 360.0)))\n",
       "                       ^^^^^^^^^^^^^^^^^^^^^^^^^^^^^^^^^^^^^^^^^^^^^^^^^^^^^^^^^^^^^^^^^^^^^^^^^^^\n",
       "            AssertionError\n",
       "\n",
       "    make_smaller_link - 6 result:\n",
       "        ❌ Test case failed\n",
       "        Trying:\n",
       "            assert np.isclose(mat_rotate_link_small[1, 0], np.sin(2 * np.pi * (60.0 / 360.0)))\n",
       "        Expecting nothing\n",
       "        **********************************************************************\n",
       "        Line 1, in make_smaller_link 5\n",
       "        Failed example:\n",
       "            assert np.isclose(mat_rotate_link_small[1, 0], np.sin(2 * np.pi * (60.0 / 360.0)))\n",
       "        Exception raised:\n",
       "            Traceback (most recent call last):\n",
       "              File \"/Users/nicolascampbell/.local/share/uv/python/cpython-3.12.7-macos-aarch64-none/lib/python3.12/doctest.py\", line 1368, in __run\n",
       "                exec(compile(example.source, filename, \"single\",\n",
       "              File \"<doctest make_smaller_link 5[0]>\", line 1, in <module>\n",
       "                assert np.isclose(mat_rotate_link_small[1, 0], np.sin(2 * np.pi * (60.0 / 360.0)))\n",
       "                       ^^^^^^^^^^^^^^^^^^^^^^^^^^^^^^^^^^^^^^^^^^^^^^^^^^^^^^^^^^^^^^^^^^^^^^^^^^^\n",
       "            AssertionError"
      ]
     },
     "execution_count": 340,
     "metadata": {},
     "output_type": "execute_result"
    }
   ],
   "source": [
    "grader.check(\"make_smaller_link\")"
   ]
  },
  {
   "cell_type": "markdown",
   "metadata": {
    "deletable": false,
    "editable": false
   },
   "source": [
    "### Attach the smaller link to the bigger one and rotate both\n",
    "\n",
    "TODO\n",
    "- Make a matrix to translate the base of the smaller link to the end of the big one *before* it is rotated\n",
    "- Now rotate both the little one and the big one by the -25 degrees (so they rotate together)"
   ]
  },
  {
   "cell_type": "code",
   "execution_count": 341,
   "metadata": {
    "tags": []
   },
   "outputs": [
    {
     "data": {
      "text/plain": [
       "Ellipsis"
      ]
     },
     "execution_count": 341,
     "metadata": {},
     "output_type": "execute_result"
    }
   ],
   "source": [
    "# TODO One more matrix - define this matrix so that it translates the base (0,0) of the smaller link to the end of the larger link BEFORE\n",
    "#  it is rotated. This should be a translation by link_length, 0 \n",
    "mat_move_small_to_end_of_big = np.identity(3)\n",
    "\n",
    "..."
   ]
  },
  {
   "cell_type": "code",
   "execution_count": 342,
   "metadata": {
    "tags": []
   },
   "outputs": [
    {
     "data": {
      "text/plain": [
       "Ellipsis"
      ]
     },
     "execution_count": 342,
     "metadata": {},
     "output_type": "execute_result"
    }
   ],
   "source": [
    "# TODO We're going to build a matrix for each link that puts it in the \"right\" place (the right-most images)\n",
    "#    DO NOT call make_*_matrix here - use the matrices you've made in the previous problems\n",
    "#      (mat_rotate_link_big, mat_rotate_link_small, mat_move_small_to_end_of_big)\n",
    "#  Set the big one to be just the rotate matrix for the big link that you made earlier\n",
    "mat_pose_big = np.identity(3)\n",
    "# This one is built from three matrices: \n",
    "#   - Rotate by the rotate matrix for the small link\n",
    "#   - Translate to the end of the big link\n",
    "#   - Rotate by the rotate matrix for the big link\n",
    "mat_pose_small = np.identity(3)\n",
    "\n",
    "..."
   ]
  },
  {
   "cell_type": "code",
   "execution_count": 343,
   "metadata": {
    "tags": []
   },
   "outputs": [
    {
     "data": {
      "image/png": "[encoded data removed]",
      "text/plain": [
       "<Figure size 900x600 with 6 Axes>"
      ]
     },
     "metadata": {},
     "output_type": "display_data"
    }
   ],
   "source": [
    "# Plot the result - see slides for what this should look like\n",
    "#    This will only look correct when all of the matrices used below are correct\n",
    "#    Do NOT edit this code - if your matrices are correct then this will plot correctly\n",
    "n_rows = 2\n",
    "n_cols = 3\n",
    "fig, axs = plt.subplots(n_rows, n_cols, figsize=(3 * n_cols, 3 * n_rows))\n",
    "\n",
    "# A framing window\n",
    "for i in range(0, n_rows * n_cols):\n",
    "    plot_axes_and_big_box(axs[i // n_cols, i % n_cols])\n",
    "\n",
    "# Plot the transformed square - notice that we string the matrices together here\n",
    "#   In the Lab you'll be building the mat_shape_square_* separately from the matrices that rotate and translate (the \"pose\")\n",
    "# The big link before rotating (just the shape transform)\n",
    "plot_pts(axs[0, 0], mat_shape_square_small @ pts_square, fmt=\"--g\")\n",
    "axs[0, 0].set_title(\"Big link\")\n",
    "\n",
    "# The small link before rotating (just the shape transform)\n",
    "plot_pts(axs[0, 1], mat_shape_square_small @ pts_square, fmt=\":m\")\n",
    "axs[0, 1].set_title(\"Small link\")\n",
    "\n",
    "# The big and small link before rotating, but the small link translated to the end of the big\n",
    "plot_pts(axs[0, 2], mat_shape_square_big @ pts_square, fmt=\"--g\")\n",
    "plot_pts(axs[0, 2], mat_move_small_to_end_of_big @ mat_shape_square_small @ pts_square, fmt=\":m\")\n",
    "axs[0, 2].set_title(\"Big and small\")\n",
    "\n",
    "# Now with rotations\n",
    "# The big link before rotating\n",
    "plot_pts(axs[1, 0], mat_rotate_link_big @ mat_shape_square_big @ pts_square, fmt=\"--g\")\n",
    "axs[1, 0].set_title(\"Big link rotated\")\n",
    "# The small link before rotating\n",
    "plot_pts(axs[1, 1], mat_rotate_link_small @ mat_shape_square_small @ pts_square, fmt=\":m\")\n",
    "axs[1, 1].set_title(\"Small link rotated\")\n",
    "\n",
    "# Ensuring that the little link rotates with the big one - notice the re-use of the big link rotation matrix\n",
    "plot_pts(axs[1, 2], mat_pose_big @ mat_shape_square_big @ pts_square, fmt=\"--g\")\n",
    "plot_pts(axs[1, 2], mat_pose_small @ mat_shape_square_small @ pts_square, fmt=\":m\")\n",
    "axs[1, 2].set_title(\"Big and small rotated\")\n",
    "\n",
    "fig.tight_layout()"
   ]
  },
  {
   "cell_type": "code",
   "execution_count": 344,
   "metadata": {
    "deletable": false,
    "editable": false
   },
   "outputs": [
    {
     "data": {
      "text/html": [
       "<p><strong style='color: red;'><pre style='display: inline;'>move_smaller_link</pre> results:</strong></p><p><strong><pre style='display: inline;'>move_smaller_link - 1</pre> result:</strong></p><pre>    ❌ Test case failed\n",
       "    Trying:\n",
       "        assert np.isclose(mat_pose_big[0, 0], np.cos(2 * np.pi * (-25.0 / 360.0)))\n",
       "    Expecting nothing\n",
       "    **********************************************************************\n",
       "    Line 1, in move_smaller_link 0\n",
       "    Failed example:\n",
       "        assert np.isclose(mat_pose_big[0, 0], np.cos(2 * np.pi * (-25.0 / 360.0)))\n",
       "    Exception raised:\n",
       "        Traceback (most recent call last):\n",
       "          File \"/Users/nicolascampbell/.local/share/uv/python/cpython-3.12.7-macos-aarch64-none/lib/python3.12/doctest.py\", line 1368, in __run\n",
       "            exec(compile(example.source, filename, \"single\",\n",
       "          File \"<doctest move_smaller_link 0[0]>\", line 1, in <module>\n",
       "            assert np.isclose(mat_pose_big[0, 0], np.cos(2 * np.pi * (-25.0 / 360.0)))\n",
       "                   ^^^^^^^^^^^^^^^^^^^^^^^^^^^^^^^^^^^^^^^^^^^^^^^^^^^^^^^^^^^^^^^^^^^\n",
       "        AssertionError\n",
       "</pre><p><strong><pre style='display: inline;'>move_smaller_link - 2</pre> result:</strong></p><pre>    ❌ Test case failed\n",
       "    Trying:\n",
       "        assert np.isclose(mat_pose_big[1, 0], np.sin(2 * np.pi * (-25.0 / 360.0)))\n",
       "    Expecting nothing\n",
       "    **********************************************************************\n",
       "    Line 1, in move_smaller_link 1\n",
       "    Failed example:\n",
       "        assert np.isclose(mat_pose_big[1, 0], np.sin(2 * np.pi * (-25.0 / 360.0)))\n",
       "    Exception raised:\n",
       "        Traceback (most recent call last):\n",
       "          File \"/Users/nicolascampbell/.local/share/uv/python/cpython-3.12.7-macos-aarch64-none/lib/python3.12/doctest.py\", line 1368, in __run\n",
       "            exec(compile(example.source, filename, \"single\",\n",
       "          File \"<doctest move_smaller_link 1[0]>\", line 1, in <module>\n",
       "            assert np.isclose(mat_pose_big[1, 0], np.sin(2 * np.pi * (-25.0 / 360.0)))\n",
       "                   ^^^^^^^^^^^^^^^^^^^^^^^^^^^^^^^^^^^^^^^^^^^^^^^^^^^^^^^^^^^^^^^^^^^\n",
       "        AssertionError\n",
       "</pre><p><strong><pre style='display: inline;'>move_smaller_link - 3</pre> result:</strong></p><pre>    ❌ Test case failed\n",
       "    Trying:\n",
       "        assert np.isclose(mat_pose_small[0, 0], 0.81915204, atol=0.01)\n",
       "    Expecting nothing\n",
       "    **********************************************************************\n",
       "    Line 1, in move_smaller_link 2\n",
       "    Failed example:\n",
       "        assert np.isclose(mat_pose_small[0, 0], 0.81915204, atol=0.01)\n",
       "    Exception raised:\n",
       "        Traceback (most recent call last):\n",
       "          File \"/Users/nicolascampbell/.local/share/uv/python/cpython-3.12.7-macos-aarch64-none/lib/python3.12/doctest.py\", line 1368, in __run\n",
       "            exec(compile(example.source, filename, \"single\",\n",
       "          File \"<doctest move_smaller_link 2[0]>\", line 1, in <module>\n",
       "            assert np.isclose(mat_pose_small[0, 0], 0.81915204, atol=0.01)\n",
       "                   ^^^^^^^^^^^^^^^^^^^^^^^^^^^^^^^^^^^^^^^^^^^^^^^^^^^^^^^\n",
       "        AssertionError\n",
       "</pre><p><strong><pre style='display: inline;'>move_smaller_link - 4</pre> result:</strong></p><pre>    ❌ Test case failed\n",
       "    Trying:\n",
       "        assert np.isclose(mat_pose_small[1, 1], 0.81915204, atol=0.01)\n",
       "    Expecting nothing\n",
       "    **********************************************************************\n",
       "    Line 1, in move_smaller_link 3\n",
       "    Failed example:\n",
       "        assert np.isclose(mat_pose_small[1, 1], 0.81915204, atol=0.01)\n",
       "    Exception raised:\n",
       "        Traceback (most recent call last):\n",
       "          File \"/Users/nicolascampbell/.local/share/uv/python/cpython-3.12.7-macos-aarch64-none/lib/python3.12/doctest.py\", line 1368, in __run\n",
       "            exec(compile(example.source, filename, \"single\",\n",
       "          File \"<doctest move_smaller_link 3[0]>\", line 1, in <module>\n",
       "            assert np.isclose(mat_pose_small[1, 1], 0.81915204, atol=0.01)\n",
       "                   ^^^^^^^^^^^^^^^^^^^^^^^^^^^^^^^^^^^^^^^^^^^^^^^^^^^^^^^\n",
       "        AssertionError\n",
       "</pre><p><strong><pre style='display: inline;'>move_smaller_link - 5</pre> result:</strong></p><pre>    ❌ Test case failed\n",
       "    Trying:\n",
       "        assert np.isclose(mat_pose_small[1, 0], 0.57357644, atol=0.01)\n",
       "    Expecting nothing\n",
       "    **********************************************************************\n",
       "    Line 1, in move_smaller_link 4\n",
       "    Failed example:\n",
       "        assert np.isclose(mat_pose_small[1, 0], 0.57357644, atol=0.01)\n",
       "    Exception raised:\n",
       "        Traceback (most recent call last):\n",
       "          File \"/Users/nicolascampbell/.local/share/uv/python/cpython-3.12.7-macos-aarch64-none/lib/python3.12/doctest.py\", line 1368, in __run\n",
       "            exec(compile(example.source, filename, \"single\",\n",
       "          File \"<doctest move_smaller_link 4[0]>\", line 1, in <module>\n",
       "            assert np.isclose(mat_pose_small[1, 0], 0.57357644, atol=0.01)\n",
       "                   ^^^^^^^^^^^^^^^^^^^^^^^^^^^^^^^^^^^^^^^^^^^^^^^^^^^^^^^\n",
       "        AssertionError\n",
       "</pre><p><strong><pre style='display: inline;'>move_smaller_link - 6</pre> result:</strong></p><pre>    ❌ Test case failed\n",
       "    Trying:\n",
       "        assert np.isclose(mat_pose_small[0, 1], -0.57357644, atol=0.01)\n",
       "    Expecting nothing\n",
       "    **********************************************************************\n",
       "    Line 1, in move_smaller_link 5\n",
       "    Failed example:\n",
       "        assert np.isclose(mat_pose_small[0, 1], -0.57357644, atol=0.01)\n",
       "    Exception raised:\n",
       "        Traceback (most recent call last):\n",
       "          File \"/Users/nicolascampbell/.local/share/uv/python/cpython-3.12.7-macos-aarch64-none/lib/python3.12/doctest.py\", line 1368, in __run\n",
       "            exec(compile(example.source, filename, \"single\",\n",
       "          File \"<doctest move_smaller_link 5[0]>\", line 1, in <module>\n",
       "            assert np.isclose(mat_pose_small[0, 1], -0.57357644, atol=0.01)\n",
       "                   ^^^^^^^^^^^^^^^^^^^^^^^^^^^^^^^^^^^^^^^^^^^^^^^^^^^^^^^^\n",
       "        AssertionError\n",
       "</pre><p><strong><pre style='display: inline;'>move_smaller_link - 7</pre> result:</strong></p><pre>    ❌ Test case failed\n",
       "    Trying:\n",
       "        assert np.isclose(mat_pose_small[0, 2], 3.17207725, atol=0.01)\n",
       "    Expecting nothing\n",
       "    **********************************************************************\n",
       "    Line 1, in move_smaller_link 6\n",
       "    Failed example:\n",
       "        assert np.isclose(mat_pose_small[0, 2], 3.17207725, atol=0.01)\n",
       "    Exception raised:\n",
       "        Traceback (most recent call last):\n",
       "          File \"/Users/nicolascampbell/.local/share/uv/python/cpython-3.12.7-macos-aarch64-none/lib/python3.12/doctest.py\", line 1368, in __run\n",
       "            exec(compile(example.source, filename, \"single\",\n",
       "          File \"<doctest move_smaller_link 6[0]>\", line 1, in <module>\n",
       "            assert np.isclose(mat_pose_small[0, 2], 3.17207725, atol=0.01)\n",
       "                   ^^^^^^^^^^^^^^^^^^^^^^^^^^^^^^^^^^^^^^^^^^^^^^^^^^^^^^^\n",
       "        AssertionError\n",
       "</pre><p><strong><pre style='display: inline;'>move_smaller_link - 8</pre> result:</strong></p><pre>    ❌ Test case failed\n",
       "    Trying:\n",
       "        assert np.isclose(mat_pose_small[1, 2], -1.47916392, atol=0.01)\n",
       "    Expecting nothing\n",
       "    **********************************************************************\n",
       "    Line 1, in move_smaller_link 7\n",
       "    Failed example:\n",
       "        assert np.isclose(mat_pose_small[1, 2], -1.47916392, atol=0.01)\n",
       "    Exception raised:\n",
       "        Traceback (most recent call last):\n",
       "          File \"/Users/nicolascampbell/.local/share/uv/python/cpython-3.12.7-macos-aarch64-none/lib/python3.12/doctest.py\", line 1368, in __run\n",
       "            exec(compile(example.source, filename, \"single\",\n",
       "          File \"<doctest move_smaller_link 7[0]>\", line 1, in <module>\n",
       "            assert np.isclose(mat_pose_small[1, 2], -1.47916392, atol=0.01)\n",
       "                   ^^^^^^^^^^^^^^^^^^^^^^^^^^^^^^^^^^^^^^^^^^^^^^^^^^^^^^^^\n",
       "        AssertionError\n",
       "</pre><p><strong><pre style='display: inline;'>move_smaller_link - 9</pre> result:</strong></p><pre>    ❌ Test case failed\n",
       "    Trying:\n",
       "        assert np.isclose(mat_move_small_to_end_of_big[0, 2], link_length)\n",
       "    Expecting nothing\n",
       "    **********************************************************************\n",
       "    Line 1, in move_smaller_link 8\n",
       "    Failed example:\n",
       "        assert np.isclose(mat_move_small_to_end_of_big[0, 2], link_length)\n",
       "    Exception raised:\n",
       "        Traceback (most recent call last):\n",
       "          File \"/Users/nicolascampbell/.local/share/uv/python/cpython-3.12.7-macos-aarch64-none/lib/python3.12/doctest.py\", line 1368, in __run\n",
       "            exec(compile(example.source, filename, \"single\",\n",
       "          File \"<doctest move_smaller_link 8[0]>\", line 1, in <module>\n",
       "            assert np.isclose(mat_move_small_to_end_of_big[0, 2], link_length)\n",
       "                   ^^^^^^^^^^^^^^^^^^^^^^^^^^^^^^^^^^^^^^^^^^^^^^^^^^^^^^^^^^^\n",
       "        AssertionError\n",
       "</pre><p><strong><pre style='display: inline;'>move_smaller_link - 10</pre> result:</strong></p><pre>    ✅ Test case passed</pre>"
      ],
      "text/plain": [
       "move_smaller_link results:\n",
       "    move_smaller_link - 1 result:\n",
       "        ❌ Test case failed\n",
       "        Trying:\n",
       "            assert np.isclose(mat_pose_big[0, 0], np.cos(2 * np.pi * (-25.0 / 360.0)))\n",
       "        Expecting nothing\n",
       "        **********************************************************************\n",
       "        Line 1, in move_smaller_link 0\n",
       "        Failed example:\n",
       "            assert np.isclose(mat_pose_big[0, 0], np.cos(2 * np.pi * (-25.0 / 360.0)))\n",
       "        Exception raised:\n",
       "            Traceback (most recent call last):\n",
       "              File \"/Users/nicolascampbell/.local/share/uv/python/cpython-3.12.7-macos-aarch64-none/lib/python3.12/doctest.py\", line 1368, in __run\n",
       "                exec(compile(example.source, filename, \"single\",\n",
       "              File \"<doctest move_smaller_link 0[0]>\", line 1, in <module>\n",
       "                assert np.isclose(mat_pose_big[0, 0], np.cos(2 * np.pi * (-25.0 / 360.0)))\n",
       "                       ^^^^^^^^^^^^^^^^^^^^^^^^^^^^^^^^^^^^^^^^^^^^^^^^^^^^^^^^^^^^^^^^^^^\n",
       "            AssertionError\n",
       "\n",
       "    move_smaller_link - 2 result:\n",
       "        ❌ Test case failed\n",
       "        Trying:\n",
       "            assert np.isclose(mat_pose_big[1, 0], np.sin(2 * np.pi * (-25.0 / 360.0)))\n",
       "        Expecting nothing\n",
       "        **********************************************************************\n",
       "        Line 1, in move_smaller_link 1\n",
       "        Failed example:\n",
       "            assert np.isclose(mat_pose_big[1, 0], np.sin(2 * np.pi * (-25.0 / 360.0)))\n",
       "        Exception raised:\n",
       "            Traceback (most recent call last):\n",
       "              File \"/Users/nicolascampbell/.local/share/uv/python/cpython-3.12.7-macos-aarch64-none/lib/python3.12/doctest.py\", line 1368, in __run\n",
       "                exec(compile(example.source, filename, \"single\",\n",
       "              File \"<doctest move_smaller_link 1[0]>\", line 1, in <module>\n",
       "                assert np.isclose(mat_pose_big[1, 0], np.sin(2 * np.pi * (-25.0 / 360.0)))\n",
       "                       ^^^^^^^^^^^^^^^^^^^^^^^^^^^^^^^^^^^^^^^^^^^^^^^^^^^^^^^^^^^^^^^^^^^\n",
       "            AssertionError\n",
       "\n",
       "    move_smaller_link - 3 result:\n",
       "        ❌ Test case failed\n",
       "        Trying:\n",
       "            assert np.isclose(mat_pose_small[0, 0], 0.81915204, atol=0.01)\n",
       "        Expecting nothing\n",
       "        **********************************************************************\n",
       "        Line 1, in move_smaller_link 2\n",
       "        Failed example:\n",
       "            assert np.isclose(mat_pose_small[0, 0], 0.81915204, atol=0.01)\n",
       "        Exception raised:\n",
       "            Traceback (most recent call last):\n",
       "              File \"/Users/nicolascampbell/.local/share/uv/python/cpython-3.12.7-macos-aarch64-none/lib/python3.12/doctest.py\", line 1368, in __run\n",
       "                exec(compile(example.source, filename, \"single\",\n",
       "              File \"<doctest move_smaller_link 2[0]>\", line 1, in <module>\n",
       "                assert np.isclose(mat_pose_small[0, 0], 0.81915204, atol=0.01)\n",
       "                       ^^^^^^^^^^^^^^^^^^^^^^^^^^^^^^^^^^^^^^^^^^^^^^^^^^^^^^^\n",
       "            AssertionError\n",
       "\n",
       "    move_smaller_link - 4 result:\n",
       "        ❌ Test case failed\n",
       "        Trying:\n",
       "            assert np.isclose(mat_pose_small[1, 1], 0.81915204, atol=0.01)\n",
       "        Expecting nothing\n",
       "        **********************************************************************\n",
       "        Line 1, in move_smaller_link 3\n",
       "        Failed example:\n",
       "            assert np.isclose(mat_pose_small[1, 1], 0.81915204, atol=0.01)\n",
       "        Exception raised:\n",
       "            Traceback (most recent call last):\n",
       "              File \"/Users/nicolascampbell/.local/share/uv/python/cpython-3.12.7-macos-aarch64-none/lib/python3.12/doctest.py\", line 1368, in __run\n",
       "                exec(compile(example.source, filename, \"single\",\n",
       "              File \"<doctest move_smaller_link 3[0]>\", line 1, in <module>\n",
       "                assert np.isclose(mat_pose_small[1, 1], 0.81915204, atol=0.01)\n",
       "                       ^^^^^^^^^^^^^^^^^^^^^^^^^^^^^^^^^^^^^^^^^^^^^^^^^^^^^^^\n",
       "            AssertionError\n",
       "\n",
       "    move_smaller_link - 5 result:\n",
       "        ❌ Test case failed\n",
       "        Trying:\n",
       "            assert np.isclose(mat_pose_small[1, 0], 0.57357644, atol=0.01)\n",
       "        Expecting nothing\n",
       "        **********************************************************************\n",
       "        Line 1, in move_smaller_link 4\n",
       "        Failed example:\n",
       "            assert np.isclose(mat_pose_small[1, 0], 0.57357644, atol=0.01)\n",
       "        Exception raised:\n",
       "            Traceback (most recent call last):\n",
       "              File \"/Users/nicolascampbell/.local/share/uv/python/cpython-3.12.7-macos-aarch64-none/lib/python3.12/doctest.py\", line 1368, in __run\n",
       "                exec(compile(example.source, filename, \"single\",\n",
       "              File \"<doctest move_smaller_link 4[0]>\", line 1, in <module>\n",
       "                assert np.isclose(mat_pose_small[1, 0], 0.57357644, atol=0.01)\n",
       "                       ^^^^^^^^^^^^^^^^^^^^^^^^^^^^^^^^^^^^^^^^^^^^^^^^^^^^^^^\n",
       "            AssertionError\n",
       "\n",
       "    move_smaller_link - 6 result:\n",
       "        ❌ Test case failed\n",
       "        Trying:\n",
       "            assert np.isclose(mat_pose_small[0, 1], -0.57357644, atol=0.01)\n",
       "        Expecting nothing\n",
       "        **********************************************************************\n",
       "        Line 1, in move_smaller_link 5\n",
       "        Failed example:\n",
       "            assert np.isclose(mat_pose_small[0, 1], -0.57357644, atol=0.01)\n",
       "        Exception raised:\n",
       "            Traceback (most recent call last):\n",
       "              File \"/Users/nicolascampbell/.local/share/uv/python/cpython-3.12.7-macos-aarch64-none/lib/python3.12/doctest.py\", line 1368, in __run\n",
       "                exec(compile(example.source, filename, \"single\",\n",
       "              File \"<doctest move_smaller_link 5[0]>\", line 1, in <module>\n",
       "                assert np.isclose(mat_pose_small[0, 1], -0.57357644, atol=0.01)\n",
       "                       ^^^^^^^^^^^^^^^^^^^^^^^^^^^^^^^^^^^^^^^^^^^^^^^^^^^^^^^^\n",
       "            AssertionError\n",
       "\n",
       "    move_smaller_link - 7 result:\n",
       "        ❌ Test case failed\n",
       "        Trying:\n",
       "            assert np.isclose(mat_pose_small[0, 2], 3.17207725, atol=0.01)\n",
       "        Expecting nothing\n",
       "        **********************************************************************\n",
       "        Line 1, in move_smaller_link 6\n",
       "        Failed example:\n",
       "            assert np.isclose(mat_pose_small[0, 2], 3.17207725, atol=0.01)\n",
       "        Exception raised:\n",
       "            Traceback (most recent call last):\n",
       "              File \"/Users/nicolascampbell/.local/share/uv/python/cpython-3.12.7-macos-aarch64-none/lib/python3.12/doctest.py\", line 1368, in __run\n",
       "                exec(compile(example.source, filename, \"single\",\n",
       "              File \"<doctest move_smaller_link 6[0]>\", line 1, in <module>\n",
       "                assert np.isclose(mat_pose_small[0, 2], 3.17207725, atol=0.01)\n",
       "                       ^^^^^^^^^^^^^^^^^^^^^^^^^^^^^^^^^^^^^^^^^^^^^^^^^^^^^^^\n",
       "            AssertionError\n",
       "\n",
       "    move_smaller_link - 8 result:\n",
       "        ❌ Test case failed\n",
       "        Trying:\n",
       "            assert np.isclose(mat_pose_small[1, 2], -1.47916392, atol=0.01)\n",
       "        Expecting nothing\n",
       "        **********************************************************************\n",
       "        Line 1, in move_smaller_link 7\n",
       "        Failed example:\n",
       "            assert np.isclose(mat_pose_small[1, 2], -1.47916392, atol=0.01)\n",
       "        Exception raised:\n",
       "            Traceback (most recent call last):\n",
       "              File \"/Users/nicolascampbell/.local/share/uv/python/cpython-3.12.7-macos-aarch64-none/lib/python3.12/doctest.py\", line 1368, in __run\n",
       "                exec(compile(example.source, filename, \"single\",\n",
       "              File \"<doctest move_smaller_link 7[0]>\", line 1, in <module>\n",
       "                assert np.isclose(mat_pose_small[1, 2], -1.47916392, atol=0.01)\n",
       "                       ^^^^^^^^^^^^^^^^^^^^^^^^^^^^^^^^^^^^^^^^^^^^^^^^^^^^^^^^\n",
       "            AssertionError\n",
       "\n",
       "    move_smaller_link - 9 result:\n",
       "        ❌ Test case failed\n",
       "        Trying:\n",
       "            assert np.isclose(mat_move_small_to_end_of_big[0, 2], link_length)\n",
       "        Expecting nothing\n",
       "        **********************************************************************\n",
       "        Line 1, in move_smaller_link 8\n",
       "        Failed example:\n",
       "            assert np.isclose(mat_move_small_to_end_of_big[0, 2], link_length)\n",
       "        Exception raised:\n",
       "            Traceback (most recent call last):\n",
       "              File \"/Users/nicolascampbell/.local/share/uv/python/cpython-3.12.7-macos-aarch64-none/lib/python3.12/doctest.py\", line 1368, in __run\n",
       "                exec(compile(example.source, filename, \"single\",\n",
       "              File \"<doctest move_smaller_link 8[0]>\", line 1, in <module>\n",
       "                assert np.isclose(mat_move_small_to_end_of_big[0, 2], link_length)\n",
       "                       ^^^^^^^^^^^^^^^^^^^^^^^^^^^^^^^^^^^^^^^^^^^^^^^^^^^^^^^^^^^\n",
       "            AssertionError\n",
       "\n",
       "    move_smaller_link - 10 result:\n",
       "        ✅ Test case passed"
      ]
     },
     "execution_count": 344,
     "metadata": {},
     "output_type": "execute_result"
    }
   ],
   "source": [
    "grader.check(\"move_smaller_link\")"
   ]
  },
  {
   "cell_type": "markdown",
   "metadata": {
    "deletable": false,
    "editable": false
   },
   "source": [
    "## Hours and collaborators\n",
    "Required for every assignment - fill out before you hand-in.\n",
    "\n",
    "Listing names and websites helps you to document who you worked with and what internet help you received in the case of any plagiarism issues. You should list names of anyone (in class or not) who has substantially helped you with an assignment - or anyone you have *helped*. You do not need to list TAs.\n",
    "\n",
    "Listing hours helps us track if the assignments are too long."
   ]
  },
  {
   "cell_type": "code",
   "execution_count": 345,
   "metadata": {
    "tags": []
   },
   "outputs": [],
   "source": [
    "\n",
    "# List of names (creates a set)\n",
    "worked_with_names = {\"not filled out\"}\n",
    "# List of URLS 2S5 (creates a set)\n",
    "websites = {\"not filled out\"}\n",
    "# Approximate number of hours, including lab/in-class time\n",
    "hours = -1.5"
   ]
  },
  {
   "cell_type": "code",
   "execution_count": 346,
   "metadata": {
    "deletable": false,
    "editable": false
   },
   "outputs": [
    {
     "data": {
      "text/html": [
       "<p><strong style='color: red;'><pre style='display: inline;'>hours_collaborators</pre> results:</strong></p><p><strong><pre style='display: inline;'>hours_collaborators - 1</pre> result:</strong></p><pre>    ❌ Test case failed\n",
       "    Trying:\n",
       "        assert not 'not filled out' in worked_with_names\n",
       "    Expecting nothing\n",
       "    **********************************************************************\n",
       "    Line 1, in hours_collaborators 0\n",
       "    Failed example:\n",
       "        assert not 'not filled out' in worked_with_names\n",
       "    Exception raised:\n",
       "        Traceback (most recent call last):\n",
       "          File \"/Users/nicolascampbell/.local/share/uv/python/cpython-3.12.7-macos-aarch64-none/lib/python3.12/doctest.py\", line 1368, in __run\n",
       "            exec(compile(example.source, filename, \"single\",\n",
       "          File \"<doctest hours_collaborators 0[0]>\", line 1, in <module>\n",
       "            assert not 'not filled out' in worked_with_names\n",
       "                       ^^^^^^^^^^^^^^^^^^^^^^^^^^^^^^^^^^^^^\n",
       "        AssertionError\n",
       "</pre><p><strong><pre style='display: inline;'>hours_collaborators - 2</pre> result:</strong></p><pre>    ❌ Test case failed\n",
       "    Trying:\n",
       "        assert not 'not filled out' in websites\n",
       "    Expecting nothing\n",
       "    **********************************************************************\n",
       "    Line 1, in hours_collaborators 1\n",
       "    Failed example:\n",
       "        assert not 'not filled out' in websites\n",
       "    Exception raised:\n",
       "        Traceback (most recent call last):\n",
       "          File \"/Users/nicolascampbell/.local/share/uv/python/cpython-3.12.7-macos-aarch64-none/lib/python3.12/doctest.py\", line 1368, in __run\n",
       "            exec(compile(example.source, filename, \"single\",\n",
       "          File \"<doctest hours_collaborators 1[0]>\", line 1, in <module>\n",
       "            assert not 'not filled out' in websites\n",
       "                       ^^^^^^^^^^^^^^^^^^^^^^^^^^^^\n",
       "        AssertionError\n",
       "</pre><p><strong><pre style='display: inline;'>hours_collaborators - 3</pre> result:</strong></p><pre>    ❌ Test case failed\n",
       "    Trying:\n",
       "        assert hours > 0\n",
       "    Expecting nothing\n",
       "    **********************************************************************\n",
       "    Line 1, in hours_collaborators 2\n",
       "    Failed example:\n",
       "        assert hours > 0\n",
       "    Exception raised:\n",
       "        Traceback (most recent call last):\n",
       "          File \"/Users/nicolascampbell/.local/share/uv/python/cpython-3.12.7-macos-aarch64-none/lib/python3.12/doctest.py\", line 1368, in __run\n",
       "            exec(compile(example.source, filename, \"single\",\n",
       "          File \"<doctest hours_collaborators 2[0]>\", line 1, in <module>\n",
       "            assert hours > 0\n",
       "                   ^^^^^^^^^\n",
       "        AssertionError\n",
       "</pre>"
      ],
      "text/plain": [
       "hours_collaborators results:\n",
       "    hours_collaborators - 1 result:\n",
       "        ❌ Test case failed\n",
       "        Trying:\n",
       "            assert not 'not filled out' in worked_with_names\n",
       "        Expecting nothing\n",
       "        **********************************************************************\n",
       "        Line 1, in hours_collaborators 0\n",
       "        Failed example:\n",
       "            assert not 'not filled out' in worked_with_names\n",
       "        Exception raised:\n",
       "            Traceback (most recent call last):\n",
       "              File \"/Users/nicolascampbell/.local/share/uv/python/cpython-3.12.7-macos-aarch64-none/lib/python3.12/doctest.py\", line 1368, in __run\n",
       "                exec(compile(example.source, filename, \"single\",\n",
       "              File \"<doctest hours_collaborators 0[0]>\", line 1, in <module>\n",
       "                assert not 'not filled out' in worked_with_names\n",
       "                           ^^^^^^^^^^^^^^^^^^^^^^^^^^^^^^^^^^^^^\n",
       "            AssertionError\n",
       "\n",
       "    hours_collaborators - 2 result:\n",
       "        ❌ Test case failed\n",
       "        Trying:\n",
       "            assert not 'not filled out' in websites\n",
       "        Expecting nothing\n",
       "        **********************************************************************\n",
       "        Line 1, in hours_collaborators 1\n",
       "        Failed example:\n",
       "            assert not 'not filled out' in websites\n",
       "        Exception raised:\n",
       "            Traceback (most recent call last):\n",
       "              File \"/Users/nicolascampbell/.local/share/uv/python/cpython-3.12.7-macos-aarch64-none/lib/python3.12/doctest.py\", line 1368, in __run\n",
       "                exec(compile(example.source, filename, \"single\",\n",
       "              File \"<doctest hours_collaborators 1[0]>\", line 1, in <module>\n",
       "                assert not 'not filled out' in websites\n",
       "                           ^^^^^^^^^^^^^^^^^^^^^^^^^^^^\n",
       "            AssertionError\n",
       "\n",
       "    hours_collaborators - 3 result:\n",
       "        ❌ Test case failed\n",
       "        Trying:\n",
       "            assert hours > 0\n",
       "        Expecting nothing\n",
       "        **********************************************************************\n",
       "        Line 1, in hours_collaborators 2\n",
       "        Failed example:\n",
       "            assert hours > 0\n",
       "        Exception raised:\n",
       "            Traceback (most recent call last):\n",
       "              File \"/Users/nicolascampbell/.local/share/uv/python/cpython-3.12.7-macos-aarch64-none/lib/python3.12/doctest.py\", line 1368, in __run\n",
       "                exec(compile(example.source, filename, \"single\",\n",
       "              File \"<doctest hours_collaborators 2[0]>\", line 1, in <module>\n",
       "                assert hours > 0\n",
       "                       ^^^^^^^^^\n",
       "            AssertionError"
      ]
     },
     "execution_count": 346,
     "metadata": {},
     "output_type": "execute_result"
    }
   ],
   "source": [
    "grader.check(\"hours_collaborators\")"
   ]
  },
  {
   "cell_type": "markdown",
   "metadata": {},
   "source": [
    "### To submit\n",
    "\n",
    "Restart. Runall. Did I mention that? If the plots are not visible we can't grade them...\n",
    "\n",
    "- Submit just this .ipynb file through gradescope, Lecture activity 6 matrices\n",
    "- We will supply matrix_routines.py for you (it won't break anything if you do include it)\n",
    "\n",
    "If the Gradescope autograder fails, please check here first for common reasons for it to fail\n",
    "    https://docs.google.com/presentation/d/1tYa5oycUiG4YhXUq5vHvPOpWJ4k_xUPp2rUNIL7Q9RI/edit?usp=sharing\n",
    "\n",
    "The Gradescope grader rarely breaks for this one. Provided you turn in this .ipynb file"
   ]
  }
 ],
 "metadata": {
  "kernelspec": {
   "display_name": ".venv",
   "language": "python",
   "name": "python3"
  },
  "language_info": {
   "codemirror_mode": {
    "name": "ipython",
    "version": 3
   },
   "file_extension": ".py",
   "mimetype": "text/x-python",
   "name": "python",
   "nbconvert_exporter": "python",
   "pygments_lexer": "ipython3",
   "version": "3.12.7"
  },
  "otter": {
   "OK_FORMAT": true,
   "tests": {
    "Rotate_link": {
     "name": "Rotate_link",
     "points": 2,
     "suites": [
      {
       "cases": [
        {
         "code": ">>> assert np.isclose(mat_rotate_link_big[0, 0], np.cos(2 * np.pi * (-25.0 / 360.0)))\n",
         "hidden": false,
         "locked": false
        },
        {
         "code": ">>> assert np.isclose(mat_rotate_link_big[1, 0], np.sin(2 * np.pi * (-25.0 / 360.0)))\n",
         "hidden": false,
         "locked": false
        }
       ],
       "scored": true,
       "setup": "",
       "teardown": "",
       "type": "doctest"
      }
     ]
    },
    "hours_collaborators": {
     "name": "hours_collaborators",
     "points": 1,
     "suites": [
      {
       "cases": [
        {
         "code": ">>> assert not 'not filled out' in worked_with_names\n",
         "hidden": false,
         "locked": false
        },
        {
         "code": ">>> assert not 'not filled out' in websites\n",
         "hidden": false,
         "locked": false
        },
        {
         "code": ">>> assert hours > 0\n",
         "hidden": false,
         "locked": false
        }
       ],
       "scored": true,
       "setup": "",
       "teardown": "",
       "type": "doctest"
      }
     ]
    },
    "long_skinny_rect": {
     "name": "long_skinny_rect",
     "points": 2,
     "suites": [
      {
       "cases": [
        {
         "code": ">>> assert np.isclose(mat_shape_square_big[0, 2], link_length * 0.5)\n",
         "hidden": false,
         "locked": false
        },
        {
         "code": ">>> assert np.isclose(mat_shape_square_big[1, 2], 0.0)\n",
         "hidden": false,
         "locked": false
        },
        {
         "code": ">>> assert np.isclose(mat_shape_square_big[0, 0], link_length * 0.5)\n",
         "hidden": false,
         "locked": false
        },
        {
         "code": ">>> assert np.isclose(mat_shape_square_big[1, 1], link_width * 0.5)\n",
         "hidden": false,
         "locked": false
        }
       ],
       "scored": true,
       "setup": "",
       "teardown": "",
       "type": "doctest"
      }
     ]
    },
    "make_smaller_link": {
     "name": "make_smaller_link",
     "points": 2,
     "suites": [
      {
       "cases": [
        {
         "code": ">>> assert np.isclose(mat_shape_square_small[0, 0], link_length_small * 0.5)\n",
         "hidden": false,
         "locked": false
        },
        {
         "code": ">>> assert np.isclose(mat_shape_square_small[1, 1], link_width_small * 0.5)\n",
         "hidden": false,
         "locked": false
        },
        {
         "code": ">>> assert np.isclose(mat_shape_square_small[0, 2], link_length_small * 0.5)\n",
         "hidden": false,
         "locked": false
        },
        {
         "code": ">>> assert np.isclose(mat_shape_square_small[1, 2], 0.0)\n",
         "hidden": false,
         "locked": false
        },
        {
         "code": ">>> assert np.isclose(mat_rotate_link_small[0, 0], np.cos(2 * np.pi * (60.0 / 360.0)))\n",
         "hidden": false,
         "locked": false
        },
        {
         "code": ">>> assert np.isclose(mat_rotate_link_small[1, 0], np.sin(2 * np.pi * (60.0 / 360.0)))\n",
         "hidden": false,
         "locked": false
        }
       ],
       "scored": true,
       "setup": "",
       "teardown": "",
       "type": "doctest"
      }
     ]
    },
    "make_square": {
     "name": "make_square",
     "points": 1,
     "suites": [
      {
       "cases": [
        {
         "code": ">>> assert pts_square.shape == (3, 4) or pts_square.shape == (3, 5)\n",
         "hidden": false,
         "locked": false
        },
        {
         "code": ">>> assert np.count_nonzero(pts_square[0:2, 0:4] == -1) == 4\n",
         "hidden": false,
         "locked": false
        },
        {
         "code": ">>> assert np.count_nonzero(pts_square[0:2, 0:4] == 1) == 4\n",
         "hidden": false,
         "locked": false
        },
        {
         "code": ">>> assert np.all(np.isclose(pts_square[3, :], 1.0))\n",
         "hidden": false,
         "locked": false
        }
       ],
       "scored": true,
       "setup": "",
       "teardown": "",
       "type": "doctest"
      }
     ]
    },
    "move_smaller_link": {
     "name": "move_smaller_link",
     "points": 1,
     "suites": [
      {
       "cases": [
        {
         "code": ">>> assert np.isclose(mat_pose_big[0, 0], np.cos(2 * np.pi * (-25.0 / 360.0)))\n",
         "hidden": false,
         "locked": false
        },
        {
         "code": ">>> assert np.isclose(mat_pose_big[1, 0], np.sin(2 * np.pi * (-25.0 / 360.0)))\n",
         "hidden": false,
         "locked": false
        },
        {
         "code": ">>> assert np.isclose(mat_pose_small[0, 0], 0.81915204, atol=0.01)\n",
         "hidden": false,
         "locked": false
        },
        {
         "code": ">>> assert np.isclose(mat_pose_small[1, 1], 0.81915204, atol=0.01)\n",
         "hidden": false,
         "locked": false
        },
        {
         "code": ">>> assert np.isclose(mat_pose_small[1, 0], 0.57357644, atol=0.01)\n",
         "hidden": false,
         "locked": false
        },
        {
         "code": ">>> assert np.isclose(mat_pose_small[0, 1], -0.57357644, atol=0.01)\n",
         "hidden": false,
         "locked": false
        },
        {
         "code": ">>> assert np.isclose(mat_pose_small[0, 2], 3.17207725, atol=0.01)\n",
         "hidden": false,
         "locked": false
        },
        {
         "code": ">>> assert np.isclose(mat_pose_small[1, 2], -1.47916392, atol=0.01)\n",
         "hidden": false,
         "locked": false
        },
        {
         "code": ">>> assert np.isclose(mat_move_small_to_end_of_big[0, 2], link_length)\n",
         "hidden": false,
         "locked": false
        },
        {
         "code": ">>> assert np.isclose(mat_move_small_to_end_of_big[1, 2], 0.0)\n",
         "hidden": false,
         "locked": false
        }
       ],
       "scored": true,
       "setup": "",
       "teardown": "",
       "type": "doctest"
      }
     ]
    }
   }
  }
 },
 "nbformat": 4,
 "nbformat_minor": 2
}
