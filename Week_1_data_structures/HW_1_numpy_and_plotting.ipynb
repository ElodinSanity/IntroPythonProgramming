{
 "cells": [
  {
   "cell_type": "code",
   "execution_count": 1,
   "metadata": {
    "deletable": false,
    "editable": false
   },
   "outputs": [],
   "source": [
    "# Initialize Otter\n",
    "import otter\n",
    "grader = otter.Notebook(\"HW_1_numpy_and_plotting.ipynb\")"
   ]
  },
  {
   "cell_type": "markdown",
   "metadata": {},
   "source": [
    "# HW 1: Statistical analysis of data using numpy and matplotlib\n",
    "\n",
    "Slides: (https://docs.google.com/presentation/d/1ef0msC9XIT37_Yg94Cf4TL9VBgbIIfkKik8jgshskjE/edit?usp=sharing)\n",
    "\n",
    "Please do lab 1 before starting the first part of this homework, lab 2 before the second part, and lab 3 before tackling the last problem (the plotting part).\n",
    "\n",
    "In this homework the focus is on code *design*. Most of the functionality of the code will be what you did in the labs. I don't expect you to do the code design; I've provided that. Just pay attention to how a couple of code structuring tools (functions, dictionaries) can make your code a little more re-usable, cleaner, and less prone to error. \n",
    "\n",
    "Learning to *read* code is also as important as *writing* code. This is (hopefully) a gentle introduction to using/interacting with more advanced concepts/syntax/semantics. \n",
    "\n",
    "By the end of the homework assignment, you will have written a method for categorizing the type of a given motion (snap, high five, or clap) and determined its accuracy on the provided dataset."
   ]
  },
  {
   "cell_type": "markdown",
   "metadata": {
    "deletable": false,
    "editable": false
   },
   "source": [
    "## Week 1, problem 0: Setting up libraries\n",
    "\n",
    "TODO: Import the libraries that you will need (numpy, json, matplotlib, os)"
   ]
  },
  {
   "cell_type": "code",
   "execution_count": 2,
   "metadata": {
    "tags": [
     "otter_answer_cell"
    ]
   },
   "outputs": [],
   "source": [
    "# TODO: put the numpy, os, json, and matplotlib imports here so you can use those libraries (see the tops of Labs 1-3)\n",
    "#  Parts 1 and 2 only need numpy, os and json. Part 3 needs matplotlib; you can either look at lab 3 and copy the import now or do\n",
    "#  it later\n",
    "\n",
    "import numpy as np\n",
    "import matplotlib.pyplot as plt\n",
    "import json as json\n",
    "import os"
   ]
  },
  {
   "cell_type": "code",
   "execution_count": 3,
   "metadata": {
    "deletable": false,
    "editable": false
   },
   "outputs": [
    {
     "data": {
      "text/html": [
       "<p><strong><pre style='display: inline;'>libraries</pre></strong> passed! 💯</p>"
      ],
      "text/plain": [
       "libraries results: All test cases passed!"
      ]
     },
     "execution_count": 3,
     "metadata": {},
     "output_type": "execute_result"
    }
   ],
   "source": [
    "grader.check(\"libraries\")"
   ]
  },
  {
   "cell_type": "markdown",
   "metadata": {
    "deletable": false,
    "editable": false
   },
   "source": [
    "## Week 1, problem 1: Read data set and description\n",
    "\n",
    "In Lab 1, you read in a few CSV files, where each contained the data from a single motion from a single person. In this problem, you will read in a single CSV file that contains a full dataset containing multiple types of motions from multiple people (\"subjects\") done multiple times.\n",
    "\n",
    "The data is stored in `Data/full_dataset.csv`, and is described in `Data/full_dataset_data_description.json`. Note how `full_dataset_data_description.json` is different from `data_description.json`; there are three new data channels:\n",
    "\n",
    "* Subject number: Identifies the person (\"human subject\") performing the motion. There are 10 different people in the data set.\n",
    "* Run number: Each person did each motion 10 times, and this number identifies each unique run of the motion.\n",
    "* Motion type: Contains the motion ID of the motion performed, corresponding to a high five, snap, or clap.\n",
    "\n",
    "Almost all of this homework involves copying the code you wrote in Lab 1 but reading these two different files."
   ]
  },
  {
   "cell_type": "code",
   "execution_count": 4,
   "metadata": {
    "tags": [
     "otter_answer_cell"
    ]
   },
   "outputs": [],
   "source": [
    "# TODO: Read in `Data/full_dataset.csv` into `full_dataset`, and `Data/full_dataset_data_description.json` into `data_description`.\n",
    "\n",
    "full_dataset = np.loadtxt(fname=\"Data/full_dataset.csv\", dtype=\"float\", delimiter=',')\n",
    "try:\n",
    "    with open(\"Data/full_dataset_data_description.json\", \"r\") as fp:\n",
    "        data_description = json.load(fp)\n",
    "except FileNotFoundError:\n",
    "    print(f\"The file was not found; check that the data directory is in the current one and the file is in that directory\")"
   ]
  },
  {
   "cell_type": "code",
   "execution_count": 5,
   "metadata": {
    "deletable": false,
    "editable": false
   },
   "outputs": [
    {
     "data": {
      "text/html": [
       "<p><strong><pre style='display: inline;'>read_data</pre></strong> passed! 🎉</p>"
      ],
      "text/plain": [
       "read_data results: All test cases passed!"
      ]
     },
     "execution_count": 5,
     "metadata": {},
     "output_type": "execute_result"
    }
   ],
   "source": [
    "grader.check(\"read_data\")"
   ]
  },
  {
   "cell_type": "markdown",
   "metadata": {
    "deletable": false,
    "editable": false
   },
   "source": [
    "## Week 1, problem 2: Filtering data set\n",
    "\n",
    "In this homework, you will need to perform operations on individual motions identified by a specific subject, motion type, and run number. For this part, write code to extract the fourth snap performed by subject three. We will later turn this into a function."
   ]
  },
  {
   "cell_type": "code",
   "execution_count": 6,
   "metadata": {
    "tags": [
     "otter_answer_cell"
    ]
   },
   "outputs": [],
   "source": [
    "# Numeric ids to indicate hand motion type from Lab 1\n",
    "clap_id = 1\n",
    "high_five_id = 2\n",
    "snap_id = 3\n",
    "\n",
    "# Hardcoded column numbers for this data to make the code easier; normally, you would extract this from\n",
    "# full_dataset_data_description.json.\n",
    "timestamp_col = 0\n",
    "subject_number_col = 13\n",
    "run_number_col = 14\n",
    "motion_id_col = 15"
   ]
  },
  {
   "cell_type": "code",
   "execution_count": 7,
   "metadata": {
    "tags": [
     "otter_answer_cell"
    ]
   },
   "outputs": [],
   "source": [
    "# TODO: Extract a numpy array containing the rows for the fourth snap performed by subject three.\n",
    "# Hint: You can apply three different boolean filters to whittle down the data set, \n",
    "#  use np.all() to combine the filters into one filter, or use logical and.\n",
    "\n",
    "# Reminder to use the variable snap_id (defined above) when searching for rows that are snaps\n",
    "\n",
    "s3s4_snap_data = full_dataset[\n",
    "    (full_dataset[:, motion_id_col] == snap_id) & \n",
    "    (full_dataset[:, subject_number_col] == 3) & \n",
    "    (full_dataset[:, run_number_col] == 4)]\n"
   ]
  },
  {
   "cell_type": "code",
   "execution_count": 8,
   "metadata": {
    "deletable": false,
    "editable": false
   },
   "outputs": [
    {
     "data": {
      "text/html": [
       "<p><strong><pre style='display: inline;'>filter_data_set</pre></strong> passed! 🌟</p>"
      ],
      "text/plain": [
       "filter_data_set results: All test cases passed!"
      ]
     },
     "execution_count": 8,
     "metadata": {},
     "output_type": "execute_result"
    }
   ],
   "source": [
    "grader.check(\"filter_data_set\")"
   ]
  },
  {
   "cell_type": "markdown",
   "metadata": {
    "deletable": false,
    "editable": false
   },
   "source": [
    "## Week 2, problem 1: Calculate RMS\n",
    "\n",
    "In this homework, you will be writing code to determine which motion a person is performing. One common way to differentiate between different motion types is with well chosen summary statistics of the data. This can include statistics on individual axes, as well as statistics that combine multi-dimensional data (e.g., the x, y, and z data from accelerometers).\n",
    "\n",
    "We will use the root mean square (RMS) of the accelerometer data as one such summary statistic. RMS is particularly useful to us here since it is an excellent information stream for detecting contact (such as impact between hands, collisions between fingers as you snap), even if hand orientation is not perfectly consistent.\n",
    "\n",
    "For this problem, you will write a function to calculate the RMS of each row in an array, and use it to calculate the RMS of two specific data channels for the entire data set."
   ]
  },
  {
   "cell_type": "code",
   "execution_count": 9,
   "metadata": {
    "tags": [
     "otter_answer_cell"
    ]
   },
   "outputs": [],
   "source": [
    "# TODO: Copy the function get_channel_data from lab 2.\n",
    "def get_channel_data(all_data, index_offset, n_dims):\n",
    "    \"\"\" Get the data for just one channel (e.g., right hand accelerometer)\n",
    "    @param all_data - numpy array containing data from one (or more) files\n",
    "    @param index_offset - the column to begin getting data from\n",
    "    @param n_dims - number of dimensions for the data channel\n",
    "    @return Returned array should be: number of rows in all_data X n_dims\"\"\"\n",
    "\n",
    "    return all_data[:, index_offset : index_offset + n_dims]"
   ]
  },
  {
   "cell_type": "code",
   "execution_count": 10,
   "metadata": {
    "tags": [
     "otter_answer_cell"
    ]
   },
   "outputs": [],
   "source": [
    "# TODO: Copy the function get_descriptor from lab 2.\n",
    "def get_descriptor(data_description, name):\n",
    "    \"\"\" Search through data_description to find the dictionary with name \"name\"\n",
    "    @param name - The name of the data channel to look for. \n",
    "    @return the dictionary that has name as the 'name' key\"\"\"\n",
    "\n",
    "    for description in data_description[\"data_channels\"]:\n",
    "        if description[\"name\"] == name: #if the name element is the desired name\n",
    "            return description #return the dictionary"
   ]
  },
  {
   "cell_type": "code",
   "execution_count": 11,
   "metadata": {
    "tags": [
     "otter_answer_cell"
    ]
   },
   "outputs": [],
   "source": [
    "# definition of RMS (Root Mean Squared): sqrt( mean(sum_x x^2) )\n",
    "def rms(in_data):\n",
    "   \"\"\" Calculate the root mean square of each row in in_data.\n",
    "   @param in_data - A 2-dimensional numpy array\n",
    "   @return A 1x number of columns in in_data numpy array containing the RMS of each row in the array.\n",
    "   \"\"\"\n",
    "   # TODO: Fill in this function.\n",
    "   # Hint: Use numpy functions to operate on the entire array at once rather than\n",
    "   # iterate through each row.\n",
    "   return np.sqrt(np.mean(in_data**2, axis = 1))\n"
   ]
  },
  {
   "cell_type": "code",
   "execution_count": 12,
   "metadata": {
    "tags": [
     "otter_answer_cell"
    ]
   },
   "outputs": [],
   "source": [
    "# Check that the rms function works as expected\n",
    "test_array = np.array([[1, 2, 3], [4, 5, 6]])\n",
    "\n",
    "# Calculation for first row (reminder, mean is sum of values divided by number of values)\n",
    "first_row_rms = np.sqrt((1 * 1 + 2 * 2 + 3 * 3) / 3)\n",
    "\n",
    "test_array_rms = rms(test_array)\n",
    "assert(np.isclose(test_array_rms[0], first_row_rms))\n",
    "assert(np.isclose(test_array_rms[1], 5.06622805))"
   ]
  },
  {
   "cell_type": "code",
   "execution_count": 13,
   "metadata": {
    "tags": [
     "otter_answer_cell"
    ]
   },
   "outputs": [],
   "source": [
    "# TODO: Use rms, full_dataset, get_descriptor, and get_channel_data to calculate the RMS of left hand accelerometer and right hand accelerometer for the entire data set.\n",
    "\n",
    "lh_accelerometer_descriptor = get_descriptor(data_description, \"Left hand accelerometer\")\n",
    "lh_accelerometer_rms_check = rms(get_channel_data(full_dataset, lh_accelerometer_descriptor[\"index_offset\"], lh_accelerometer_descriptor[\"dimensions\"]))\n",
    "\n",
    "rh_accelerometer_descriptor = get_descriptor(data_description, \"Right hand accelerometer\")\n",
    "rh_accelerometer_rms_check = rms(get_channel_data(full_dataset, rh_accelerometer_descriptor[\"index_offset\"], rh_accelerometer_descriptor[\"dimensions\"]))"
   ]
  },
  {
   "cell_type": "code",
   "execution_count": 14,
   "metadata": {
    "deletable": false,
    "editable": false
   },
   "outputs": [
    {
     "data": {
      "text/html": [
       "<p><strong><pre style='display: inline;'>calculate_rms</pre></strong> passed! 🌈</p>"
      ],
      "text/plain": [
       "calculate_rms results: All test cases passed!"
      ]
     },
     "execution_count": 14,
     "metadata": {},
     "output_type": "execute_result"
    }
   ],
   "source": [
    "grader.check(\"calculate_rms\")"
   ]
  },
  {
   "cell_type": "markdown",
   "metadata": {
    "deletable": false,
    "editable": false
   },
   "source": [
    "## Week 2, problem 2: Function for filtering data set\n",
    "\n",
    "Take the code from Week 1 problem 2 and turn it into a re-usable function."
   ]
  },
  {
   "cell_type": "code",
   "execution_count": 15,
   "metadata": {
    "tags": [
     "otter_answer_cell"
    ]
   },
   "outputs": [],
   "source": [
    "def filter_data_set(data, subject_number, run_number, motion_id):\n",
    "    \"\"\" Filters a data set to a specific run of a specific motion type from a specific subject.\n",
    "    @param data - The full dataset, containing multiple motion runs from multiple people.\n",
    "    @return Just the rows for the given subject number, run number, and motion id.\n",
    "    \"\"\"\n",
    "    \n",
    "    return data[\n",
    "        (data[:, subject_number_col] == subject_number) & \n",
    "        (data[:, run_number_col] == run_number) &\n",
    "        (data[:, motion_id_col] == motion_id)]"
   ]
  },
  {
   "cell_type": "code",
   "execution_count": 16,
   "metadata": {
    "tags": [
     "otter_answer_cell"
    ]
   },
   "outputs": [],
   "source": [
    "# TODO Write a test function. Call filter_data_set with the values for s3s4_snap_data,\n",
    "#   i.e., subject number 3, run number 4, snap data\n",
    "# And check that the resulting data is the same as s3s4_snap_data\n",
    "\n",
    "foo = filter_data_set(full_dataset, 3, 4, snap_id)"
   ]
  },
  {
   "cell_type": "code",
   "execution_count": 17,
   "metadata": {
    "deletable": false,
    "editable": false
   },
   "outputs": [
    {
     "data": {
      "text/html": [
       "<p><strong><pre style='display: inline;'>filter_function</pre></strong> passed! 🌟</p>"
      ],
      "text/plain": [
       "filter_function results: All test cases passed!"
      ]
     },
     "execution_count": 17,
     "metadata": {},
     "output_type": "execute_result"
    }
   ],
   "source": [
    "grader.check(\"filter_function\")"
   ]
  },
  {
   "cell_type": "markdown",
   "metadata": {
    "deletable": false,
    "editable": false
   },
   "source": [
    "## Week 2, problem 3: Finding peak and valley of a data channel\n",
    "\n",
    "Often, the maximum and minimum value of a data channel are informative as further summary statistics, in addition to being helpful for pinpointing the occurrence of key events such as moments of hand contact in the recorded data. The difference between these maximum and minimum values can be helpful, too, as you try to understand the range of your data. \n",
    "\n",
    "For this problem, you will write a function that locates the first row containing a specific value, and then use it to find the peak and valley of a data channel. The function will be very similar to the optional section of lab 2.\n",
    "\n",
    "While data can have multiple peaks and valleys, for simplicity we will only look at the first location with the maximum and minimum value for the data channel."
   ]
  },
  {
   "cell_type": "code",
   "execution_count": 18,
   "metadata": {
    "tags": [
     "otter_answer_cell"
    ]
   },
   "outputs": [],
   "source": [
    "def find_row_with_value(data, value):\n",
    "    \"\"\" Locates the first index of data containing value.\n",
    "    @param data - A 1-d array containing data.\n",
    "    @param value - A specific value to look for in data.\n",
    "    @return The index of value within data, or -1 if value is not found.\n",
    "    \"\"\"\n",
    "    # TODO: Write this function. See the optional section of lab 2 for hints on how to do this.\n",
    "\n",
    "    condition = np.isclose(data, value) #boolean for if value is found\n",
    "\n",
    "    if condition.any(): #if value is found anywhere\n",
    "        return np.where(condition)[0][0] #return the index of the found value     [0][0] gets the first index where true\n",
    "\n",
    "    else: #if value is not found\n",
    "        return -1 #return for when value isn't found\n"
   ]
  },
  {
   "cell_type": "code",
   "execution_count": 19,
   "metadata": {
    "tags": [
     "otter_answer_cell"
    ]
   },
   "outputs": [],
   "source": [
    "# Simple test code for your function to help debug issues.\n",
    "find_row_with_value_test_array = np.array([6, 7, 8, 7, 5])\n",
    "\n",
    "assert(find_row_with_value(find_row_with_value_test_array, 6) == 0)\n",
    "assert(find_row_with_value(find_row_with_value_test_array, 7) == 1)\n",
    "assert(find_row_with_value(find_row_with_value_test_array, 5) == 4)"
   ]
  },
  {
   "cell_type": "code",
   "execution_count": 20,
   "metadata": {
    "tags": [
     "otter_answer_cell"
    ]
   },
   "outputs": [],
   "source": [
    "# TODO Find peak and valley of z axis of the right hand accelerometer in s3s4_snap_data\n",
    "# Hint: You can use get_channel_data to extract just the rh accelerometer channel from s3s4_snap_data. \n",
    "\n",
    "s3s4_snap_rh_accelerometer_data = get_channel_data(s3s4_snap_data, rh_accelerometer_descriptor[\"index_offset\"], rh_accelerometer_descriptor[\"dimensions\"])\n",
    "s3s4_snap_rh_accelerometer_z_min = np.min(s3s4_snap_rh_accelerometer_data[:, 2])\n",
    "s3s4_snap_rh_accelerometer_z_max = np.max(s3s4_snap_rh_accelerometer_data[:, 2])\n",
    "\n",
    "s3s4_snap_rh_accelerometer_z_min_index = np.where(s3s4_snap_rh_accelerometer_data[:, 2] == s3s4_snap_rh_accelerometer_z_min)[0]\n",
    "s3s4_snap_rh_accelerometer_z_max_index = np.where(s3s4_snap_rh_accelerometer_data[:, 2] == s3s4_snap_rh_accelerometer_z_max)[0]"
   ]
  },
  {
   "cell_type": "code",
   "execution_count": 21,
   "metadata": {
    "deletable": false,
    "editable": false
   },
   "outputs": [
    {
     "data": {
      "text/html": [
       "<p><strong><pre style='display: inline;'>peak_and_valley</pre></strong> passed! 🙌</p>"
      ],
      "text/plain": [
       "peak_and_valley results: All test cases passed!"
      ]
     },
     "execution_count": 21,
     "metadata": {},
     "output_type": "execute_result"
    }
   ],
   "source": [
    "grader.check(\"peak_and_valley\")"
   ]
  },
  {
   "cell_type": "markdown",
   "metadata": {
    "deletable": false,
    "editable": false
   },
   "source": [
    "<!-- BEGIN QUESTION -->\n",
    "\n",
    "## Week 3, problem 1: Graph RMS for each motion type\n",
    "\n",
    "We have the full data set, a way to filter it, and the ability to calculate RMS for a given data channel. Let's combine these abilities and graph the left hand and right hand accelerometer RMS for a single clap, snap, and high five. After that, we can take a step back and observe how the graph differs between motion types."
   ]
  },
  {
   "cell_type": "code",
   "execution_count": 22,
   "metadata": {
    "tags": [
     "otter_answer_cell"
    ]
   },
   "outputs": [],
   "source": [
    "# TODO: Copy plot_function from Lab 3.\n",
    "def plot_function(axs, ts, data, plot_title):\n",
    "    \"\"\" Plot all of the dimensions for a given channel\n",
    "    @param axs - the place to plot in\n",
    "    @param ts - the time steps to use\n",
    "    @param data - the numpy array from the csv file\n",
    "    @param channel_info - a dictionary with the channel info, e.g. \"name\" and \"units\"\n",
    "    @param your_choice - either total number of columns or names for the dimensions\n",
    "    @returns - nothing\"\"\"\n",
    "    \n",
    "    axs.plot(ts, data) #plotting x values\n",
    "\n",
    "    axs.set_title(plot_title) #plot title\n",
    "    axs.set_ylabel(\"gravity units\") #vertical axis label\n",
    "    axs.set_xlabel(\"Seconds\") #horizontal axis label"
   ]
  },
  {
   "cell_type": "code",
   "execution_count": 23,
   "metadata": {
    "tags": [
     "otter_answer_cell"
    ]
   },
   "outputs": [],
   "source": [
    "# TODO: Create a plot with 3 rows and 2 columns. Plots in the left column contain the RMS of the left hand accelerometer,\n",
    "# and plots in the right column contain the RMS of the right hand accelerometer. The first row contains graphs for a snap,\n",
    "# the second row a clap, and the third row a high five. You can plot any single snap, clap, or high five in the data set.\n",
    "\n",
    "# Use the variables below when filtering the data.\n",
    "# For the final submitted graph, please use subject 6 run 3.\n",
    "# But prior to submission, feel free to explore the data\n",
    "# by looking at graphs for other subjects/runs!\n",
    "\n",
    "snap_subject_number = 6\n",
    "snap_run_number = 3\n",
    "\n",
    "clap_subject_number = 6\n",
    "clap_run_number = 3\n",
    "\n",
    "high_five_subject_number = 6\n",
    "high_five_run_number = 3\n",
    "\n",
    "# Hint: For calculating and using RMS, you have two options:\n",
    "#\n",
    "#   I've copied `full_dataset` into `all_data` for you\n",
    "# * Add two columns to the end of `all_data` containing the RMS of the left hand accelerometer and the right hand accelerometer\n",
    "#   for every row in the data set, and then filter `all_data` to the specific subject number, run number, and motion type.\n",
    "#   You can use `np.append` to add these columns.\n",
    "#\n",
    "# OR\n",
    "#\n",
    "# * Filter `all_data` to the specific subject number, run number, and motion type, and then calculate the RMS of the left hand\n",
    "#   accelerometer and right hand accelerometer for that motion in separate numpy arrays.\n",
    "\n",
    "all_data = np.copy(full_dataset)\n",
    "\n",
    "#filtering data\n",
    "snap_data = filter_data_set(all_data, snap_subject_number, snap_run_number, snap_id)\n",
    "clap_data = filter_data_set(all_data, clap_subject_number, clap_run_number, clap_id)\n",
    "high_five_data = filter_data_set(all_data, high_five_subject_number, high_five_run_number, high_five_id)\n",
    "\n",
    "#left hand acceleromter data\n",
    "lh_accel_snap_data = get_channel_data(snap_data, lh_accelerometer_descriptor[\"index_offset\"], lh_accelerometer_descriptor[\"dimensions\"])\n",
    "lh_accel_clap_data = get_channel_data(clap_data, lh_accelerometer_descriptor[\"index_offset\"], lh_accelerometer_descriptor[\"dimensions\"])\n",
    "lh_accel_high_five_data = get_channel_data(high_five_data, lh_accelerometer_descriptor[\"index_offset\"], lh_accelerometer_descriptor[\"dimensions\"])\n",
    "\n",
    "#right hand accelerometer data\n",
    "rh_accel_snap_data = get_channel_data(snap_data, rh_accelerometer_descriptor[\"index_offset\"], rh_accelerometer_descriptor[\"dimensions\"])\n",
    "rh_accel_clap_data = get_channel_data(clap_data, rh_accelerometer_descriptor[\"index_offset\"], rh_accelerometer_descriptor[\"dimensions\"])\n",
    "rh_accel_high_five_data = get_channel_data(high_five_data, rh_accelerometer_descriptor[\"index_offset\"], rh_accelerometer_descriptor[\"dimensions\"])\n",
    "\n",
    "#calculating rms\n",
    "lh_accel_snap_rms = rms(lh_accel_snap_data)\n",
    "lh_accel_clap_rms = rms(lh_accel_clap_data)\n",
    "lh_accel_high_five_rms = rms(lh_accel_high_five_data)\n",
    "\n",
    "rh_accel_snap_rms = rms(rh_accel_snap_data)\n",
    "rh_accel_clap_rms = rms(rh_accel_clap_data)\n",
    "rh_accel_high_five_rms = rms(rh_accel_high_five_data)\n"
   ]
  },
  {
   "cell_type": "code",
   "execution_count": 24,
   "metadata": {
    "tags": [
     "otter_answer_cell"
    ]
   },
   "outputs": [
    {
     "data": {
      "text/plain": [
       "[]"
      ]
     },
     "execution_count": 24,
     "metadata": {},
     "output_type": "execute_result"
    },
    {
     "data": {
      "image/png": "[encoded data removed]",
      "text/plain": [
       "<Figure size 600x800 with 6 Axes>"
      ]
     },
     "metadata": {},
     "output_type": "display_data"
    }
   ],
   "source": [
    "# Plot size\n",
    "nrows = 3\n",
    "ncols = 2\n",
    "fig, axs = plt.subplots(nrows, ncols, figsize=(6, 8))\n",
    "\n",
    "# TODO: Make the plot\n",
    "# Put left hand in the first column, right hand in the second column.\n",
    "# Hint: To use plot_function with your new \"rms\" data channel, you will need to make a\n",
    "# dictionary for its descriptor with \"name\" and \"units\" entries.\n",
    "# Note: The time values in the plots in the slides are divided by 1,000\n",
    "\n",
    "#time data\n",
    "time_descriptor = get_descriptor(data_description, \"Timestamp\")\n",
    "snap_time = get_channel_data(snap_data, time_descriptor[\"index_offset\"], time_descriptor[\"dimensions\"]) / 1000\n",
    "clap_time = get_channel_data(clap_data, time_descriptor[\"index_offset\"], time_descriptor[\"dimensions\"]) / 1000\n",
    "high_five_time = get_channel_data(high_five_data, time_descriptor[\"index_offset\"], time_descriptor[\"dimensions\"]) / 1000\n",
    "\n",
    "#snap plot\n",
    "plot_function(axs[0,0], snap_time, lh_accel_snap_rms, plot_title = \"Snap (LH)\")\n",
    "plot_function(axs[0,1], snap_time, rh_accel_snap_rms, plot_title = \"Snap (RH)\")\n",
    "\n",
    "#clap plot\n",
    "plot_function(axs[1,0], clap_time, lh_accel_clap_rms, plot_title = \"Clap (LH)\")\n",
    "plot_function(axs[1,1], clap_time, rh_accel_clap_rms, plot_title = \"Clap (RH)\")\n",
    "\n",
    "#high five plot\n",
    "plot_function(axs[2,0], high_five_time, lh_accel_high_five_rms, plot_title = \"High five (LH)\")\n",
    "plot_function(axs[2,1], high_five_time, rh_accel_high_five_rms, plot_title = \"High five (RH)\")\n",
    "\n",
    "fig.tight_layout()\n",
    "plt.plot()"
   ]
  },
  {
   "cell_type": "code",
   "execution_count": 25,
   "metadata": {
    "deletable": false,
    "editable": false
   },
   "outputs": [
    {
     "name": "stdout",
     "output_type": "stream",
     "text": [
      "This is a manually-graded question; there is no grader.check() function. See rubric and slides for more information on expected output.\n"
     ]
    }
   ],
   "source": [
    "# Manual grade\n",
    "print(\"This is a manually-graded question; there is no grader.check() function. See rubric and slides for more information on expected output.\")"
   ]
  },
  {
   "cell_type": "markdown",
   "metadata": {
    "deletable": false,
    "editable": false
   },
   "source": [
    "<!-- END QUESTION -->\n",
    "\n",
    "## Week 3, problem 2: Determine motion type from data\n",
    "\n",
    "Observe your graphs from the previous problem. How can you tell, from these graphs alone, what motion type the subject is performing?\n",
    "\n",
    "Some helpful context:\n",
    "\n",
    "* Subjects were told to snap with their _right hand_ and high five with their _left hand_.\n",
    "* The high five was pantomimed; that is, the subject did not make contact with another hand, but instead made a high five motion.\n",
    "\n",
    "From your observations, write a function that takes in the left hand and right hand accelerometer RMS values and returns the most likely motion type that the subject is performing.\n",
    "\n",
    "Hint: Look at the peaks in the graphs, the magnitude of the peaks, and the hand(s) that the peaks occur on.\n",
    "\n",
    "Hint: You could return to the previous problem and graph different subjects/runs for inspiration."
   ]
  },
  {
   "cell_type": "code",
   "execution_count": 26,
   "metadata": {
    "tags": [
     "otter_answer_cell"
    ]
   },
   "outputs": [],
   "source": [
    "# TODO Put any additional functions you want here"
   ]
  },
  {
   "cell_type": "code",
   "execution_count": 27,
   "metadata": {
    "tags": [
     "otter_answer_cell"
    ]
   },
   "outputs": [],
   "source": [
    "# TODO: Write a function that analyzes the data and returns the id of the one\n",
    "#  it guesses\n",
    "def guess_motion_type(lh_accelerometer_rms, rh_accelerometer_rms):\n",
    "    \"\"\" Guesses the motion that the subject is performing given the RMS of the user's left hand and right hand accelerometers.\n",
    "    @param lh_accelerometer_rms - RMS of the left hand accelerometer\n",
    "    @param rh_accelerometer_rms - RMS of the right hand accelerometer\n",
    "    @return The motion ID of the motion the user was most likely performing.\n",
    "    \"\"\"\n",
    "\n",
    "    rh_peak = (np.max(rh_accelerometer_rms) - np.min(rh_accelerometer_rms)) > 0.7\n",
    "    lh_peak = (np.max(lh_accelerometer_rms) - np.min(lh_accelerometer_rms)) > 0.7\n",
    "\n",
    "    #maxes happen at same time for clap\n",
    "    if rh_peak and lh_peak:\n",
    "        return clap_id\n",
    "    #right hand has a significantly larger max than left hand for snap\n",
    "    elif lh_peak:\n",
    "        return high_five_id\n",
    "    \n",
    "    #since maxes are substantially different for snap motion, it is likely to be more reliable than high five since it's maxes much closer...\n",
    "    #so I use else instead of another conditional\n",
    "    else: \n",
    "        return snap_id\n"
   ]
  },
  {
   "cell_type": "code",
   "execution_count": 28,
   "metadata": {
    "tags": [
     "otter_answer_cell"
    ]
   },
   "outputs": [],
   "source": [
    "# TODO: Write some tests here to check that you have the \"right\" answer\n",
    "#  i.e., if you give it snap data it should return snap (for at least some of the snap data)\n",
    "motion_guess_1 = guess_motion_type(lh_accel_snap_rms, rh_accel_snap_rms)\n",
    "motion_guess_2 = guess_motion_type(lh_accel_clap_rms, rh_accel_clap_rms)\n",
    "motion_guess_3 = guess_motion_type(lh_accel_high_five_rms, rh_accel_high_five_rms)\n",
    "\n",
    "assert motion_guess_1 == snap_id\n",
    "assert motion_guess_2 == clap_id\n",
    "assert motion_guess_3 == high_five_id"
   ]
  },
  {
   "cell_type": "code",
   "execution_count": 29,
   "metadata": {
    "tags": [
     "otter_answer_cell"
    ]
   },
   "outputs": [],
   "source": [
    "# example test code\n",
    "s3s4_snap_lh_accelerometer_data = get_channel_data(s3s4_snap_data, index_offset=lh_accelerometer_descriptor[\"index_offset\"], n_dims=lh_accelerometer_descriptor[\"dimensions\"])\n",
    "\n",
    "assert(snap_id == guess_motion_type(rms(s3s4_snap_lh_accelerometer_data), rms(s3s4_snap_rh_accelerometer_data)))"
   ]
  },
  {
   "cell_type": "code",
   "execution_count": 30,
   "metadata": {
    "deletable": false,
    "editable": false
   },
   "outputs": [
    {
     "data": {
      "text/html": [
       "<p><strong><pre style='display: inline;'>determine_motion_type</pre></strong> passed! 🎉</p>"
      ],
      "text/plain": [
       "determine_motion_type results: All test cases passed!"
      ]
     },
     "execution_count": 30,
     "metadata": {},
     "output_type": "execute_result"
    }
   ],
   "source": [
    "grader.check(\"determine_motion_type\")"
   ]
  },
  {
   "cell_type": "markdown",
   "metadata": {
    "deletable": false,
    "editable": false
   },
   "source": [
    "## Week 3, problem 3: Calculate accuracy of your heuristic\n",
    "\n",
    "You now have a function that guesses the motion type for a given motion, and we have ground truth labels for what motions the subjects are performing. Let's calculate the accuracy of your heuristic using this function!\n",
    "\n",
    "The data set contains 10 subjects (1 through 10) that perform 10 runs (1 through 10) of each motion type (snap, high five, and clap). You can use three nested for loops (one for participant number, one for run number, one for motion ID) to iterate through each of the motion observations and guess the motion type.\n",
    "\n",
    "We expect to see accuracies above 75%, and accuracies above 90% are possible."
   ]
  },
  {
   "cell_type": "code",
   "execution_count": 31,
   "metadata": {
    "tags": [
     "otter_answer_cell"
    ]
   },
   "outputs": [
    {
     "name": "stdout",
     "output_type": "stream",
     "text": [
      "guess_motion_type is 90.66666666666666% accurate\n"
     ]
    }
   ],
   "source": [
    "# TODO: Produce a numpy array that contains a row with 4 columns containing subject number, run number, actual motion, and guessed motion\n",
    "accuracy_info = np.zeros((3*10*10, 4))\n",
    "\n",
    "# TODO: Count the number of correct and incorrect guesses.\n",
    "# Hint: np.where is useful here.\n",
    "correct_count = 0\n",
    "incorrect_count = 0\n",
    "\n",
    "\n",
    "num_participant = 10\n",
    "run_number = 10\n",
    "motion_ids = 3\n",
    "i = 0\n",
    "\n",
    "for participant in range(num_participant): #loop through each participant \n",
    "    for run in range(run_number): #loop through each run\n",
    "        for motion in range(motion_ids): #loop through each motion type\n",
    "            data = filter_data_set(all_data, participant+1, run+1, motion+1) #filtering data for specific subject and run\n",
    "\n",
    "            #getting data for each accelerometer\n",
    "            lh_accel_data = get_channel_data(data, lh_accelerometer_descriptor[\"index_offset\"], lh_accelerometer_descriptor[\"dimensions\"])\n",
    "            rh_accel_data = get_channel_data(data, rh_accelerometer_descriptor[\"index_offset\"], rh_accelerometer_descriptor[\"dimensions\"])\n",
    "\n",
    "            #calculating rms\n",
    "            lh_accel_rms = rms(lh_accel_data)\n",
    "            rh_accel_rms = rms(rh_accel_data)\n",
    "\n",
    "            #guessing motion type\n",
    "            guess = guess_motion_type(lh_accel_rms, rh_accel_rms)\n",
    "\n",
    "            #storing guess and accuracy information\n",
    "            accuracy_info[i] = [participant, run, motion+1, guess]\n",
    "\n",
    "            i += 1\n",
    "            \n",
    "correct_count = len(np.where(accuracy_info[:, -2] == accuracy_info[:, -1])[0])\n",
    "incorrect_count = len(np.where(accuracy_info[:, -2] != accuracy_info[:, -1])[0])\n",
    "\n",
    "\n",
    "# TODO: Use correct_count and incorrect_count to calculate accuracy\n",
    "# Hint: You will need to do conversions to floats to avoid doing integer division.\n",
    "accuracy = correct_count / (incorrect_count + correct_count)\n",
    "\n",
    "print(f'guess_motion_type is {accuracy * 100}% accurate')"
   ]
  },
  {
   "cell_type": "code",
   "execution_count": 32,
   "metadata": {
    "deletable": false,
    "editable": false
   },
   "outputs": [
    {
     "data": {
      "text/html": [
       "<p><strong><pre style='display: inline;'>calculate_accuracy</pre></strong> passed! 🌟</p>"
      ],
      "text/plain": [
       "calculate_accuracy results: All test cases passed!"
      ]
     },
     "execution_count": 32,
     "metadata": {},
     "output_type": "execute_result"
    }
   ],
   "source": [
    "grader.check(\"calculate_accuracy\")"
   ]
  },
  {
   "cell_type": "markdown",
   "metadata": {
    "deletable": false,
    "editable": false
   },
   "source": [
    "## Week 3, problem 4: Find the \"worst\" subject\n",
    "\n",
    "Which subject does your heuristic perform the worst on?"
   ]
  },
  {
   "cell_type": "code",
   "execution_count": 33,
   "metadata": {
    "tags": [
     "otter_answer_cell"
    ]
   },
   "outputs": [
    {
     "name": "stdout",
     "output_type": "stream",
     "text": [
      "guess_motion_type performed worst on subject [4]\n"
     ]
    }
   ],
   "source": [
    "# TODO: Populate a numpy array with one entry per subject, counting the number of \n",
    "# incorrect motion type predictions.\n",
    "num_participants = 10\n",
    "incorrect_by_subject = np.zeros(num_participants)\n",
    "\n",
    "for row in accuracy_info:\n",
    "    subject = int(row[0]) #pulls subject id for indexing into incorrect_by_subject\n",
    "    guess = int(row[-1]) #pulls motion guess\n",
    "    motion_type = int(row[-2]) #pulls motion type\n",
    "\n",
    "    if guess != motion_type: #compares motion type\n",
    "        incorrect_by_subject[subject] += 1 #increments index representing the subject\n",
    "\n",
    "# TODO: Use incorrect_by_subject to determine the subject number that guess_motion_type\n",
    "# performed worst on.\n",
    "# Hint: find_row_with_value might be useful here.\n",
    "worst_subject_number = np.where(incorrect_by_subject == np.max(incorrect_by_subject))[0] + 1\n",
    "\n",
    "print(f'guess_motion_type performed worst on subject {worst_subject_number}')"
   ]
  },
  {
   "cell_type": "code",
   "execution_count": 34,
   "metadata": {
    "deletable": false,
    "editable": false
   },
   "outputs": [
    {
     "data": {
      "text/html": [
       "<p><strong><pre style='display: inline;'>worst_subject</pre></strong> passed! 🍀</p>"
      ],
      "text/plain": [
       "worst_subject results: All test cases passed!"
      ]
     },
     "execution_count": 34,
     "metadata": {},
     "output_type": "execute_result"
    }
   ],
   "source": [
    "grader.check(\"worst_subject\")"
   ]
  },
  {
   "cell_type": "markdown",
   "metadata": {
    "deletable": false,
    "editable": false
   },
   "source": [
    "## Hours and collaborators\n",
    "Required for every assignment - fill out before you hand-in.\n",
    "\n",
    "Listing names and websites helps you to document who you worked with and what internet help you received in the case of any plagiarism issues. You should list names of anyone (in class or not) who has substantially helped you with an assignment - or anyone you have *helped*. You do not need to list TAs.\n",
    "\n",
    "Listing hours helps us track if the assignments are too long."
   ]
  },
  {
   "cell_type": "code",
   "execution_count": 35,
   "metadata": {
    "tags": [
     "otter_answer_cell"
    ]
   },
   "outputs": [],
   "source": [
    "\n",
    "# List of names (creates a set)\n",
    "worked_with_names = {\"N/A\"}\n",
    "# List of URLS 2S5 (creates a set)\n",
    "websites = {\"https://numpy.org/doc/stable/reference/generated/numpy.ndarray.astype.html, https://numpy.org/doc/stable/reference/generated/numpy.mean.html, https://numpy.org/doc/stable/reference/generated/numpy.any.html, https://numpy.org/doc/stable/reference/generated/numpy.isclose.html,\"}\n",
    "# Approximate number of hours, including lab/in-class time\n",
    "hours = 4"
   ]
  },
  {
   "cell_type": "code",
   "execution_count": 36,
   "metadata": {
    "deletable": false,
    "editable": false
   },
   "outputs": [
    {
     "data": {
      "text/html": [
       "<p><strong><pre style='display: inline;'>hours_collaborators</pre></strong> passed! ✨</p>"
      ],
      "text/plain": [
       "hours_collaborators results: All test cases passed!"
      ]
     },
     "execution_count": 36,
     "metadata": {},
     "output_type": "execute_result"
    }
   ],
   "source": [
    "grader.check(\"hours_collaborators\")"
   ]
  },
  {
   "cell_type": "markdown",
   "metadata": {},
   "source": [
    "### To submit\n",
    "\n",
    "- Do a restart then run all to make sure everything runs ok\n",
    "- Remove excessive print statements - don't make us search through pages of numbers to find your plots\n",
    "- Save the file\n",
    "- Submit just this .ipynb file through gradescope, HWK1 numpy and Plotting\n",
    "- You do NOT need to submit the data files - we will supply those\n",
    "\n",
    "If the Gradescope autograder fails, please check here first for common reasons for it to fail\n",
    "    https://docs.google.com/presentation/d/1tYa5oycUiG4YhXUq5vHvPOpWJ4k_xUPp2rUNIL7Q9RI/edit?usp=sharing\n",
    "\n",
    "Most likely failure for this assignment is not naming the data directory and files correctly; capitalization matters for the Gradescope grader. "
   ]
  }
 ],
 "metadata": {
  "kernelspec": {
   "display_name": ".venv",
   "language": "python",
   "name": "python3"
  },
  "language_info": {
   "codemirror_mode": {
    "name": "ipython",
    "version": 3
   },
   "file_extension": ".py",
   "mimetype": "text/x-python",
   "name": "python",
   "nbconvert_exporter": "python",
   "pygments_lexer": "ipython3",
   "version": "3.12.7"
  },
  "otter": {
   "OK_FORMAT": true,
   "tests": {
    "calculate_accuracy": {
     "name": "calculate_accuracy",
     "points": 3,
     "suites": [
      {
       "cases": [
        {
         "code": ">>> assert accuracy >= 0.75\n",
         "hidden": false,
         "locked": false
        },
        {
         "code": ">>> assert np.isclose(accuracy, float(correct_count) / float(correct_count + incorrect_count))\n",
         "hidden": false,
         "locked": false
        },
        {
         "code": ">>> assert correct_count == len(np.where(accuracy_info[:, -2] == accuracy_info[:, -1])[0])\n",
         "hidden": false,
         "locked": false
        },
        {
         "code": ">>> assert incorrect_count == len(np.where(accuracy_info[:, -2] != accuracy_info[:, -1])[0])\n",
         "hidden": false,
         "locked": false
        }
       ],
       "scored": true,
       "setup": "",
       "teardown": "",
       "type": "doctest"
      }
     ]
    },
    "calculate_rms": {
     "name": "calculate_rms",
     "points": 3,
     "suites": [
      {
       "cases": [
        {
         "code": ">>> assert np.isclose(test_array_rms[0], 2.1602469, atol=0.001)\n",
         "hidden": false,
         "locked": false
        },
        {
         "code": ">>> assert np.isclose(test_array_rms[1], 5.06622805, atol=0.001)\n",
         "hidden": false,
         "locked": false
        },
        {
         "code": ">>> assert np.isclose(lh_accelerometer_rms_check[0], 0.9700343636524773, atol=0.001)\n",
         "hidden": false,
         "locked": false
        },
        {
         "code": ">>> assert np.isclose(lh_accelerometer_rms_check[-1], 0.1439907, atol=0.001)\n",
         "hidden": false,
         "locked": false
        },
        {
         "code": ">>> assert np.isclose(rh_accelerometer_rms_check[0], 0.8847033, atol=0.001)\n",
         "hidden": false,
         "locked": false
        },
        {
         "code": ">>> assert np.isclose(rh_accelerometer_rms_check[-1], 0.522844, atol=0.001)\n",
         "hidden": false,
         "locked": false
        }
       ],
       "scored": true,
       "setup": "",
       "teardown": "",
       "type": "doctest"
      }
     ]
    },
    "determine_motion_type": {
     "name": "determine_motion_type",
     "points": 5,
     "suites": [
      {
       "cases": [
        {
         "code": ">>> assert snap_id == guess_motion_type(rms(s3s4_snap_lh_accelerometer_data), rms(s3s4_snap_rh_accelerometer_data))\n",
         "hidden": false,
         "locked": false
        }
       ],
       "scored": true,
       "setup": "",
       "teardown": "",
       "type": "doctest"
      }
     ]
    },
    "filter_data_set": {
     "name": "filter_data_set",
     "points": 3,
     "suites": [
      {
       "cases": [
        {
         "code": ">>> assert np.isclose(s3s4_snap_data[0, 0], 38888.0)\n",
         "hidden": false,
         "locked": false
        },
        {
         "code": ">>> assert np.isclose(s3s4_snap_data[0, -1], 3.0)\n",
         "hidden": false,
         "locked": false
        },
        {
         "code": ">>> assert np.isclose(s3s4_snap_data[-1, 0], 39338.0)\n",
         "hidden": false,
         "locked": false
        },
        {
         "code": ">>> assert np.isclose(s3s4_snap_data[-1, -1], 3.0)\n",
         "hidden": false,
         "locked": false
        }
       ],
       "scored": true,
       "setup": "",
       "teardown": "",
       "type": "doctest"
      }
     ]
    },
    "filter_function": {
     "name": "filter_function",
     "points": 1,
     "suites": [
      {
       "cases": [
        {
         "code": ">>> assert np.allclose(filter_data_set(full_dataset, 3, 4, snap_id), s3s4_snap_data)\n",
         "hidden": false,
         "locked": false
        }
       ],
       "scored": true,
       "setup": "",
       "teardown": "",
       "type": "doctest"
      }
     ]
    },
    "hours_collaborators": {
     "name": "hours_collaborators",
     "points": 1,
     "suites": [
      {
       "cases": [
        {
         "code": ">>> assert not 'not filled out' in worked_with_names\n",
         "hidden": false,
         "locked": false
        },
        {
         "code": ">>> assert not 'not filled out' in websites\n",
         "hidden": false,
         "locked": false
        },
        {
         "code": ">>> assert hours > 0\n",
         "hidden": false,
         "locked": false
        }
       ],
       "scored": true,
       "setup": "",
       "teardown": "",
       "type": "doctest"
      }
     ]
    },
    "libraries": {
     "name": "libraries",
     "points": 2,
     "suites": [
      {
       "cases": [
        {
         "code": ">>> assert np.min(np.zeros((2, 2)) == 0.0)\n",
         "hidden": false,
         "locked": false
        },
        {
         "code": ">>> assert json.loads('10') == 10\n",
         "hidden": false,
         "locked": false
        }
       ],
       "scored": true,
       "setup": "",
       "teardown": "",
       "type": "doctest"
      }
     ]
    },
    "peak_and_valley": {
     "name": "peak_and_valley",
     "points": 3,
     "suites": [
      {
       "cases": [
        {
         "code": ">>> assert find_row_with_value(find_row_with_value_test_array, 6) == 0\n",
         "hidden": false,
         "locked": false
        },
        {
         "code": ">>> assert find_row_with_value(find_row_with_value_test_array, 7) == 1\n",
         "hidden": false,
         "locked": false
        },
        {
         "code": ">>> assert find_row_with_value(find_row_with_value_test_array, 5) == 4\n",
         "hidden": false,
         "locked": false
        },
        {
         "code": ">>> assert np.isclose(s3s4_snap_rh_accelerometer_z_min, -3.56)\n",
         "hidden": false,
         "locked": false
        },
        {
         "code": ">>> assert np.isclose(s3s4_snap_rh_accelerometer_z_max, 3.24)\n",
         "hidden": false,
         "locked": false
        },
        {
         "code": ">>> assert s3s4_snap_rh_accelerometer_z_min_index == 47\n",
         "hidden": false,
         "locked": false
        },
        {
         "code": ">>> assert s3s4_snap_rh_accelerometer_z_max_index == 46\n",
         "hidden": false,
         "locked": false
        }
       ],
       "scored": true,
       "setup": "",
       "teardown": "",
       "type": "doctest"
      }
     ]
    },
    "read_data": {
     "name": "read_data",
     "points": 2,
     "suites": [
      {
       "cases": [
        {
         "code": ">>> assert full_dataset.shape == (31502, 16)\n",
         "hidden": false,
         "locked": false
        },
        {
         "code": ">>> assert len(data_description['data_channels']) == 8\n",
         "hidden": false,
         "locked": false
        }
       ],
       "scored": true,
       "setup": "",
       "teardown": "",
       "type": "doctest"
      }
     ]
    },
    "worst_subject": {
     "name": "worst_subject",
     "points": 3,
     "suites": [
      {
       "cases": [
        {
         "code": ">>> assert worst_subject_number > 0\n",
         "hidden": false,
         "locked": false
        },
        {
         "code": ">>> assert worst_subject_number <= 10\n",
         "hidden": false,
         "locked": false
        },
        {
         "code": ">>> assert find_row_with_value(incorrect_by_subject, np.max(incorrect_by_subject)) == worst_subject_number - 1\n",
         "hidden": false,
         "locked": false
        }
       ],
       "scored": true,
       "setup": "",
       "teardown": "",
       "type": "doctest"
      }
     ]
    }
   }
  }
 },
 "nbformat": 4,
 "nbformat_minor": 2
}
